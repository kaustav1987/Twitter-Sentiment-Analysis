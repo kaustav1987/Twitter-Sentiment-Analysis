{
 "cells": [
  {
   "cell_type": "markdown",
   "metadata": {},
   "source": [
    "### Twitter Sentiment Analysis"
   ]
  },
  {
   "cell_type": "markdown",
   "metadata": {},
   "source": [
    "In this project I have done analysis on Twitter Sentiment  Data. The data is taken from http://cs.stanford.edu"
   ]
  },
  {
   "cell_type": "markdown",
   "metadata": {},
   "source": [
    "<img src='img.png' width=80% />"
   ]
  },
  {
   "cell_type": "code",
   "execution_count": 1,
   "metadata": {},
   "outputs": [],
   "source": [
    "%matplotlib inline"
   ]
  },
  {
   "cell_type": "code",
   "execution_count": 2,
   "metadata": {},
   "outputs": [],
   "source": [
    "import pandas as pd\n",
    "import numpy as np\n",
    "import matplotlib.pyplot as plt\n",
    "import seaborn as sns\n",
    "\n",
    "%matplotlib inline"
   ]
  },
  {
   "cell_type": "code",
   "execution_count": 3,
   "metadata": {
    "scrolled": true
   },
   "outputs": [],
   "source": [
    "columns = ['sentiment','id', 'date', 'query', 'user','text']\n",
    "\n",
    "df = pd.read_csv('training.1600000.processed.noemoticon.csv',names = columns,encoding = \"ISO-8859-1\")"
   ]
  },
  {
   "cell_type": "code",
   "execution_count": 4,
   "metadata": {},
   "outputs": [
    {
     "data": {
      "text/html": [
       "<div>\n",
       "<style scoped>\n",
       "    .dataframe tbody tr th:only-of-type {\n",
       "        vertical-align: middle;\n",
       "    }\n",
       "\n",
       "    .dataframe tbody tr th {\n",
       "        vertical-align: top;\n",
       "    }\n",
       "\n",
       "    .dataframe thead th {\n",
       "        text-align: right;\n",
       "    }\n",
       "</style>\n",
       "<table border=\"1\" class=\"dataframe\">\n",
       "  <thead>\n",
       "    <tr style=\"text-align: right;\">\n",
       "      <th></th>\n",
       "      <th>sentiment</th>\n",
       "      <th>id</th>\n",
       "      <th>date</th>\n",
       "      <th>query</th>\n",
       "      <th>user</th>\n",
       "      <th>text</th>\n",
       "    </tr>\n",
       "  </thead>\n",
       "  <tbody>\n",
       "    <tr>\n",
       "      <th>0</th>\n",
       "      <td>0</td>\n",
       "      <td>1467810369</td>\n",
       "      <td>Mon Apr 06 22:19:45 PDT 2009</td>\n",
       "      <td>NO_QUERY</td>\n",
       "      <td>_TheSpecialOne_</td>\n",
       "      <td>@switchfoot http://twitpic.com/2y1zl - Awww, t...</td>\n",
       "    </tr>\n",
       "    <tr>\n",
       "      <th>1</th>\n",
       "      <td>0</td>\n",
       "      <td>1467810672</td>\n",
       "      <td>Mon Apr 06 22:19:49 PDT 2009</td>\n",
       "      <td>NO_QUERY</td>\n",
       "      <td>scotthamilton</td>\n",
       "      <td>is upset that he can't update his Facebook by ...</td>\n",
       "    </tr>\n",
       "    <tr>\n",
       "      <th>2</th>\n",
       "      <td>0</td>\n",
       "      <td>1467810917</td>\n",
       "      <td>Mon Apr 06 22:19:53 PDT 2009</td>\n",
       "      <td>NO_QUERY</td>\n",
       "      <td>mattycus</td>\n",
       "      <td>@Kenichan I dived many times for the ball. Man...</td>\n",
       "    </tr>\n",
       "    <tr>\n",
       "      <th>3</th>\n",
       "      <td>0</td>\n",
       "      <td>1467811184</td>\n",
       "      <td>Mon Apr 06 22:19:57 PDT 2009</td>\n",
       "      <td>NO_QUERY</td>\n",
       "      <td>ElleCTF</td>\n",
       "      <td>my whole body feels itchy and like its on fire</td>\n",
       "    </tr>\n",
       "    <tr>\n",
       "      <th>4</th>\n",
       "      <td>0</td>\n",
       "      <td>1467811193</td>\n",
       "      <td>Mon Apr 06 22:19:57 PDT 2009</td>\n",
       "      <td>NO_QUERY</td>\n",
       "      <td>Karoli</td>\n",
       "      <td>@nationwideclass no, it's not behaving at all....</td>\n",
       "    </tr>\n",
       "    <tr>\n",
       "      <th>5</th>\n",
       "      <td>0</td>\n",
       "      <td>1467811372</td>\n",
       "      <td>Mon Apr 06 22:20:00 PDT 2009</td>\n",
       "      <td>NO_QUERY</td>\n",
       "      <td>joy_wolf</td>\n",
       "      <td>@Kwesidei not the whole crew</td>\n",
       "    </tr>\n",
       "    <tr>\n",
       "      <th>6</th>\n",
       "      <td>0</td>\n",
       "      <td>1467811592</td>\n",
       "      <td>Mon Apr 06 22:20:03 PDT 2009</td>\n",
       "      <td>NO_QUERY</td>\n",
       "      <td>mybirch</td>\n",
       "      <td>Need a hug</td>\n",
       "    </tr>\n",
       "    <tr>\n",
       "      <th>7</th>\n",
       "      <td>0</td>\n",
       "      <td>1467811594</td>\n",
       "      <td>Mon Apr 06 22:20:03 PDT 2009</td>\n",
       "      <td>NO_QUERY</td>\n",
       "      <td>coZZ</td>\n",
       "      <td>@LOLTrish hey  long time no see! Yes.. Rains a...</td>\n",
       "    </tr>\n",
       "    <tr>\n",
       "      <th>8</th>\n",
       "      <td>0</td>\n",
       "      <td>1467811795</td>\n",
       "      <td>Mon Apr 06 22:20:05 PDT 2009</td>\n",
       "      <td>NO_QUERY</td>\n",
       "      <td>2Hood4Hollywood</td>\n",
       "      <td>@Tatiana_K nope they didn't have it</td>\n",
       "    </tr>\n",
       "    <tr>\n",
       "      <th>9</th>\n",
       "      <td>0</td>\n",
       "      <td>1467812025</td>\n",
       "      <td>Mon Apr 06 22:20:09 PDT 2009</td>\n",
       "      <td>NO_QUERY</td>\n",
       "      <td>mimismo</td>\n",
       "      <td>@twittera que me muera ?</td>\n",
       "    </tr>\n",
       "  </tbody>\n",
       "</table>\n",
       "</div>"
      ],
      "text/plain": [
       "   sentiment          id                          date     query  \\\n",
       "0          0  1467810369  Mon Apr 06 22:19:45 PDT 2009  NO_QUERY   \n",
       "1          0  1467810672  Mon Apr 06 22:19:49 PDT 2009  NO_QUERY   \n",
       "2          0  1467810917  Mon Apr 06 22:19:53 PDT 2009  NO_QUERY   \n",
       "3          0  1467811184  Mon Apr 06 22:19:57 PDT 2009  NO_QUERY   \n",
       "4          0  1467811193  Mon Apr 06 22:19:57 PDT 2009  NO_QUERY   \n",
       "5          0  1467811372  Mon Apr 06 22:20:00 PDT 2009  NO_QUERY   \n",
       "6          0  1467811592  Mon Apr 06 22:20:03 PDT 2009  NO_QUERY   \n",
       "7          0  1467811594  Mon Apr 06 22:20:03 PDT 2009  NO_QUERY   \n",
       "8          0  1467811795  Mon Apr 06 22:20:05 PDT 2009  NO_QUERY   \n",
       "9          0  1467812025  Mon Apr 06 22:20:09 PDT 2009  NO_QUERY   \n",
       "\n",
       "              user                                               text  \n",
       "0  _TheSpecialOne_  @switchfoot http://twitpic.com/2y1zl - Awww, t...  \n",
       "1    scotthamilton  is upset that he can't update his Facebook by ...  \n",
       "2         mattycus  @Kenichan I dived many times for the ball. Man...  \n",
       "3          ElleCTF    my whole body feels itchy and like its on fire   \n",
       "4           Karoli  @nationwideclass no, it's not behaving at all....  \n",
       "5         joy_wolf                      @Kwesidei not the whole crew   \n",
       "6          mybirch                                        Need a hug   \n",
       "7             coZZ  @LOLTrish hey  long time no see! Yes.. Rains a...  \n",
       "8  2Hood4Hollywood               @Tatiana_K nope they didn't have it   \n",
       "9          mimismo                          @twittera que me muera ?   "
      ]
     },
     "execution_count": 4,
     "metadata": {},
     "output_type": "execute_result"
    }
   ],
   "source": [
    "df.head(10)"
   ]
  },
  {
   "cell_type": "code",
   "execution_count": 5,
   "metadata": {},
   "outputs": [
    {
     "data": {
      "text/plain": [
       "4    800000\n",
       "0    800000\n",
       "Name: sentiment, dtype: int64"
      ]
     },
     "execution_count": 5,
     "metadata": {},
     "output_type": "execute_result"
    }
   ],
   "source": [
    "df['sentiment'].value_counts()"
   ]
  },
  {
   "cell_type": "markdown",
   "metadata": {},
   "source": [
    "###### There are 1.6 million of tweets.\n",
    "\n",
    ".8 Million Negetive reviews (with label 0)\n",
    ".8 Million Positive reviews (with label 4)\n",
    "\n",
    "So the data is perfectly balanced. "
   ]
  },
  {
   "cell_type": "markdown",
   "metadata": {},
   "source": [
    "For this project I need just the text column and the sentiment columns for my analysis"
   ]
  },
  {
   "cell_type": "code",
   "execution_count": 6,
   "metadata": {},
   "outputs": [],
   "source": [
    "df = df[['sentiment', 'text']]"
   ]
  },
  {
   "cell_type": "code",
   "execution_count": 7,
   "metadata": {},
   "outputs": [
    {
     "data": {
      "text/plain": [
       "sentiment    0\n",
       "text         0\n",
       "dtype: int64"
      ]
     },
     "execution_count": 7,
     "metadata": {},
     "output_type": "execute_result"
    }
   ],
   "source": [
    "df.isnull().sum()"
   ]
  },
  {
   "cell_type": "markdown",
   "metadata": {},
   "source": [
    "Great there are no NULL columns in my data"
   ]
  },
  {
   "cell_type": "code",
   "execution_count": 8,
   "metadata": {},
   "outputs": [],
   "source": [
    "##Lets look at the length of the twitter text\n",
    "\n",
    "df['pre_length'] = [len(comments) for comments in df['text']]"
   ]
  },
  {
   "cell_type": "code",
   "execution_count": 9,
   "metadata": {},
   "outputs": [
    {
     "name": "stdout",
     "output_type": "stream",
     "text": [
      "Maximum Length 374\n",
      "Minimum Length 6\n",
      "Mean Length    74.09011125\n",
      "Mode Length    0    138\n",
      "dtype: int64\n"
     ]
    }
   ],
   "source": [
    "print('Maximum Length',df['pre_length'].max())\n",
    "print('Minimum Length',df['pre_length'].min())\n",
    "\n",
    "print('Mean Length   ', df['pre_length'].mean())\n",
    "print('Mode Length   ',df['pre_length'].mode())"
   ]
  },
  {
   "cell_type": "code",
   "execution_count": 10,
   "metadata": {},
   "outputs": [
    {
     "data": {
      "text/plain": [
       "count    1.600000e+06\n",
       "mean     7.409011e+01\n",
       "std      3.644114e+01\n",
       "min      6.000000e+00\n",
       "5%       2.200000e+01\n",
       "25%      4.400000e+01\n",
       "50%      6.900000e+01\n",
       "75%      1.040000e+02\n",
       "95%      1.360000e+02\n",
       "98%      1.380000e+02\n",
       "99%      1.410000e+02\n",
       "max      3.740000e+02\n",
       "Name: pre_length, dtype: float64"
      ]
     },
     "execution_count": 10,
     "metadata": {},
     "output_type": "execute_result"
    }
   ],
   "source": [
    "df['pre_length'].describe(percentiles = [0.05, .25, .5, .75, .95, .98, .99])"
   ]
  },
  {
   "cell_type": "code",
   "execution_count": 11,
   "metadata": {},
   "outputs": [
    {
     "data": {
      "text/plain": [
       "sentiment     13580\n",
       "text          13580\n",
       "pre_length    13580\n",
       "dtype: int64"
      ]
     },
     "execution_count": 11,
     "metadata": {},
     "output_type": "execute_result"
    }
   ],
   "source": [
    "df[df['pre_length'] > 141].count()"
   ]
  },
  {
   "cell_type": "markdown",
   "metadata": {},
   "source": [
    "98%-99% of twitter text is of length <= 138-141\n",
    "\n",
    "1% of the twitter text data is long"
   ]
  },
  {
   "cell_type": "code",
   "execution_count": 12,
   "metadata": {},
   "outputs": [
    {
     "data": {
      "image/png": "[encoded data removed]",
      "text/plain": [
       "<Figure size 288x432 with 1 Axes>"
      ]
     },
     "metadata": {
      "needs_background": "light"
     },
     "output_type": "display_data"
    }
   ],
   "source": [
    "fig, ax = plt.subplots(figsize = (4,6))\n",
    "sns.boxplot(y=df['pre_length'])\n",
    "plt.ylabel('Twitter Length')\n",
    "plt.show()"
   ]
  },
  {
   "cell_type": "code",
   "execution_count": 13,
   "metadata": {},
   "outputs": [],
   "source": [
    "## Lets see some of the long twitter comments "
   ]
  },
  {
   "cell_type": "code",
   "execution_count": 14,
   "metadata": {},
   "outputs": [
    {
     "data": {
      "text/html": [
       "<div>\n",
       "<style scoped>\n",
       "    .dataframe tbody tr th:only-of-type {\n",
       "        vertical-align: middle;\n",
       "    }\n",
       "\n",
       "    .dataframe tbody tr th {\n",
       "        vertical-align: top;\n",
       "    }\n",
       "\n",
       "    .dataframe thead th {\n",
       "        text-align: right;\n",
       "    }\n",
       "</style>\n",
       "<table border=\"1\" class=\"dataframe\">\n",
       "  <thead>\n",
       "    <tr style=\"text-align: right;\">\n",
       "      <th></th>\n",
       "      <th>sentiment</th>\n",
       "      <th>text</th>\n",
       "      <th>pre_length</th>\n",
       "    </tr>\n",
       "  </thead>\n",
       "  <tbody>\n",
       "    <tr>\n",
       "      <th>213</th>\n",
       "      <td>0</td>\n",
       "      <td>Awwh babs... you look so sad underneith that s...</td>\n",
       "      <td>142</td>\n",
       "    </tr>\n",
       "    <tr>\n",
       "      <th>279</th>\n",
       "      <td>0</td>\n",
       "      <td>Whinging. My client&amp;amp;boss don't understand ...</td>\n",
       "      <td>145</td>\n",
       "    </tr>\n",
       "    <tr>\n",
       "      <th>343</th>\n",
       "      <td>0</td>\n",
       "      <td>@TheLeagueSF Not Fun &amp;amp; Furious? The new ma...</td>\n",
       "      <td>145</td>\n",
       "    </tr>\n",
       "    <tr>\n",
       "      <th>400</th>\n",
       "      <td>0</td>\n",
       "      <td>#3 woke up and was having an accident - &amp;quot;...</td>\n",
       "      <td>144</td>\n",
       "    </tr>\n",
       "    <tr>\n",
       "      <th>464</th>\n",
       "      <td>0</td>\n",
       "      <td>My bathtub drain is fired: it haz 1 job 2 do, ...</td>\n",
       "      <td>146</td>\n",
       "    </tr>\n",
       "    <tr>\n",
       "      <th>492</th>\n",
       "      <td>0</td>\n",
       "      <td>pears &amp;amp; Brie, bottle of Cabernet, and &amp;quo...</td>\n",
       "      <td>150</td>\n",
       "    </tr>\n",
       "    <tr>\n",
       "      <th>1071</th>\n",
       "      <td>0</td>\n",
       "      <td>Used the term &amp;quot;Fail Whale&amp;quot; to a clie...</td>\n",
       "      <td>148</td>\n",
       "    </tr>\n",
       "    <tr>\n",
       "      <th>1380</th>\n",
       "      <td>0</td>\n",
       "      <td>@Craftysince1990 Lol, that's sweet! I bought t...</td>\n",
       "      <td>144</td>\n",
       "    </tr>\n",
       "    <tr>\n",
       "      <th>1704</th>\n",
       "      <td>0</td>\n",
       "      <td>@ktml I think its iTunes fault I cant download...</td>\n",
       "      <td>145</td>\n",
       "    </tr>\n",
       "    <tr>\n",
       "      <th>1745</th>\n",
       "      <td>0</td>\n",
       "      <td>I am layin in bed @ 3am cos my tummy is beatbo...</td>\n",
       "      <td>147</td>\n",
       "    </tr>\n",
       "    <tr>\n",
       "      <th>1767</th>\n",
       "      <td>0</td>\n",
       "      <td>tks pa 4 &amp;quot;tapauing&amp;quot; croissant tuna k...</td>\n",
       "      <td>152</td>\n",
       "    </tr>\n",
       "    <tr>\n",
       "      <th>1939</th>\n",
       "      <td>0</td>\n",
       "      <td>@msJodiOdie its such a sad situation. Though 1...</td>\n",
       "      <td>142</td>\n",
       "    </tr>\n",
       "    <tr>\n",
       "      <th>2210</th>\n",
       "      <td>0</td>\n",
       "      <td>@MsTyraC lol yea I thought about tht ..sowey  ...</td>\n",
       "      <td>142</td>\n",
       "    </tr>\n",
       "    <tr>\n",
       "      <th>2432</th>\n",
       "      <td>0</td>\n",
       "      <td>will have a meeting in an hour to explain &amp;quo...</td>\n",
       "      <td>147</td>\n",
       "    </tr>\n",
       "    <tr>\n",
       "      <th>2487</th>\n",
       "      <td>0</td>\n",
       "      <td>flat out today didnt get everythin done &amp;amp; ...</td>\n",
       "      <td>146</td>\n",
       "    </tr>\n",
       "  </tbody>\n",
       "</table>\n",
       "</div>"
      ],
      "text/plain": [
       "      sentiment                                               text  pre_length\n",
       "213           0  Awwh babs... you look so sad underneith that s...         142\n",
       "279           0  Whinging. My client&amp;boss don't understand ...         145\n",
       "343           0  @TheLeagueSF Not Fun &amp; Furious? The new ma...         145\n",
       "400           0  #3 woke up and was having an accident - &quot;...         144\n",
       "464           0  My bathtub drain is fired: it haz 1 job 2 do, ...         146\n",
       "492           0  pears &amp; Brie, bottle of Cabernet, and &quo...         150\n",
       "1071          0  Used the term &quot;Fail Whale&quot; to a clie...         148\n",
       "1380          0  @Craftysince1990 Lol, that's sweet! I bought t...         144\n",
       "1704          0  @ktml I think its iTunes fault I cant download...         145\n",
       "1745          0  I am layin in bed @ 3am cos my tummy is beatbo...         147\n",
       "1767          0  tks pa 4 &quot;tapauing&quot; croissant tuna k...         152\n",
       "1939          0  @msJodiOdie its such a sad situation. Though 1...         142\n",
       "2210          0  @MsTyraC lol yea I thought about tht ..sowey  ...         142\n",
       "2432          0  will have a meeting in an hour to explain &quo...         147\n",
       "2487          0  flat out today didnt get everythin done &amp; ...         146"
      ]
     },
     "execution_count": 14,
     "metadata": {},
     "output_type": "execute_result"
    }
   ],
   "source": [
    "df[(df['pre_length'] > 141) & (df['sentiment'] == 0)].head(15)"
   ]
  },
  {
   "cell_type": "code",
   "execution_count": 15,
   "metadata": {},
   "outputs": [
    {
     "data": {
      "text/html": [
       "<div>\n",
       "<style scoped>\n",
       "    .dataframe tbody tr th:only-of-type {\n",
       "        vertical-align: middle;\n",
       "    }\n",
       "\n",
       "    .dataframe tbody tr th {\n",
       "        vertical-align: top;\n",
       "    }\n",
       "\n",
       "    .dataframe thead th {\n",
       "        text-align: right;\n",
       "    }\n",
       "</style>\n",
       "<table border=\"1\" class=\"dataframe\">\n",
       "  <thead>\n",
       "    <tr style=\"text-align: right;\">\n",
       "      <th></th>\n",
       "      <th>sentiment</th>\n",
       "      <th>text</th>\n",
       "      <th>pre_length</th>\n",
       "    </tr>\n",
       "  </thead>\n",
       "  <tbody>\n",
       "    <tr>\n",
       "      <th>800014</th>\n",
       "      <td>4</td>\n",
       "      <td>@LutheranLucciol Make sure you DM me if you po...</td>\n",
       "      <td>144</td>\n",
       "    </tr>\n",
       "    <tr>\n",
       "      <th>800103</th>\n",
       "      <td>4</td>\n",
       "      <td>Just seen the preview for the movie &amp;quot;Obse...</td>\n",
       "      <td>145</td>\n",
       "    </tr>\n",
       "    <tr>\n",
       "      <th>800174</th>\n",
       "      <td>4</td>\n",
       "      <td>@ninasplayground I agree.  My kids got &amp;quot;W...</td>\n",
       "      <td>148</td>\n",
       "    </tr>\n",
       "    <tr>\n",
       "      <th>800228</th>\n",
       "      <td>4</td>\n",
       "      <td>&amp;quot;City of Ember&amp;quot; was AWESOME!!! SO ha...</td>\n",
       "      <td>148</td>\n",
       "    </tr>\n",
       "    <tr>\n",
       "      <th>800252</th>\n",
       "      <td>4</td>\n",
       "      <td>Please?: http://eluts.com/frontstore/Item/ite...</td>\n",
       "      <td>150</td>\n",
       "    </tr>\n",
       "    <tr>\n",
       "      <th>800255</th>\n",
       "      <td>4</td>\n",
       "      <td>@markhoppus hey mark, i want to know if the so...</td>\n",
       "      <td>147</td>\n",
       "    </tr>\n",
       "    <tr>\n",
       "      <th>800261</th>\n",
       "      <td>4</td>\n",
       "      <td>Awwh babs... you look so sad underneith that s...</td>\n",
       "      <td>142</td>\n",
       "    </tr>\n",
       "    <tr>\n",
       "      <th>800315</th>\n",
       "      <td>4</td>\n",
       "      <td>Giant Drag &amp;quot;Wicked Game&amp;quot; ? http://tw...</td>\n",
       "      <td>152</td>\n",
       "    </tr>\n",
       "    <tr>\n",
       "      <th>800333</th>\n",
       "      <td>4</td>\n",
       "      <td>@JonathanRKnight Glad to hear that you had suc...</td>\n",
       "      <td>142</td>\n",
       "    </tr>\n",
       "    <tr>\n",
       "      <th>800377</th>\n",
       "      <td>4</td>\n",
       "      <td>@robgokeemusic I know - I should have made som...</td>\n",
       "      <td>142</td>\n",
       "    </tr>\n",
       "    <tr>\n",
       "      <th>800627</th>\n",
       "      <td>4</td>\n",
       "      <td>@Lee_Knight lmao! thanks Lee XD, would u like ...</td>\n",
       "      <td>142</td>\n",
       "    </tr>\n",
       "    <tr>\n",
       "      <th>800640</th>\n",
       "      <td>4</td>\n",
       "      <td>@JonathanRKnight HOWEVER, I'm NOT turning stat...</td>\n",
       "      <td>142</td>\n",
       "    </tr>\n",
       "    <tr>\n",
       "      <th>800665</th>\n",
       "      <td>4</td>\n",
       "      <td>@WeTheTRAVIS &amp;quot;Don't Speak Liar&amp;quot; is m...</td>\n",
       "      <td>146</td>\n",
       "    </tr>\n",
       "    <tr>\n",
       "      <th>800700</th>\n",
       "      <td>4</td>\n",
       "      <td>@ryuuenx no the other guys you mentioned, haha...</td>\n",
       "      <td>142</td>\n",
       "    </tr>\n",
       "    <tr>\n",
       "      <th>800788</th>\n",
       "      <td>4</td>\n",
       "      <td>TODAY is THE day  Canï¿½t wait to see you Jacq...</td>\n",
       "      <td>144</td>\n",
       "    </tr>\n",
       "  </tbody>\n",
       "</table>\n",
       "</div>"
      ],
      "text/plain": [
       "        sentiment                                               text  \\\n",
       "800014          4  @LutheranLucciol Make sure you DM me if you po...   \n",
       "800103          4  Just seen the preview for the movie &quot;Obse...   \n",
       "800174          4  @ninasplayground I agree.  My kids got &quot;W...   \n",
       "800228          4  &quot;City of Ember&quot; was AWESOME!!! SO ha...   \n",
       "800252          4   Please?: http://eluts.com/frontstore/Item/ite...   \n",
       "800255          4  @markhoppus hey mark, i want to know if the so...   \n",
       "800261          4  Awwh babs... you look so sad underneith that s...   \n",
       "800315          4  Giant Drag &quot;Wicked Game&quot; ? http://tw...   \n",
       "800333          4  @JonathanRKnight Glad to hear that you had suc...   \n",
       "800377          4  @robgokeemusic I know - I should have made som...   \n",
       "800627          4  @Lee_Knight lmao! thanks Lee XD, would u like ...   \n",
       "800640          4  @JonathanRKnight HOWEVER, I'm NOT turning stat...   \n",
       "800665          4  @WeTheTRAVIS &quot;Don't Speak Liar&quot; is m...   \n",
       "800700          4  @ryuuenx no the other guys you mentioned, haha...   \n",
       "800788          4  TODAY is THE day  Canï¿½t wait to see you Jacq...   \n",
       "\n",
       "        pre_length  \n",
       "800014         144  \n",
       "800103         145  \n",
       "800174         148  \n",
       "800228         148  \n",
       "800252         150  \n",
       "800255         147  \n",
       "800261         142  \n",
       "800315         152  \n",
       "800333         142  \n",
       "800377         142  \n",
       "800627         142  \n",
       "800640         142  \n",
       "800665         146  \n",
       "800700         142  \n",
       "800788         144  "
      ]
     },
     "execution_count": 15,
     "metadata": {},
     "output_type": "execute_result"
    }
   ],
   "source": [
    "df[(df['pre_length'] > 141) & (df['sentiment'] == 4)].head(15)"
   ]
  },
  {
   "cell_type": "code",
   "execution_count": 16,
   "metadata": {},
   "outputs": [
    {
     "data": {
      "text/plain": [
       "\"@twista202 I still haven't read the 9th&amp;10th Princess diaries  Saving Francesca made me cry at the end. Hmm those are easy books.\""
      ]
     },
     "execution_count": 16,
     "metadata": {},
     "output_type": "execute_result"
    }
   ],
   "source": [
    "df.iloc[145]['text']"
   ]
  },
  {
   "cell_type": "code",
   "execution_count": 17,
   "metadata": {},
   "outputs": [],
   "source": [
    "## We see the HTMLtags are not converted correctely. We see &amp in the text.\n",
    "\n",
    "## Lets use BeautifulSoup for to resolve this"
   ]
  },
  {
   "cell_type": "code",
   "execution_count": 18,
   "metadata": {
    "collapsed": true
   },
   "outputs": [
    {
     "ename": "KeyboardInterrupt",
     "evalue": "",
     "output_type": "error",
     "traceback": [
      "\u001b[1;31m---------------------------------------------------------------------------\u001b[0m",
      "\u001b[1;31mFileNotFoundError\u001b[0m                         Traceback (most recent call last)",
      "\u001b[1;32m~\\Anaconda3\\envs\\keras\\lib\\genericpath.py\u001b[0m in \u001b[0;36mexists\u001b[1;34m(path)\u001b[0m\n\u001b[0;32m     18\u001b[0m     \u001b[1;32mtry\u001b[0m\u001b[1;33m:\u001b[0m\u001b[1;33m\u001b[0m\u001b[1;33m\u001b[0m\u001b[0m\n\u001b[1;32m---> 19\u001b[1;33m         \u001b[0mos\u001b[0m\u001b[1;33m.\u001b[0m\u001b[0mstat\u001b[0m\u001b[1;33m(\u001b[0m\u001b[0mpath\u001b[0m\u001b[1;33m)\u001b[0m\u001b[1;33m\u001b[0m\u001b[1;33m\u001b[0m\u001b[0m\n\u001b[0m\u001b[0;32m     20\u001b[0m     \u001b[1;32mexcept\u001b[0m \u001b[0mOSError\u001b[0m\u001b[1;33m:\u001b[0m\u001b[1;33m\u001b[0m\u001b[1;33m\u001b[0m\u001b[0m\n",
      "\u001b[1;31mFileNotFoundError\u001b[0m: [WinError 2] The system cannot find the file specified: 'i doubt their going  to play JB on radio one today '",
      "\nDuring handling of the above exception, another exception occurred:\n",
      "\u001b[1;31mKeyboardInterrupt\u001b[0m                         Traceback (most recent call last)",
      "\u001b[1;32m<ipython-input-18-79459428462f>\u001b[0m in \u001b[0;36m<module>\u001b[1;34m\u001b[0m\n\u001b[0;32m      1\u001b[0m \u001b[1;32mfrom\u001b[0m \u001b[0mbs4\u001b[0m \u001b[1;32mimport\u001b[0m \u001b[0mBeautifulSoup\u001b[0m\u001b[1;33m\u001b[0m\u001b[1;33m\u001b[0m\u001b[0m\n\u001b[0;32m      2\u001b[0m \u001b[1;33m\u001b[0m\u001b[0m\n\u001b[1;32m----> 3\u001b[1;33m \u001b[0mcomments\u001b[0m\u001b[1;33m=\u001b[0m \u001b[1;33m[\u001b[0m\u001b[0mBeautifulSoup\u001b[0m\u001b[1;33m(\u001b[0m\u001b[0mcomment\u001b[0m\u001b[1;33m,\u001b[0m\u001b[1;34m'lxml'\u001b[0m\u001b[1;33m)\u001b[0m\u001b[1;33m.\u001b[0m\u001b[0mget_text\u001b[0m\u001b[1;33m(\u001b[0m\u001b[1;33m)\u001b[0m \u001b[1;32mfor\u001b[0m \u001b[0mcomment\u001b[0m \u001b[1;32min\u001b[0m \u001b[0mdf\u001b[0m\u001b[1;33m[\u001b[0m\u001b[1;34m'text'\u001b[0m\u001b[1;33m]\u001b[0m\u001b[1;33m]\u001b[0m\u001b[1;33m\u001b[0m\u001b[1;33m\u001b[0m\u001b[0m\n\u001b[0m",
      "\u001b[1;32m<ipython-input-18-79459428462f>\u001b[0m in \u001b[0;36m<listcomp>\u001b[1;34m(.0)\u001b[0m\n\u001b[0;32m      1\u001b[0m \u001b[1;32mfrom\u001b[0m \u001b[0mbs4\u001b[0m \u001b[1;32mimport\u001b[0m \u001b[0mBeautifulSoup\u001b[0m\u001b[1;33m\u001b[0m\u001b[1;33m\u001b[0m\u001b[0m\n\u001b[0;32m      2\u001b[0m \u001b[1;33m\u001b[0m\u001b[0m\n\u001b[1;32m----> 3\u001b[1;33m \u001b[0mcomments\u001b[0m\u001b[1;33m=\u001b[0m \u001b[1;33m[\u001b[0m\u001b[0mBeautifulSoup\u001b[0m\u001b[1;33m(\u001b[0m\u001b[0mcomment\u001b[0m\u001b[1;33m,\u001b[0m\u001b[1;34m'lxml'\u001b[0m\u001b[1;33m)\u001b[0m\u001b[1;33m.\u001b[0m\u001b[0mget_text\u001b[0m\u001b[1;33m(\u001b[0m\u001b[1;33m)\u001b[0m \u001b[1;32mfor\u001b[0m \u001b[0mcomment\u001b[0m \u001b[1;32min\u001b[0m \u001b[0mdf\u001b[0m\u001b[1;33m[\u001b[0m\u001b[1;34m'text'\u001b[0m\u001b[1;33m]\u001b[0m\u001b[1;33m]\u001b[0m\u001b[1;33m\u001b[0m\u001b[1;33m\u001b[0m\u001b[0m\n\u001b[0m",
      "\u001b[1;32m~\\Anaconda3\\envs\\keras\\lib\\site-packages\\bs4\\__init__.py\u001b[0m in \u001b[0;36m__init__\u001b[1;34m(self, markup, features, builder, parse_only, from_encoding, exclude_encodings, **kwargs)\u001b[0m\n\u001b[0;32m    258\u001b[0m             \u001b[0mis_file\u001b[0m \u001b[1;33m=\u001b[0m \u001b[1;32mFalse\u001b[0m\u001b[1;33m\u001b[0m\u001b[1;33m\u001b[0m\u001b[0m\n\u001b[0;32m    259\u001b[0m             \u001b[1;32mtry\u001b[0m\u001b[1;33m:\u001b[0m\u001b[1;33m\u001b[0m\u001b[1;33m\u001b[0m\u001b[0m\n\u001b[1;32m--> 260\u001b[1;33m                 \u001b[0mis_file\u001b[0m \u001b[1;33m=\u001b[0m \u001b[0mos\u001b[0m\u001b[1;33m.\u001b[0m\u001b[0mpath\u001b[0m\u001b[1;33m.\u001b[0m\u001b[0mexists\u001b[0m\u001b[1;33m(\u001b[0m\u001b[0mpossible_filename\u001b[0m\u001b[1;33m)\u001b[0m\u001b[1;33m\u001b[0m\u001b[1;33m\u001b[0m\u001b[0m\n\u001b[0m\u001b[0;32m    261\u001b[0m             \u001b[1;32mexcept\u001b[0m \u001b[0mException\u001b[0m \u001b[1;32mas\u001b[0m \u001b[0me\u001b[0m\u001b[1;33m:\u001b[0m\u001b[1;33m\u001b[0m\u001b[1;33m\u001b[0m\u001b[0m\n\u001b[0;32m    262\u001b[0m                 \u001b[1;31m# This is almost certainly a problem involving\u001b[0m\u001b[1;33m\u001b[0m\u001b[1;33m\u001b[0m\u001b[1;33m\u001b[0m\u001b[0m\n",
      "\u001b[1;32m~\\Anaconda3\\envs\\keras\\lib\\genericpath.py\u001b[0m in \u001b[0;36mexists\u001b[1;34m(path)\u001b[0m\n\u001b[0;32m     17\u001b[0m     \u001b[1;34m\"\"\"Test whether a path exists.  Returns False for broken symbolic links\"\"\"\u001b[0m\u001b[1;33m\u001b[0m\u001b[1;33m\u001b[0m\u001b[0m\n\u001b[0;32m     18\u001b[0m     \u001b[1;32mtry\u001b[0m\u001b[1;33m:\u001b[0m\u001b[1;33m\u001b[0m\u001b[1;33m\u001b[0m\u001b[0m\n\u001b[1;32m---> 19\u001b[1;33m         \u001b[0mos\u001b[0m\u001b[1;33m.\u001b[0m\u001b[0mstat\u001b[0m\u001b[1;33m(\u001b[0m\u001b[0mpath\u001b[0m\u001b[1;33m)\u001b[0m\u001b[1;33m\u001b[0m\u001b[1;33m\u001b[0m\u001b[0m\n\u001b[0m\u001b[0;32m     20\u001b[0m     \u001b[1;32mexcept\u001b[0m \u001b[0mOSError\u001b[0m\u001b[1;33m:\u001b[0m\u001b[1;33m\u001b[0m\u001b[1;33m\u001b[0m\u001b[0m\n\u001b[0;32m     21\u001b[0m         \u001b[1;32mreturn\u001b[0m \u001b[1;32mFalse\u001b[0m\u001b[1;33m\u001b[0m\u001b[1;33m\u001b[0m\u001b[0m\n",
      "\u001b[1;31mKeyboardInterrupt\u001b[0m: "
     ]
    }
   ],
   "source": [
    "from bs4 import BeautifulSoup\n",
    "\n",
    "comments= [BeautifulSoup(comment,'lxml').get_text() for comment in df['text']]\n"
   ]
  },
  {
   "cell_type": "code",
   "execution_count": null,
   "metadata": {},
   "outputs": [],
   "source": [
    "\n",
    "\n",
    "import re\n",
    "\n",
    "text = re.sub(r'@[A-za-z0-9]+',' ', str(df['text1']))"
   ]
  },
  {
   "cell_type": "code",
   "execution_count": null,
   "metadata": {},
   "outputs": [],
   "source": [
    "df['text']= text"
   ]
  },
  {
   "cell_type": "code",
   "execution_count": null,
   "metadata": {},
   "outputs": [],
   "source": [
    "\n",
    "\n",
    "text= re.sub(r'https?://[a-zA-Z0-9./]+', ' ', str(df['text']))\n",
    "\n",
    "df['text']= text"
   ]
  },
  {
   "cell_type": "code",
   "execution_count": null,
   "metadata": {},
   "outputs": [],
   "source": [
    "#!pip3 install nltk"
   ]
  },
  {
   "cell_type": "code",
   "execution_count": null,
   "metadata": {},
   "outputs": [],
   "source": [
    "#import nltk\n",
    "#nltk.download('punkt')\n",
    "#from nltk.tokenize import word_tokenize"
   ]
  },
  {
   "cell_type": "code",
   "execution_count": 19,
   "metadata": {},
   "outputs": [],
   "source": [
    "import re\n",
    "import contractions\n",
    "\n",
    "\n",
    "def clean_tweets(text):\n",
    "    ## remove the @ mentions in the tweets \n",
    "    pattern1 = r'@[A-za-z0-9_]+'\n",
    "    ## remove http links from the twitter comments\n",
    "    pattern2 = r'https?://[a-zA-Z0-9./]+'\n",
    "    ##remove the www pattern without httpprefix\n",
    "    pattern3 = r'www.[^ ]+'\n",
    "    ## remove all other than letters\n",
    "    pattern4 = r'[^a-zA-Z]'\n",
    "    ## extra spaces\n",
    "    pattern5 =r' +'\n",
    "    ##  1st cleaning\n",
    "    clean_text = BeautifulSoup(text,'lxml')\n",
    "    clean_text = clean_text.get_text()\n",
    "    \n",
    "    try:\n",
    "        clean_text = clean_text.decode(\"utf-8-sig\").replace(u'\\ufffd','?')\n",
    "    except:\n",
    "        clean_text = clean_text\n",
    "    ##expand the contractions\n",
    "    clean_text = contractions.fix(clean_text)  ## for example He's flying becomes he is flying\n",
    "    ## remove the @ mentions in the tweets \n",
    "    clean_text = re.sub(pattern1, ' ', clean_text)\n",
    "    ## remove http links from the twitter comments\n",
    "    clean_text = re.sub(pattern2, ' ', clean_text)\n",
    "    ## remove www links from the twitter comments\n",
    "    clean_text = re.sub(pattern3, ' ', clean_text)\n",
    "    ## remove all other than letters\n",
    "    clean_text = re.sub(pattern4, ' ', clean_text)\n",
    "    ##convert to lower case\n",
    "    clean_text = clean_text.lower()\n",
    "    ##remove extra lines and tabs\n",
    "    clean_text = clean_text.translate(clean_text.maketrans('\\n\\t\\r', '   '))\n",
    "    ## remove extra spaces\n",
    "    clean_text = re.sub(pattern5,' ', clean_text)\n",
    "\n",
    "    \n",
    "    return clean_text\n"
   ]
  },
  {
   "cell_type": "code",
   "execution_count": 4,
   "metadata": {},
   "outputs": [],
   "source": [
    "from tqdm import tqdm_notebook"
   ]
  },
  {
   "cell_type": "code",
   "execution_count": 21,
   "metadata": {},
   "outputs": [
    {
     "data": {
      "application/vnd.jupyter.widget-view+json": {
       "model_id": "7e034a2071684d9fa30073dac22f035a",
       "version_major": 2,
       "version_minor": 0
      },
      "text/plain": [
       "HBox(children=(IntProgress(value=0, max=1600000), HTML(value='')))"
      ]
     },
     "metadata": {},
     "output_type": "display_data"
    },
    {
     "name": "stderr",
     "output_type": "stream",
     "text": [
      "C:\\Users\\Kaustav\\Anaconda3\\envs\\keras\\lib\\site-packages\\bs4\\__init__.py:272: UserWarning: \"b' i just received my G8 viola exam.. and its... well... .. disappointing.. :\\\\..'\" looks like a filename, not markup. You should probably open this file and pass the filehandle into Beautiful Soup.\n",
      "  ' Beautiful Soup.' % markup)\n",
      "C:\\Users\\Kaustav\\Anaconda3\\envs\\keras\\lib\\site-packages\\bs4\\__init__.py:272: UserWarning: \"b'E3 ON PLAYSTATION HOME IN ABOUT AN HOUR!!!!!!!!!! \\\\../  \\\\../'\" looks like a filename, not markup. You should probably open this file and pass the filehandle into Beautiful Soup.\n",
      "  ' Beautiful Soup.' % markup)\n"
     ]
    },
    {
     "name": "stdout",
     "output_type": "stream",
     "text": [
      "\n"
     ]
    }
   ],
   "source": [
    "tweets =[]\n",
    "for comment in tqdm_notebook(df['text']):\n",
    "    tweets.append(clean_tweets(comment))\n"
   ]
  },
  {
   "cell_type": "code",
   "execution_count": 22,
   "metadata": {},
   "outputs": [
    {
     "data": {
      "text/plain": [
       "'is upset that he cannot update his facebook by texting it and might cry as a result school today also blah '"
      ]
     },
     "execution_count": 22,
     "metadata": {},
     "output_type": "execute_result"
    }
   ],
   "source": [
    "tweets[1]"
   ]
  },
  {
   "cell_type": "code",
   "execution_count": 23,
   "metadata": {},
   "outputs": [
    {
     "data": {
      "text/html": [
       "<div>\n",
       "<style scoped>\n",
       "    .dataframe tbody tr th:only-of-type {\n",
       "        vertical-align: middle;\n",
       "    }\n",
       "\n",
       "    .dataframe tbody tr th {\n",
       "        vertical-align: top;\n",
       "    }\n",
       "\n",
       "    .dataframe thead th {\n",
       "        text-align: right;\n",
       "    }\n",
       "</style>\n",
       "<table border=\"1\" class=\"dataframe\">\n",
       "  <thead>\n",
       "    <tr style=\"text-align: right;\">\n",
       "      <th></th>\n",
       "      <th>text</th>\n",
       "      <th>label</th>\n",
       "    </tr>\n",
       "  </thead>\n",
       "  <tbody>\n",
       "    <tr>\n",
       "      <th>0</th>\n",
       "      <td>awww that is a bummer you shoulda got david c...</td>\n",
       "      <td>0</td>\n",
       "    </tr>\n",
       "    <tr>\n",
       "      <th>1</th>\n",
       "      <td>is upset that he cannot update his facebook by...</td>\n",
       "      <td>0</td>\n",
       "    </tr>\n",
       "    <tr>\n",
       "      <th>2</th>\n",
       "      <td>i dived many times for the ball managed to sa...</td>\n",
       "      <td>0</td>\n",
       "    </tr>\n",
       "    <tr>\n",
       "      <th>3</th>\n",
       "      <td>my whole body feels itchy and like its on fire</td>\n",
       "      <td>0</td>\n",
       "    </tr>\n",
       "    <tr>\n",
       "      <th>4</th>\n",
       "      <td>no it is not behaving at all i m mad why am i...</td>\n",
       "      <td>0</td>\n",
       "    </tr>\n",
       "  </tbody>\n",
       "</table>\n",
       "</div>"
      ],
      "text/plain": [
       "                                                text  label\n",
       "0   awww that is a bummer you shoulda got david c...      0\n",
       "1  is upset that he cannot update his facebook by...      0\n",
       "2   i dived many times for the ball managed to sa...      0\n",
       "3    my whole body feels itchy and like its on fire       0\n",
       "4   no it is not behaving at all i m mad why am i...      0"
      ]
     },
     "execution_count": 23,
     "metadata": {},
     "output_type": "execute_result"
    }
   ],
   "source": [
    "clean_tweet_df = pd.DataFrame(tweets,columns = ['text'])\n",
    "clean_tweet_df['label'] = df['sentiment']\n",
    "clean_tweet_df.head()"
   ]
  },
  {
   "cell_type": "code",
   "execution_count": 24,
   "metadata": {},
   "outputs": [],
   "source": [
    "##Save the clean tweets"
   ]
  },
  {
   "cell_type": "code",
   "execution_count": 25,
   "metadata": {},
   "outputs": [
    {
     "data": {
      "text/html": [
       "<div>\n",
       "<style scoped>\n",
       "    .dataframe tbody tr th:only-of-type {\n",
       "        vertical-align: middle;\n",
       "    }\n",
       "\n",
       "    .dataframe tbody tr th {\n",
       "        vertical-align: top;\n",
       "    }\n",
       "\n",
       "    .dataframe thead th {\n",
       "        text-align: right;\n",
       "    }\n",
       "</style>\n",
       "<table border=\"1\" class=\"dataframe\">\n",
       "  <thead>\n",
       "    <tr style=\"text-align: right;\">\n",
       "      <th></th>\n",
       "      <th>text</th>\n",
       "      <th>label</th>\n",
       "    </tr>\n",
       "  </thead>\n",
       "  <tbody>\n",
       "    <tr>\n",
       "      <th>0</th>\n",
       "      <td>awww that is a bummer you shoulda got david c...</td>\n",
       "      <td>0</td>\n",
       "    </tr>\n",
       "    <tr>\n",
       "      <th>1</th>\n",
       "      <td>is upset that he cannot update his facebook by...</td>\n",
       "      <td>0</td>\n",
       "    </tr>\n",
       "    <tr>\n",
       "      <th>2</th>\n",
       "      <td>i dived many times for the ball managed to sa...</td>\n",
       "      <td>0</td>\n",
       "    </tr>\n",
       "    <tr>\n",
       "      <th>3</th>\n",
       "      <td>my whole body feels itchy and like its on fire</td>\n",
       "      <td>0</td>\n",
       "    </tr>\n",
       "    <tr>\n",
       "      <th>4</th>\n",
       "      <td>no it is not behaving at all i m mad why am i...</td>\n",
       "      <td>0</td>\n",
       "    </tr>\n",
       "  </tbody>\n",
       "</table>\n",
       "</div>"
      ],
      "text/plain": [
       "                                                text  label\n",
       "0   awww that is a bummer you shoulda got david c...      0\n",
       "1  is upset that he cannot update his facebook by...      0\n",
       "2   i dived many times for the ball managed to sa...      0\n",
       "3    my whole body feels itchy and like its on fire       0\n",
       "4   no it is not behaving at all i m mad why am i...      0"
      ]
     },
     "execution_count": 25,
     "metadata": {},
     "output_type": "execute_result"
    }
   ],
   "source": [
    "clean_tweet_df.to_csv('clean_tweets.csv', encoding = 'utf-8',index= False)\n",
    "clean_tweet_df = None\n",
    "df = pd.read_csv('clean_tweets.csv')\n",
    "df.head()"
   ]
  },
  {
   "cell_type": "markdown",
   "metadata": {},
   "source": [
    "## Load Clean Tweets"
   ]
  },
  {
   "cell_type": "code",
   "execution_count": 26,
   "metadata": {},
   "outputs": [
    {
     "data": {
      "text/html": [
       "<div>\n",
       "<style scoped>\n",
       "    .dataframe tbody tr th:only-of-type {\n",
       "        vertical-align: middle;\n",
       "    }\n",
       "\n",
       "    .dataframe tbody tr th {\n",
       "        vertical-align: top;\n",
       "    }\n",
       "\n",
       "    .dataframe thead th {\n",
       "        text-align: right;\n",
       "    }\n",
       "</style>\n",
       "<table border=\"1\" class=\"dataframe\">\n",
       "  <thead>\n",
       "    <tr style=\"text-align: right;\">\n",
       "      <th></th>\n",
       "      <th>text</th>\n",
       "      <th>label</th>\n",
       "    </tr>\n",
       "  </thead>\n",
       "  <tbody>\n",
       "    <tr>\n",
       "      <th>0</th>\n",
       "      <td>awww that is a bummer you shoulda got david c...</td>\n",
       "      <td>0</td>\n",
       "    </tr>\n",
       "    <tr>\n",
       "      <th>1</th>\n",
       "      <td>is upset that he cannot update his facebook by...</td>\n",
       "      <td>0</td>\n",
       "    </tr>\n",
       "    <tr>\n",
       "      <th>2</th>\n",
       "      <td>i dived many times for the ball managed to sa...</td>\n",
       "      <td>0</td>\n",
       "    </tr>\n",
       "    <tr>\n",
       "      <th>3</th>\n",
       "      <td>my whole body feels itchy and like its on fire</td>\n",
       "      <td>0</td>\n",
       "    </tr>\n",
       "    <tr>\n",
       "      <th>4</th>\n",
       "      <td>no it is not behaving at all i m mad why am i...</td>\n",
       "      <td>0</td>\n",
       "    </tr>\n",
       "  </tbody>\n",
       "</table>\n",
       "</div>"
      ],
      "text/plain": [
       "                                                text  label\n",
       "0   awww that is a bummer you shoulda got david c...      0\n",
       "1  is upset that he cannot update his facebook by...      0\n",
       "2   i dived many times for the ball managed to sa...      0\n",
       "3    my whole body feels itchy and like its on fire       0\n",
       "4   no it is not behaving at all i m mad why am i...      0"
      ]
     },
     "execution_count": 26,
     "metadata": {},
     "output_type": "execute_result"
    }
   ],
   "source": [
    "df = pd.read_csv('clean_tweets.csv')\n",
    "df.head()"
   ]
  },
  {
   "cell_type": "code",
   "execution_count": 27,
   "metadata": {},
   "outputs": [],
   "source": [
    "##now smileys are getting converted into one letter word. wE WILL TAKE CARE OF IT"
   ]
  },
  {
   "cell_type": "code",
   "execution_count": 28,
   "metadata": {},
   "outputs": [
    {
     "name": "stdout",
     "output_type": "stream",
     "text": [
      "<class 'pandas.core.frame.DataFrame'>\n",
      "RangeIndex: 1600000 entries, 0 to 1599999\n",
      "Data columns (total 2 columns):\n",
      "text     1600000 non-null object\n",
      "label    1600000 non-null int64\n",
      "dtypes: int64(1), object(1)\n",
      "memory usage: 24.4+ MB\n"
     ]
    }
   ],
   "source": [
    "df.info()"
   ]
  },
  {
   "cell_type": "code",
   "execution_count": 29,
   "metadata": {},
   "outputs": [],
   "source": [
    "df['length'] = [len(comments) for comments in df['text']]"
   ]
  },
  {
   "cell_type": "code",
   "execution_count": 30,
   "metadata": {},
   "outputs": [
    {
     "data": {
      "text/plain": [
       "count    1.600000e+06\n",
       "mean     6.412658e+01\n",
       "std      3.433729e+01\n",
       "min      1.000000e+00\n",
       "1%       8.000000e+00\n",
       "5%       1.600000e+01\n",
       "25%      3.600000e+01\n",
       "50%      5.900000e+01\n",
       "75%      9.100000e+01\n",
       "95%      1.240000e+02\n",
       "98%      1.310000e+02\n",
       "99%      1.330000e+02\n",
       "max      1.670000e+02\n",
       "Name: length, dtype: float64"
      ]
     },
     "execution_count": 30,
     "metadata": {},
     "output_type": "execute_result"
    }
   ],
   "source": [
    "df['length'].describe(percentiles = [0.01,0.05, .25, .5, .75, .95, .98, .99])"
   ]
  },
  {
   "cell_type": "code",
   "execution_count": 31,
   "metadata": {},
   "outputs": [
    {
     "data": {
      "text/plain": [
       "text      3749\n",
       "label     3749\n",
       "length    3749\n",
       "dtype: int64"
      ]
     },
     "execution_count": 31,
     "metadata": {},
     "output_type": "execute_result"
    }
   ],
   "source": [
    "df[df['length']==1].count()"
   ]
  },
  {
   "cell_type": "code",
   "execution_count": 32,
   "metadata": {},
   "outputs": [
    {
     "data": {
      "text/plain": [
       "text      3749\n",
       "label     3749\n",
       "length    3749\n",
       "dtype: int64"
      ]
     },
     "execution_count": 32,
     "metadata": {},
     "output_type": "execute_result"
    }
   ],
   "source": [
    "df[(df['length']==1) & (df['text']==' ')].count()"
   ]
  },
  {
   "cell_type": "markdown",
   "metadata": {},
   "source": [
    "There are 2 things that I have noticed here \n",
    "\n",
    "1> There are 3749 rows with text as Spaces \n",
    "\n",
    "2> There are lot of rows with one charecter data...This would mean something like :D, ;D etc are reduced to just d.\n",
    "    This problem is there for many rows and not just rows with one length\n",
    "    \n",
    "    \n",
    "Lets fix it"
   ]
  },
  {
   "cell_type": "code",
   "execution_count": 33,
   "metadata": {},
   "outputs": [],
   "source": [
    "#!pip install nltk"
   ]
  },
  {
   "cell_type": "code",
   "execution_count": 37,
   "metadata": {},
   "outputs": [],
   "source": [
    "from nltk.tokenize import word_tokenize\n"
   ]
  },
  {
   "cell_type": "code",
   "execution_count": 67,
   "metadata": {},
   "outputs": [],
   "source": [
    "## strip removes the text if the text is only blanks\n",
    "##lstrip removes the leading spaces in the string\n",
    "def upd_clean_tweets(text):\n",
    "    words = [ word for word in word_tokenize(text) if len(word) > 1]\n",
    "    return ((\" \").join(words)).strip()"
   ]
  },
  {
   "cell_type": "code",
   "execution_count": 68,
   "metadata": {},
   "outputs": [
    {
     "data": {
      "text/plain": [
       "['I', 'am', 'doing', 'good', '!']"
      ]
     },
     "execution_count": 68,
     "metadata": {},
     "output_type": "execute_result"
    }
   ],
   "source": [
    "word_tokenize('I am doing good!')"
   ]
  },
  {
   "cell_type": "code",
   "execution_count": 69,
   "metadata": {},
   "outputs": [
    {
     "data": {
      "text/plain": [
       "'am doing good'"
      ]
     },
     "execution_count": 69,
     "metadata": {},
     "output_type": "execute_result"
    }
   ],
   "source": [
    "upd_clean_tweets('I am doing good!   ')"
   ]
  },
  {
   "cell_type": "code",
   "execution_count": 70,
   "metadata": {
    "collapsed": true
   },
   "outputs": [
    {
     "data": {
      "application/vnd.jupyter.widget-view+json": {
       "model_id": "ee678ee2b88a4401a284550ecab8099c",
       "version_major": 2,
       "version_minor": 0
      },
      "text/plain": [
       "HBox(children=(IntProgress(value=0, max=1596059), HTML(value='')))"
      ]
     },
     "metadata": {},
     "output_type": "display_data"
    },
    {
     "ename": "KeyboardInterrupt",
     "evalue": "",
     "output_type": "error",
     "traceback": [
      "\u001b[1;31m---------------------------------------------------------------------------\u001b[0m",
      "\u001b[1;31mKeyboardInterrupt\u001b[0m                         Traceback (most recent call last)",
      "\u001b[1;32m<ipython-input-70-723dc7d5c9e6>\u001b[0m in \u001b[0;36m<module>\u001b[1;34m\u001b[0m\n\u001b[0;32m      1\u001b[0m \u001b[0mtweets\u001b[0m \u001b[1;33m=\u001b[0m \u001b[1;33m[\u001b[0m\u001b[1;33m]\u001b[0m\u001b[1;33m\u001b[0m\u001b[1;33m\u001b[0m\u001b[0m\n\u001b[0;32m      2\u001b[0m \u001b[1;32mfor\u001b[0m \u001b[0mcomments\u001b[0m \u001b[1;32min\u001b[0m \u001b[0mtqdm_notebook\u001b[0m\u001b[1;33m(\u001b[0m\u001b[0mdf\u001b[0m\u001b[1;33m[\u001b[0m\u001b[1;34m'text'\u001b[0m\u001b[1;33m]\u001b[0m\u001b[1;33m)\u001b[0m\u001b[1;33m:\u001b[0m\u001b[1;33m\u001b[0m\u001b[1;33m\u001b[0m\u001b[0m\n\u001b[1;32m----> 3\u001b[1;33m     \u001b[0mtweets\u001b[0m\u001b[1;33m.\u001b[0m\u001b[0mappend\u001b[0m\u001b[1;33m(\u001b[0m\u001b[0mupd_clean_tweets\u001b[0m\u001b[1;33m(\u001b[0m\u001b[0mcomments\u001b[0m\u001b[1;33m)\u001b[0m\u001b[1;33m)\u001b[0m\u001b[1;33m\u001b[0m\u001b[1;33m\u001b[0m\u001b[0m\n\u001b[0m",
      "\u001b[1;32m<ipython-input-67-b364376e1319>\u001b[0m in \u001b[0;36mupd_clean_tweets\u001b[1;34m(text)\u001b[0m\n\u001b[0;32m      2\u001b[0m \u001b[1;31m##lstrip removes the leading spaces in the string\u001b[0m\u001b[1;33m\u001b[0m\u001b[1;33m\u001b[0m\u001b[1;33m\u001b[0m\u001b[0m\n\u001b[0;32m      3\u001b[0m \u001b[1;32mdef\u001b[0m \u001b[0mupd_clean_tweets\u001b[0m\u001b[1;33m(\u001b[0m\u001b[0mtext\u001b[0m\u001b[1;33m)\u001b[0m\u001b[1;33m:\u001b[0m\u001b[1;33m\u001b[0m\u001b[1;33m\u001b[0m\u001b[0m\n\u001b[1;32m----> 4\u001b[1;33m     \u001b[0mwords\u001b[0m \u001b[1;33m=\u001b[0m \u001b[1;33m[\u001b[0m \u001b[0mword\u001b[0m \u001b[1;32mfor\u001b[0m \u001b[0mword\u001b[0m \u001b[1;32min\u001b[0m \u001b[0mword_tokenize\u001b[0m\u001b[1;33m(\u001b[0m\u001b[0mtext\u001b[0m\u001b[1;33m)\u001b[0m \u001b[1;32mif\u001b[0m \u001b[0mlen\u001b[0m\u001b[1;33m(\u001b[0m\u001b[0mword\u001b[0m\u001b[1;33m)\u001b[0m \u001b[1;33m>\u001b[0m \u001b[1;36m1\u001b[0m\u001b[1;33m]\u001b[0m\u001b[1;33m\u001b[0m\u001b[1;33m\u001b[0m\u001b[0m\n\u001b[0m\u001b[0;32m      5\u001b[0m     \u001b[1;32mreturn\u001b[0m \u001b[1;33m(\u001b[0m\u001b[1;33m(\u001b[0m\u001b[1;34m\" \"\u001b[0m\u001b[1;33m)\u001b[0m\u001b[1;33m.\u001b[0m\u001b[0mjoin\u001b[0m\u001b[1;33m(\u001b[0m\u001b[0mwords\u001b[0m\u001b[1;33m)\u001b[0m\u001b[1;33m)\u001b[0m\u001b[1;33m.\u001b[0m\u001b[0mstrip\u001b[0m\u001b[1;33m(\u001b[0m\u001b[1;33m)\u001b[0m\u001b[1;33m\u001b[0m\u001b[1;33m\u001b[0m\u001b[0m\n",
      "\u001b[1;32m~\\Anaconda3\\envs\\keras\\lib\\site-packages\\nltk\\tokenize\\__init__.py\u001b[0m in \u001b[0;36mword_tokenize\u001b[1;34m(text, language, preserve_line)\u001b[0m\n\u001b[0;32m    143\u001b[0m     \u001b[0msentences\u001b[0m \u001b[1;33m=\u001b[0m \u001b[1;33m[\u001b[0m\u001b[0mtext\u001b[0m\u001b[1;33m]\u001b[0m \u001b[1;32mif\u001b[0m \u001b[0mpreserve_line\u001b[0m \u001b[1;32melse\u001b[0m \u001b[0msent_tokenize\u001b[0m\u001b[1;33m(\u001b[0m\u001b[0mtext\u001b[0m\u001b[1;33m,\u001b[0m \u001b[0mlanguage\u001b[0m\u001b[1;33m)\u001b[0m\u001b[1;33m\u001b[0m\u001b[1;33m\u001b[0m\u001b[0m\n\u001b[0;32m    144\u001b[0m     return [\n\u001b[1;32m--> 145\u001b[1;33m         \u001b[0mtoken\u001b[0m \u001b[1;32mfor\u001b[0m \u001b[0msent\u001b[0m \u001b[1;32min\u001b[0m \u001b[0msentences\u001b[0m \u001b[1;32mfor\u001b[0m \u001b[0mtoken\u001b[0m \u001b[1;32min\u001b[0m \u001b[0m_treebank_word_tokenizer\u001b[0m\u001b[1;33m.\u001b[0m\u001b[0mtokenize\u001b[0m\u001b[1;33m(\u001b[0m\u001b[0msent\u001b[0m\u001b[1;33m)\u001b[0m\u001b[1;33m\u001b[0m\u001b[1;33m\u001b[0m\u001b[0m\n\u001b[0m\u001b[0;32m    146\u001b[0m     ]\n",
      "\u001b[1;32m~\\Anaconda3\\envs\\keras\\lib\\site-packages\\nltk\\tokenize\\__init__.py\u001b[0m in \u001b[0;36m<listcomp>\u001b[1;34m(.0)\u001b[0m\n\u001b[0;32m    143\u001b[0m     \u001b[0msentences\u001b[0m \u001b[1;33m=\u001b[0m \u001b[1;33m[\u001b[0m\u001b[0mtext\u001b[0m\u001b[1;33m]\u001b[0m \u001b[1;32mif\u001b[0m \u001b[0mpreserve_line\u001b[0m \u001b[1;32melse\u001b[0m \u001b[0msent_tokenize\u001b[0m\u001b[1;33m(\u001b[0m\u001b[0mtext\u001b[0m\u001b[1;33m,\u001b[0m \u001b[0mlanguage\u001b[0m\u001b[1;33m)\u001b[0m\u001b[1;33m\u001b[0m\u001b[1;33m\u001b[0m\u001b[0m\n\u001b[0;32m    144\u001b[0m     return [\n\u001b[1;32m--> 145\u001b[1;33m         \u001b[0mtoken\u001b[0m \u001b[1;32mfor\u001b[0m \u001b[0msent\u001b[0m \u001b[1;32min\u001b[0m \u001b[0msentences\u001b[0m \u001b[1;32mfor\u001b[0m \u001b[0mtoken\u001b[0m \u001b[1;32min\u001b[0m \u001b[0m_treebank_word_tokenizer\u001b[0m\u001b[1;33m.\u001b[0m\u001b[0mtokenize\u001b[0m\u001b[1;33m(\u001b[0m\u001b[0msent\u001b[0m\u001b[1;33m)\u001b[0m\u001b[1;33m\u001b[0m\u001b[1;33m\u001b[0m\u001b[0m\n\u001b[0m\u001b[0;32m    146\u001b[0m     ]\n",
      "\u001b[1;32m~\\Anaconda3\\envs\\keras\\lib\\site-packages\\nltk\\tokenize\\treebank.py\u001b[0m in \u001b[0;36mtokenize\u001b[1;34m(self, text, convert_parentheses, return_str)\u001b[0m\n\u001b[0;32m    120\u001b[0m \u001b[1;33m\u001b[0m\u001b[0m\n\u001b[0;32m    121\u001b[0m         \u001b[1;32mfor\u001b[0m \u001b[0mregexp\u001b[0m\u001b[1;33m,\u001b[0m \u001b[0msubstitution\u001b[0m \u001b[1;32min\u001b[0m \u001b[0mself\u001b[0m\u001b[1;33m.\u001b[0m\u001b[0mPUNCTUATION\u001b[0m\u001b[1;33m:\u001b[0m\u001b[1;33m\u001b[0m\u001b[1;33m\u001b[0m\u001b[0m\n\u001b[1;32m--> 122\u001b[1;33m             \u001b[0mtext\u001b[0m \u001b[1;33m=\u001b[0m \u001b[0mregexp\u001b[0m\u001b[1;33m.\u001b[0m\u001b[0msub\u001b[0m\u001b[1;33m(\u001b[0m\u001b[0msubstitution\u001b[0m\u001b[1;33m,\u001b[0m \u001b[0mtext\u001b[0m\u001b[1;33m)\u001b[0m\u001b[1;33m\u001b[0m\u001b[1;33m\u001b[0m\u001b[0m\n\u001b[0m\u001b[0;32m    123\u001b[0m \u001b[1;33m\u001b[0m\u001b[0m\n\u001b[0;32m    124\u001b[0m         \u001b[1;31m# Handles parentheses.\u001b[0m\u001b[1;33m\u001b[0m\u001b[1;33m\u001b[0m\u001b[1;33m\u001b[0m\u001b[0m\n",
      "\u001b[1;32m~\\Anaconda3\\envs\\keras\\lib\\re.py\u001b[0m in \u001b[0;36m_subx\u001b[1;34m(pattern, template)\u001b[0m\n\u001b[0;32m    324\u001b[0m \u001b[1;32mdef\u001b[0m \u001b[0m_subx\u001b[0m\u001b[1;33m(\u001b[0m\u001b[0mpattern\u001b[0m\u001b[1;33m,\u001b[0m \u001b[0mtemplate\u001b[0m\u001b[1;33m)\u001b[0m\u001b[1;33m:\u001b[0m\u001b[1;33m\u001b[0m\u001b[1;33m\u001b[0m\u001b[0m\n\u001b[0;32m    325\u001b[0m     \u001b[1;31m# internal: pattern.sub/subn implementation helper\u001b[0m\u001b[1;33m\u001b[0m\u001b[1;33m\u001b[0m\u001b[1;33m\u001b[0m\u001b[0m\n\u001b[1;32m--> 326\u001b[1;33m     \u001b[0mtemplate\u001b[0m \u001b[1;33m=\u001b[0m \u001b[0m_compile_repl\u001b[0m\u001b[1;33m(\u001b[0m\u001b[0mtemplate\u001b[0m\u001b[1;33m,\u001b[0m \u001b[0mpattern\u001b[0m\u001b[1;33m)\u001b[0m\u001b[1;33m\u001b[0m\u001b[1;33m\u001b[0m\u001b[0m\n\u001b[0m\u001b[0;32m    327\u001b[0m     \u001b[1;32mif\u001b[0m \u001b[1;32mnot\u001b[0m \u001b[0mtemplate\u001b[0m\u001b[1;33m[\u001b[0m\u001b[1;36m0\u001b[0m\u001b[1;33m]\u001b[0m \u001b[1;32mand\u001b[0m \u001b[0mlen\u001b[0m\u001b[1;33m(\u001b[0m\u001b[0mtemplate\u001b[0m\u001b[1;33m[\u001b[0m\u001b[1;36m1\u001b[0m\u001b[1;33m]\u001b[0m\u001b[1;33m)\u001b[0m \u001b[1;33m==\u001b[0m \u001b[1;36m1\u001b[0m\u001b[1;33m:\u001b[0m\u001b[1;33m\u001b[0m\u001b[1;33m\u001b[0m\u001b[0m\n\u001b[0;32m    328\u001b[0m         \u001b[1;31m# literal replacement\u001b[0m\u001b[1;33m\u001b[0m\u001b[1;33m\u001b[0m\u001b[1;33m\u001b[0m\u001b[0m\n",
      "\u001b[1;31mKeyboardInterrupt\u001b[0m: "
     ]
    }
   ],
   "source": [
    "tweets = []\n",
    "for comments in tqdm_notebook(df['text']):\n",
    "    tweets.append(upd_clean_tweets(comments))"
   ]
  },
  {
   "cell_type": "code",
   "execution_count": 43,
   "metadata": {},
   "outputs": [
    {
     "data": {
      "text/plain": [
       "0    awww that is bummer you shoulda got david carr...\n",
       "1    is upset that he can not update his facebook b...\n",
       "2    dived many times for the ball managed to save ...\n",
       "3       my whole body feels itchy and like its on fire\n",
       "4    no it is not behaving at all mad why am here b...\n",
       "Name: text, dtype: object"
      ]
     },
     "execution_count": 43,
     "metadata": {},
     "output_type": "execute_result"
    }
   ],
   "source": [
    "df['text']= tweets\n",
    "df['text'].head()"
   ]
  },
  {
   "cell_type": "code",
   "execution_count": 44,
   "metadata": {},
   "outputs": [],
   "source": [
    "df['length'] = [len(comments) for comments in df['text']]"
   ]
  },
  {
   "cell_type": "code",
   "execution_count": 45,
   "metadata": {},
   "outputs": [
    {
     "data": {
      "text/plain": [
       "count    1.600000e+06\n",
       "mean     6.080306e+01\n",
       "std      3.340833e+01\n",
       "min      0.000000e+00\n",
       "25%      3.300000e+01\n",
       "50%      5.600000e+01\n",
       "75%      8.700000e+01\n",
       "max      1.590000e+02\n",
       "Name: length, dtype: float64"
      ]
     },
     "execution_count": 45,
     "metadata": {},
     "output_type": "execute_result"
    }
   ],
   "source": [
    "df['length'].describe()"
   ]
  },
  {
   "cell_type": "markdown",
   "metadata": {},
   "source": [
    "Thats perfect....I see the minimum length now is 0.0"
   ]
  },
  {
   "cell_type": "code",
   "execution_count": 46,
   "metadata": {},
   "outputs": [
    {
     "data": {
      "text/plain": [
       "text      0\n",
       "label     0\n",
       "length    0\n",
       "dtype: int64"
      ]
     },
     "execution_count": 46,
     "metadata": {},
     "output_type": "execute_result"
    }
   ],
   "source": [
    "df[df['length']==1].count()"
   ]
  },
  {
   "cell_type": "code",
   "execution_count": 47,
   "metadata": {},
   "outputs": [],
   "source": [
    "##Those data points with text of length 1 is also gone...wonderful"
   ]
  },
  {
   "cell_type": "code",
   "execution_count": 48,
   "metadata": {},
   "outputs": [],
   "source": [
    "df= df[df['length']>1]\n",
    "\n"
   ]
  },
  {
   "cell_type": "code",
   "execution_count": 49,
   "metadata": {},
   "outputs": [
    {
     "data": {
      "text/plain": [
       "count    1.596059e+06\n",
       "mean     6.095320e+01\n",
       "std      3.331248e+01\n",
       "min      2.000000e+00\n",
       "25%      3.300000e+01\n",
       "50%      5.600000e+01\n",
       "75%      8.700000e+01\n",
       "max      1.590000e+02\n",
       "Name: length, dtype: float64"
      ]
     },
     "execution_count": 49,
     "metadata": {},
     "output_type": "execute_result"
    }
   ],
   "source": [
    "## Now all the text with 0 length is dropped.So the minimum length of the tweets is 2\n",
    "df['length'].describe()"
   ]
  },
  {
   "cell_type": "code",
   "execution_count": 50,
   "metadata": {},
   "outputs": [
    {
     "data": {
      "text/html": [
       "<div>\n",
       "<style scoped>\n",
       "    .dataframe tbody tr th:only-of-type {\n",
       "        vertical-align: middle;\n",
       "    }\n",
       "\n",
       "    .dataframe tbody tr th {\n",
       "        vertical-align: top;\n",
       "    }\n",
       "\n",
       "    .dataframe thead th {\n",
       "        text-align: right;\n",
       "    }\n",
       "</style>\n",
       "<table border=\"1\" class=\"dataframe\">\n",
       "  <thead>\n",
       "    <tr style=\"text-align: right;\">\n",
       "      <th></th>\n",
       "      <th>text</th>\n",
       "      <th>label</th>\n",
       "      <th>length</th>\n",
       "    </tr>\n",
       "  </thead>\n",
       "  <tbody>\n",
       "    <tr>\n",
       "      <th>0</th>\n",
       "      <td>awww that is bummer you shoulda got david carr...</td>\n",
       "      <td>0</td>\n",
       "      <td>68</td>\n",
       "    </tr>\n",
       "    <tr>\n",
       "      <th>1</th>\n",
       "      <td>is upset that he can not update his facebook b...</td>\n",
       "      <td>0</td>\n",
       "      <td>105</td>\n",
       "    </tr>\n",
       "    <tr>\n",
       "      <th>2</th>\n",
       "      <td>dived many times for the ball managed to save ...</td>\n",
       "      <td>0</td>\n",
       "      <td>71</td>\n",
       "    </tr>\n",
       "    <tr>\n",
       "      <th>3</th>\n",
       "      <td>my whole body feels itchy and like its on fire</td>\n",
       "      <td>0</td>\n",
       "      <td>46</td>\n",
       "    </tr>\n",
       "    <tr>\n",
       "      <th>4</th>\n",
       "      <td>no it is not behaving at all mad why am here b...</td>\n",
       "      <td>0</td>\n",
       "      <td>83</td>\n",
       "    </tr>\n",
       "  </tbody>\n",
       "</table>\n",
       "</div>"
      ],
      "text/plain": [
       "                                                text  label  length\n",
       "0  awww that is bummer you shoulda got david carr...      0      68\n",
       "1  is upset that he can not update his facebook b...      0     105\n",
       "2  dived many times for the ball managed to save ...      0      71\n",
       "3     my whole body feels itchy and like its on fire      0      46\n",
       "4  no it is not behaving at all mad why am here b...      0      83"
      ]
     },
     "execution_count": 50,
     "metadata": {},
     "output_type": "execute_result"
    }
   ],
   "source": [
    "df.head()"
   ]
  },
  {
   "cell_type": "code",
   "execution_count": 51,
   "metadata": {},
   "outputs": [
    {
     "data": {
      "text/plain": [
       "1596059"
      ]
     },
     "execution_count": 51,
     "metadata": {},
     "output_type": "execute_result"
    }
   ],
   "source": [
    "len(df) ## SO we have aroung 3.5K data points"
   ]
  },
  {
   "cell_type": "code",
   "execution_count": 52,
   "metadata": {},
   "outputs": [],
   "source": [
    "df.to_csv('clean_tweets_upd.csv', encoding = 'utf-8',index= False,columns = ['text', 'label'])"
   ]
  },
  {
   "cell_type": "markdown",
   "metadata": {},
   "source": [
    "## Clean Tweet Load"
   ]
  },
  {
   "cell_type": "code",
   "execution_count": 71,
   "metadata": {},
   "outputs": [
    {
     "data": {
      "text/html": [
       "<div>\n",
       "<style scoped>\n",
       "    .dataframe tbody tr th:only-of-type {\n",
       "        vertical-align: middle;\n",
       "    }\n",
       "\n",
       "    .dataframe tbody tr th {\n",
       "        vertical-align: top;\n",
       "    }\n",
       "\n",
       "    .dataframe thead th {\n",
       "        text-align: right;\n",
       "    }\n",
       "</style>\n",
       "<table border=\"1\" class=\"dataframe\">\n",
       "  <thead>\n",
       "    <tr style=\"text-align: right;\">\n",
       "      <th></th>\n",
       "      <th>text</th>\n",
       "      <th>label</th>\n",
       "    </tr>\n",
       "  </thead>\n",
       "  <tbody>\n",
       "    <tr>\n",
       "      <th>0</th>\n",
       "      <td>awww that is bummer you shoulda got david carr...</td>\n",
       "      <td>0</td>\n",
       "    </tr>\n",
       "    <tr>\n",
       "      <th>1</th>\n",
       "      <td>is upset that he can not update his facebook b...</td>\n",
       "      <td>0</td>\n",
       "    </tr>\n",
       "    <tr>\n",
       "      <th>2</th>\n",
       "      <td>dived many times for the ball managed to save ...</td>\n",
       "      <td>0</td>\n",
       "    </tr>\n",
       "    <tr>\n",
       "      <th>3</th>\n",
       "      <td>my whole body feels itchy and like its on fire</td>\n",
       "      <td>0</td>\n",
       "    </tr>\n",
       "    <tr>\n",
       "      <th>4</th>\n",
       "      <td>no it is not behaving at all mad why am here b...</td>\n",
       "      <td>0</td>\n",
       "    </tr>\n",
       "  </tbody>\n",
       "</table>\n",
       "</div>"
      ],
      "text/plain": [
       "                                                text  label\n",
       "0  awww that is bummer you shoulda got david carr...      0\n",
       "1  is upset that he can not update his facebook b...      0\n",
       "2  dived many times for the ball managed to save ...      0\n",
       "3     my whole body feels itchy and like its on fire      0\n",
       "4  no it is not behaving at all mad why am here b...      0"
      ]
     },
     "execution_count": 71,
     "metadata": {},
     "output_type": "execute_result"
    }
   ],
   "source": [
    "##\n",
    "df =pd.read_csv('clean_tweets_upd.csv')\n",
    "df.head()"
   ]
  },
  {
   "cell_type": "code",
   "execution_count": 73,
   "metadata": {},
   "outputs": [
    {
     "data": {
      "text/plain": [
       "'is upset that he can not update his facebook by texting it and might cry as result school today also blah'"
      ]
     },
     "execution_count": 73,
     "metadata": {},
     "output_type": "execute_result"
    }
   ],
   "source": [
    "df.loc[1]['text']"
   ]
  },
  {
   "cell_type": "code",
   "execution_count": 74,
   "metadata": {},
   "outputs": [
    {
     "data": {
      "text/plain": [
       "'awww that is bummer you shoulda got david carr of third day to do it'"
      ]
     },
     "execution_count": 74,
     "metadata": {},
     "output_type": "execute_result"
    }
   ],
   "source": [
    "df['text'][0]"
   ]
  },
  {
   "cell_type": "code",
   "execution_count": 75,
   "metadata": {},
   "outputs": [],
   "source": [
    "#import nltk\n",
    "#nltk.download('wordnet')"
   ]
  },
  {
   "cell_type": "code",
   "execution_count": 76,
   "metadata": {},
   "outputs": [],
   "source": [
    "# Installing wordcloud\n",
    "#!pip install wordcloud"
   ]
  },
  {
   "cell_type": "code",
   "execution_count": 58,
   "metadata": {},
   "outputs": [],
   "source": [
    "from wordcloud import WordCloud, STOPWORDS"
   ]
  },
  {
   "cell_type": "code",
   "execution_count": 59,
   "metadata": {},
   "outputs": [],
   "source": [
    "neg_tweets = ' '.join([comment for comment  in df[df['label']==0]['text']])\n",
    "pos_tweets = ' '.join([comment for comment  in df[df['label']==4]['text']])"
   ]
  },
  {
   "cell_type": "code",
   "execution_count": 60,
   "metadata": {},
   "outputs": [],
   "source": [
    "wc = WordCloud(background_color = 'white', max_words = 80,\n",
    "              stopwords = STOPWORDS)"
   ]
  },
  {
   "cell_type": "code",
   "execution_count": 61,
   "metadata": {},
   "outputs": [
    {
     "data": {
      "text/plain": [
       "<function matplotlib.pyplot.show(*args, **kw)>"
      ]
     },
     "execution_count": 61,
     "metadata": {},
     "output_type": "execute_result"
    },
    {
     "data": {
      "image/png": "[encoded data removed]",
      "text/plain": [
       "<Figure size 432x288 with 1 Axes>"
      ]
     },
     "metadata": {
      "needs_background": "light"
     },
     "output_type": "display_data"
    }
   ],
   "source": [
    "## Negative Comment Visualization\n",
    "\n",
    "plt.imshow(wc.generate(neg_tweets))\n",
    "plt.axis('off')\n",
    "plt.show"
   ]
  },
  {
   "cell_type": "markdown",
   "metadata": {},
   "source": [
    "I see words like need,miss,sorry,bad,wish"
   ]
  },
  {
   "cell_type": "code",
   "execution_count": 62,
   "metadata": {},
   "outputs": [
    {
     "data": {
      "text/plain": [
       "<function matplotlib.pyplot.show(*args, **kw)>"
      ]
     },
     "execution_count": 62,
     "metadata": {},
     "output_type": "execute_result"
    },
    {
     "data": {
      "image/png": "[encoded data removed]",
      "text/plain": [
       "<Figure size 432x288 with 1 Axes>"
      ]
     },
     "metadata": {
      "needs_background": "light"
     },
     "output_type": "display_data"
    }
   ],
   "source": [
    "## Positive Comment Visualization\n",
    "\n",
    "plt.imshow(wc.generate(pos_tweets))\n",
    "plt.axis('off')\n",
    "plt.show"
   ]
  },
  {
   "cell_type": "markdown",
   "metadata": {},
   "source": [
    "I see words like fun,nice, yay,awesome, great"
   ]
  },
  {
   "cell_type": "markdown",
   "metadata": {},
   "source": [
    "Today,now,work,lol seems to be present in both Positive and Negetive comments\n",
    "\n",
    "We will see later how to deal with it in case our algorithm is not working well"
   ]
  },
  {
   "cell_type": "code",
   "execution_count": 113,
   "metadata": {},
   "outputs": [],
   "source": [
    "##\n",
    "#from sklearn.utils import shuffle\n",
    "\n",
    "#df = shuffle(df)"
   ]
  },
  {
   "cell_type": "code",
   "execution_count": 147,
   "metadata": {},
   "outputs": [],
   "source": [
    "#train_ratio = .85\n",
    "#idx = int(len(df)*train_ratio)\n",
    "\n",
    "#df_train = df[:idx]\n",
    "#df_valid = df[idx:]\n"
   ]
  },
  {
   "cell_type": "code",
   "execution_count": 148,
   "metadata": {},
   "outputs": [],
   "source": [
    "#print('Count of total Dataset      : ',len(df))\n",
    "\n",
    "#print('Count of train Dataset      : ',len(df_train))\n",
    "\n",
    "#print('Count of validation Dataset : ',len(df_valid))"
   ]
  },
  {
   "cell_type": "code",
   "execution_count": 77,
   "metadata": {},
   "outputs": [
    {
     "data": {
      "text/plain": [
       "4414"
      ]
     },
     "execution_count": 77,
     "metadata": {},
     "output_type": "execute_result"
    }
   ],
   "source": [
    "import gc\n",
    "gc.collect()\n"
   ]
  },
  {
   "cell_type": "code",
   "execution_count": 78,
   "metadata": {},
   "outputs": [
    {
     "data": {
      "text/plain": [
       "CountVectorizer(analyzer='word', binary=False, decode_error='strict',\n",
       "        dtype=<class 'numpy.int64'>, encoding='utf-8', input='content',\n",
       "        lowercase=True, max_df=1.0, max_features=None, min_df=1,\n",
       "        ngram_range=(1, 1), preprocessor=None, stop_words=None,\n",
       "        strip_accents=None, token_pattern='(?u)\\\\b\\\\w\\\\w+\\\\b',\n",
       "        tokenizer=None, vocabulary=None)"
      ]
     },
     "execution_count": 78,
     "metadata": {},
     "output_type": "execute_result"
    }
   ],
   "source": [
    "from sklearn.feature_extraction.text import CountVectorizer\n",
    "\n",
    "vectorizer = CountVectorizer()\n",
    "vectorizer.fit(df['text'])\n"
   ]
  },
  {
   "cell_type": "code",
   "execution_count": 79,
   "metadata": {},
   "outputs": [
    {
     "data": {
      "text/plain": [
       "266797"
      ]
     },
     "execution_count": 79,
     "metadata": {},
     "output_type": "execute_result"
    }
   ],
   "source": [
    "len(vectorizer.get_feature_names())"
   ]
  },
  {
   "cell_type": "code",
   "execution_count": 80,
   "metadata": {},
   "outputs": [
    {
     "data": {
      "text/plain": [
       "['aa',\n",
       " 'aaa',\n",
       " 'aaaa',\n",
       " 'aaaaa',\n",
       " 'aaaaaa',\n",
       " 'aaaaaaa',\n",
       " 'aaaaaaaa',\n",
       " 'aaaaaaaaa',\n",
       " 'aaaaaaaaaa',\n",
       " 'aaaaaaaaaaa',\n",
       " 'aaaaaaaaaaaa',\n",
       " 'aaaaaaaaaaaaa',\n",
       " 'aaaaaaaaaaaaaa',\n",
       " 'aaaaaaaaaaaaaaa',\n",
       " 'aaaaaaaaaaaaaaaa',\n",
       " 'aaaaaaaaaaaaaaaaaa',\n",
       " 'aaaaaaaaaaaaaaaaaaa',\n",
       " 'aaaaaaaaaaaaaaaaaaaa',\n",
       " 'aaaaaaaaaaaaaaaaaaaaaaa',\n",
       " 'aaaaaaaaaaaaaaaaaaaaaaaaaa',\n",
       " 'aaaaaaaaaaaaaaaaaaaaaaaaaaaaaa',\n",
       " 'aaaaaaaaaaaaaaaaaaaaaaaaaaaaaaaaa',\n",
       " 'aaaaaaaaaaaaaaaaaaaaaaaaaaaaaaaaaaaaa',\n",
       " 'aaaaaaaaaaaaaaaaaaaaaaaaaaaaaaaaaaaaaaaaaaaaaaaaa',\n",
       " 'aaaaaaaaaaaaaaaaaaaaaaaaaaaaaaaaaaaaaaaaaaaaaaaaaah',\n",
       " 'aaaaaaaaaaaaaaaaaaaaaaaaaaaaaaaaaaaaaaaah',\n",
       " 'aaaaaaaaaaaaaaaaaaaaaaaaaaaaaaaaaaaaaaargh',\n",
       " 'aaaaaaaaaaaaaaaaaaaaaaaaaaaaall',\n",
       " 'aaaaaaaaaaaaaaaaaaaaaaaaaaaao',\n",
       " 'aaaaaaaaaaaaaaaaaaaaaaaaaargh',\n",
       " 'aaaaaaaaaaaaaaaaaaaaaaah',\n",
       " 'aaaaaaaaaaaaaaaaaaaaaaahhhhhhhhhhhhhhhhhhhhhhhhhhhhhhhh',\n",
       " 'aaaaaaaaaaaaaaaaaaaaaaahrg',\n",
       " 'aaaaaaaaaaaaaaaaaaaaah',\n",
       " 'aaaaaaaaaaaaaaaaaaaaahhhhh',\n",
       " 'aaaaaaaaaaaaaaaaaaaah',\n",
       " 'aaaaaaaaaaaaaaaaaaaaint',\n",
       " 'aaaaaaaaaaaaaaaaaaaay',\n",
       " 'aaaaaaaaaaaaaaaaaah',\n",
       " 'aaaaaaaaaaaaaaaaaahhhhh',\n",
       " 'aaaaaaaaaaaaaaaaaahhhhhhhhhhhh',\n",
       " 'aaaaaaaaaaaaaaaaagh',\n",
       " 'aaaaaaaaaaaaaaaaah',\n",
       " 'aaaaaaaaaaaaaaaaand',\n",
       " 'aaaaaaaaaaaaaaaages',\n",
       " 'aaaaaaaaaaaaaaaaggggggggghhhhhhhh',\n",
       " 'aaaaaaaaaaaaaaaahhhhhhh',\n",
       " 'aaaaaaaaaaaaaaaahhhhhhhhhh',\n",
       " 'aaaaaaaaaaaaaaaahhhhhhhhhhhhhhh',\n",
       " 'aaaaaaaaaaaaaaaanh',\n",
       " 'aaaaaaaaaaaaaaaargh',\n",
       " 'aaaaaaaaaaaaaaah',\n",
       " 'aaaaaaaaaaaaaaahhhh',\n",
       " 'aaaaaaaaaaaaaaarghhhhh',\n",
       " 'aaaaaaaaaaaaaaarrrrrrrrrrrrghhhhhhhhh',\n",
       " 'aaaaaaaaaaaaaagh',\n",
       " 'aaaaaaaaaaaaaah',\n",
       " 'aaaaaaaaaaaaaahhhhhhhhhhhhhhhhhhhhhhhhhhhhhh',\n",
       " 'aaaaaaaaaaaaaalllll',\n",
       " 'aaaaaaaaaaaaaand',\n",
       " 'aaaaaaaaaaaaaaw',\n",
       " 'aaaaaaaaaaaaah',\n",
       " 'aaaaaaaaaaaaahhhh',\n",
       " 'aaaaaaaaaaaaahhhhhhhh',\n",
       " 'aaaaaaaaaaaaahhhhhhhhhhhhhhhhhh',\n",
       " 'aaaaaaaaaaaaahhhhhhhhhhhhhhhhhhhhhhhhhhhhhh',\n",
       " 'aaaaaaaaaaaaall',\n",
       " 'aaaaaaaaaaaaalllllllllllllllllllll',\n",
       " 'aaaaaaaaaaaaarrrrgggghhhh',\n",
       " 'aaaaaaaaaaaaarrrrrrrrggggghhhh',\n",
       " 'aaaaaaaaaaaages',\n",
       " 'aaaaaaaaaaaah',\n",
       " 'aaaaaaaaaaaahhhhhhhhhhhhh',\n",
       " 'aaaaaaaaaaaalbum',\n",
       " 'aaaaaaaaaaah',\n",
       " 'aaaaaaaaaaahhhhhh',\n",
       " 'aaaaaaaaaaahhhhhhhh',\n",
       " 'aaaaaaaaaaahhhhhhhhhhhhhhh',\n",
       " 'aaaaaaaaaaand',\n",
       " 'aaaaaaaaaaarggggggggggghhhhhhhhh',\n",
       " 'aaaaaaaaaaarggggggggh',\n",
       " 'aaaaaaaaaaargh',\n",
       " 'aaaaaaaaaaassssssssssssssssss',\n",
       " 'aaaaaaaaaaaw',\n",
       " 'aaaaaaaaaaawwwwwwwwwwwwweeeeeeeeeeee',\n",
       " 'aaaaaaaaaages',\n",
       " 'aaaaaaaaaah',\n",
       " 'aaaaaaaaaahh',\n",
       " 'aaaaaaaaaahhh',\n",
       " 'aaaaaaaaaahhhhh',\n",
       " 'aaaaaaaaaahhhhhhh',\n",
       " 'aaaaaaaaaahhhhhhhh',\n",
       " 'aaaaaaaaaahhhhhhhhhhh',\n",
       " 'aaaaaaaaaahhhhhhhhhhhh',\n",
       " 'aaaaaaaaaahhhhhhhhhhhhh',\n",
       " 'aaaaaaaaaahhhhhhhhhhhhhhhhhhchus',\n",
       " 'aaaaaaaaaahhhhhhhhhhhrrrrrrggggg',\n",
       " 'aaaaaaaaaalex',\n",
       " 'aaaaaaaaaall',\n",
       " 'aaaaaaaaaamazing',\n",
       " 'aaaaaaaaaand',\n",
       " 'aaaaaaaaaarrrrrrgh',\n",
       " 'aaaaaaaaaaw',\n",
       " 'aaaaaaaaafter',\n",
       " 'aaaaaaaaages',\n",
       " 'aaaaaaaaagh',\n",
       " 'aaaaaaaaah',\n",
       " 'aaaaaaaaahhhhhh',\n",
       " 'aaaaaaaaahhhhhhh',\n",
       " 'aaaaaaaaahhhhhhhaaaa',\n",
       " 'aaaaaaaaahhhhhhhh',\n",
       " 'aaaaaaaaahhhhhhhhhhhh',\n",
       " 'aaaaaaaaall',\n",
       " 'aaaaaaaaallllllllllll',\n",
       " 'aaaaaaaaammmmmmmmmmmmmmmyyyyyyyy',\n",
       " 'aaaaaaaaand',\n",
       " 'aaaaaaaaao',\n",
       " 'aaaaaaaaare',\n",
       " 'aaaaaaaaargh',\n",
       " 'aaaaaaaaarghhhhhhhhhhh',\n",
       " 'aaaaaaaaariel',\n",
       " 'aaaaaaaaarrrrrrrrgggggggg',\n",
       " 'aaaaaaaaaw',\n",
       " 'aaaaaaaafternoon',\n",
       " 'aaaaaaaah',\n",
       " 'aaaaaaaahahahahahhahahahahah',\n",
       " 'aaaaaaaahh',\n",
       " 'aaaaaaaahhh',\n",
       " 'aaaaaaaahhhh',\n",
       " 'aaaaaaaahhhhh',\n",
       " 'aaaaaaaahhhhhh',\n",
       " 'aaaaaaaahhhhhhh',\n",
       " 'aaaaaaaahhhhhhhh',\n",
       " 'aaaaaaaahhhhhhhhh',\n",
       " 'aaaaaaaall',\n",
       " 'aaaaaaaalll',\n",
       " 'aaaaaaaand',\n",
       " 'aaaaaaaargh',\n",
       " 'aaaaaaaarrrrggggg',\n",
       " 'aaaaaaaauuuuuuugggghhh',\n",
       " 'aaaaaaaaw',\n",
       " 'aaaaaaackkkkkk',\n",
       " 'aaaaaaadn',\n",
       " 'aaaaaaages',\n",
       " 'aaaaaaagggggghhhhhh',\n",
       " 'aaaaaaaggggghhh',\n",
       " 'aaaaaaagh',\n",
       " 'aaaaaaah',\n",
       " 'aaaaaaahahahaha',\n",
       " 'aaaaaaahahahahaaaaa',\n",
       " 'aaaaaaahahahahahaha',\n",
       " 'aaaaaaahh',\n",
       " 'aaaaaaahhh',\n",
       " 'aaaaaaahhhhh',\n",
       " 'aaaaaaahhhhhh',\n",
       " 'aaaaaaahhhhhhh',\n",
       " 'aaaaaaahhhhhhhh',\n",
       " 'aaaaaaalcohol',\n",
       " 'aaaaaaall',\n",
       " 'aaaaaaand',\n",
       " 'aaaaaaanddddd',\n",
       " 'aaaaaaannd',\n",
       " 'aaaaaaargggghh',\n",
       " 'aaaaaaargh',\n",
       " 'aaaaaaarrgghh',\n",
       " 'aaaaaaarrrrrrgggggggghhhhhhhhh',\n",
       " 'aaaaaaaw',\n",
       " 'aaaaaaawh',\n",
       " 'aaaaaackkkk',\n",
       " 'aaaaaafech',\n",
       " 'aaaaaagers',\n",
       " 'aaaaaages',\n",
       " 'aaaaaagh',\n",
       " 'aaaaaaghhhhh',\n",
       " 'aaaaaah',\n",
       " 'aaaaaahahahhaha',\n",
       " 'aaaaaahh',\n",
       " 'aaaaaahhh',\n",
       " 'aaaaaahhhh',\n",
       " 'aaaaaahhhhh',\n",
       " 'aaaaaahhhhhh',\n",
       " 'aaaaaahhhhhhh',\n",
       " 'aaaaaahhhhhhhh',\n",
       " 'aaaaaahhhhhhhhh',\n",
       " 'aaaaaahhn',\n",
       " 'aaaaaainnnn',\n",
       " 'aaaaaak',\n",
       " 'aaaaaakkkh',\n",
       " 'aaaaaalcohol',\n",
       " 'aaaaaall',\n",
       " 'aaaaaalllat',\n",
       " 'aaaaaamaaazinggggg',\n",
       " 'aaaaaamazing',\n",
       " 'aaaaaammm',\n",
       " 'aaaaaammmazzzingggg',\n",
       " 'aaaaaamy',\n",
       " 'aaaaaan',\n",
       " 'aaaaaand',\n",
       " 'aaaaaannnnnnddd',\n",
       " 'aaaaaanyways',\n",
       " 'aaaaaaooooow',\n",
       " 'aaaaaarggggggggg',\n",
       " 'aaaaaargh',\n",
       " 'aaaaaarrrggggg',\n",
       " 'aaaaaarrrgghhh',\n",
       " 'aaaaaarrrghhh',\n",
       " 'aaaaaarrrrghhhhh',\n",
       " 'aaaaaarrrrrrrrr',\n",
       " 'aaaaaarrrrrrrrrrggggghhhhhhhhhhh',\n",
       " 'aaaaaaw',\n",
       " 'aaaaaawesome',\n",
       " 'aaaaaawwwwwwwwwwwwww',\n",
       " 'aaaaacattyisamazing',\n",
       " 'aaaaache',\n",
       " 'aaaaachhhooo',\n",
       " 'aaaaack',\n",
       " 'aaaaages',\n",
       " 'aaaaagh',\n",
       " 'aaaaagsh',\n",
       " 'aaaaah',\n",
       " 'aaaaahh',\n",
       " 'aaaaahhh',\n",
       " 'aaaaahhhh',\n",
       " 'aaaaahhhhh',\n",
       " 'aaaaahhhhhh',\n",
       " 'aaaaahhhhhhh',\n",
       " 'aaaaahhhhhhhh',\n",
       " 'aaaaahhhhhhhhhhhhh',\n",
       " 'aaaaaight',\n",
       " 'aaaaaiiiiight',\n",
       " 'aaaaalcohol',\n",
       " 'aaaaall',\n",
       " 'aaaaalll',\n",
       " 'aaaaallll',\n",
       " 'aaaaalllllll',\n",
       " 'aaaaamazing',\n",
       " 'aaaaammmnmmaaaaazing',\n",
       " 'aaaaand',\n",
       " 'aaaaandddd',\n",
       " 'aaaaannnddd',\n",
       " 'aaaaannnnd',\n",
       " 'aaaaannnnnnd',\n",
       " 'aaaaanttz',\n",
       " 'aaaaaoouoouoouu',\n",
       " 'aaaaare',\n",
       " 'aaaaarg',\n",
       " 'aaaaargggh',\n",
       " 'aaaaargh',\n",
       " 'aaaaarrgh',\n",
       " 'aaaaarrrgggghhhh',\n",
       " 'aaaaarrrgghh',\n",
       " 'aaaaarrrgh',\n",
       " 'aaaaarrrrgggghhhh',\n",
       " 'aaaaarrrrggghhh',\n",
       " 'aaaaarrrrrrghhhhhhh',\n",
       " 'aaaaarrrrrrr',\n",
       " 'aaaaarrrrrrrrrrggggggggggg',\n",
       " 'aaaaarrrrrrrrrrrggggggggggghhhhhhhhh',\n",
       " 'aaaaarrrrrrrrrrrrrggggggggghh',\n",
       " 'aaaaaw',\n",
       " 'aaaaawhh',\n",
       " 'aaaaaww',\n",
       " 'aaaaawww',\n",
       " 'aaaaawwwww',\n",
       " 'aaaaayyyyy',\n",
       " 'aaaacheeee',\n",
       " 'aaaachei',\n",
       " 'aaaack',\n",
       " 'aaaae',\n",
       " 'aaaagain',\n",
       " 'aaaages',\n",
       " 'aaaagggeesss',\n",
       " 'aaaagggesss',\n",
       " 'aaaagggessss',\n",
       " 'aaaagggghhhhhh',\n",
       " 'aaaaggghh',\n",
       " 'aaaaggghhh',\n",
       " 'aaaagghh',\n",
       " 'aaaagghhh',\n",
       " 'aaaagh',\n",
       " 'aaaaghh',\n",
       " 'aaaaghhh',\n",
       " 'aaaah',\n",
       " 'aaaahah',\n",
       " 'aaaahahah',\n",
       " 'aaaahahahahahahahahahahahahahahahah',\n",
       " 'aaaahahhaha',\n",
       " 'aaaahh',\n",
       " 'aaaahhh',\n",
       " 'aaaahhhghhhhh',\n",
       " 'aaaahhhh',\n",
       " 'aaaahhhheeeecckkk',\n",
       " 'aaaahhhhh',\n",
       " 'aaaahhhhhchhhooooo',\n",
       " 'aaaahhhhhh',\n",
       " 'aaaahhhhhhh',\n",
       " 'aaaahhhhhhhh',\n",
       " 'aaaahhhhhhhhh',\n",
       " 'aaaahhhhhhhhhhh',\n",
       " 'aaaahhhhhhhhhhhh',\n",
       " 'aaaahhhhhhhhhhhhhhhhhhhhhhhhhhhhh',\n",
       " 'aaaahhhhhhhrrrrrrgggggghhhhhhh',\n",
       " 'aaaahw',\n",
       " 'aaaai',\n",
       " 'aaaaiieee',\n",
       " 'aaaaiiiight',\n",
       " 'aaaakkk',\n",
       " 'aaaall',\n",
       " 'aaaalll',\n",
       " 'aaaallll',\n",
       " 'aaaalllll',\n",
       " 'aaaallwaaaays',\n",
       " 'aaaamaaaazing',\n",
       " 'aaaamazing',\n",
       " 'aaaamazziiingg',\n",
       " 'aaaamin',\n",
       " 'aaaamm',\n",
       " 'aaaamy',\n",
       " 'aaaand',\n",
       " 'aaaandddd',\n",
       " 'aaaannd',\n",
       " 'aaaanndd',\n",
       " 'aaaannnd',\n",
       " 'aaaannnddd',\n",
       " 'aaaannnddyyy',\n",
       " 'aaaannnnd',\n",
       " 'aaaannnnnnndddd',\n",
       " 'aaaanyooone',\n",
       " 'aaaanything',\n",
       " 'aaaanyway',\n",
       " 'aaaanywhere',\n",
       " 'aaaaoooo',\n",
       " 'aaaap',\n",
       " 'aaaar',\n",
       " 'aaaarat',\n",
       " 'aaaardvark',\n",
       " 'aaaargggghhh',\n",
       " 'aaaargh',\n",
       " 'aaaarh',\n",
       " 'aaaarhh',\n",
       " 'aaaarrggghh',\n",
       " 'aaaarrgghh',\n",
       " 'aaaarrgghhhhhhhh',\n",
       " 'aaaarrrgggggghhh',\n",
       " 'aaaarrrgggghh',\n",
       " 'aaaarrrgggghhh',\n",
       " 'aaaarrrggghhh',\n",
       " 'aaaarrrgghhh',\n",
       " 'aaaarrrgghhhh',\n",
       " 'aaaarrrgh',\n",
       " 'aaaarrrrgggghhh',\n",
       " 'aaaarrrrggghhh',\n",
       " 'aaaarrrrr',\n",
       " 'aaaarrrrrggggghhhh',\n",
       " 'aaaarrrrrgh',\n",
       " 'aaaarses',\n",
       " 'aaaash',\n",
       " 'aaaat',\n",
       " 'aaaau',\n",
       " 'aaaaugh',\n",
       " 'aaaauuu',\n",
       " 'aaaauuuggghhh',\n",
       " 'aaaaw',\n",
       " 'aaaawesome',\n",
       " 'aaaawh',\n",
       " 'aaaaww',\n",
       " 'aaaawww',\n",
       " 'aaaawwww',\n",
       " 'aaaawwwwww',\n",
       " 'aaaawwwwwww',\n",
       " 'aaaay',\n",
       " 'aaaayt',\n",
       " 'aaaayyyy',\n",
       " 'aaaayyyyyy',\n",
       " 'aaacceeeeeeee',\n",
       " 'aaacckk',\n",
       " 'aaach',\n",
       " 'aaache',\n",
       " 'aaack',\n",
       " 'aaackk',\n",
       " 'aaackkk',\n",
       " 'aaadam',\n",
       " 'aaafya',\n",
       " 'aaafyh',\n",
       " 'aaag',\n",
       " 'aaagain',\n",
       " 'aaages',\n",
       " 'aaagggghhhh',\n",
       " 'aaaggghhh',\n",
       " 'aaaggghhhhh',\n",
       " 'aaaggh',\n",
       " 'aaagghh',\n",
       " 'aaagghhh',\n",
       " 'aaagh',\n",
       " 'aaaghhh',\n",
       " 'aaaghhrr',\n",
       " 'aaah',\n",
       " 'aaaha',\n",
       " 'aaahaha',\n",
       " 'aaahahaha',\n",
       " 'aaahahahaha',\n",
       " 'aaahahha',\n",
       " 'aaahahhhh',\n",
       " 'aaahg',\n",
       " 'aaahgggggggggg',\n",
       " 'aaahh',\n",
       " 'aaahhh',\n",
       " 'aaahhhelp',\n",
       " 'aaahhhh',\n",
       " 'aaahhhhh',\n",
       " 'aaahhhhhh',\n",
       " 'aaahhhhhhh',\n",
       " 'aaahhhhhhhhh',\n",
       " 'aaahhhhhhhhhhh',\n",
       " 'aaahhhhhhhhhhhh',\n",
       " 'aaahhhhhhhhhhhhhhhhhhhhhhhhhh',\n",
       " 'aaahhmazzzzing',\n",
       " 'aaahk',\n",
       " 'aaahman',\n",
       " 'aaahw',\n",
       " 'aaahww',\n",
       " 'aaai',\n",
       " 'aaaiaiaiaiaiaiaaaaaaa',\n",
       " 'aaain',\n",
       " 'aaaj',\n",
       " 'aaajaayradd',\n",
       " 'aaalcohol',\n",
       " 'aaall',\n",
       " 'aaallll',\n",
       " 'aaallllllllll',\n",
       " 'aaallrighhtt',\n",
       " 'aaalmost',\n",
       " 'aaalwaaays',\n",
       " 'aaam',\n",
       " 'aaamaazing',\n",
       " 'aaamazing',\n",
       " 'aaammaaazing',\n",
       " 'aaammaaazzziinngg',\n",
       " 'aaand',\n",
       " 'aaannnd',\n",
       " 'aaannnddd',\n",
       " 'aaannndddd',\n",
       " 'aaannnnd',\n",
       " 'aaanyways',\n",
       " 'aaaooo',\n",
       " 'aaaoouuwww',\n",
       " 'aaar',\n",
       " 'aaare',\n",
       " 'aaarg',\n",
       " 'aaarggg',\n",
       " 'aaargggh',\n",
       " 'aaarggh',\n",
       " 'aaargh',\n",
       " 'aaarghhh',\n",
       " 'aaarghhhh',\n",
       " 'aaarh',\n",
       " 'aaaron',\n",
       " 'aaaronspears',\n",
       " 'aaarrggghh',\n",
       " 'aaarrggghhh',\n",
       " 'aaarrggghhhh',\n",
       " 'aaarrggh',\n",
       " 'aaarrgghh',\n",
       " 'aaarrgghhh',\n",
       " 'aaarrgghhhh',\n",
       " 'aaarrgghhhhhh',\n",
       " 'aaarrgghhhhhhh',\n",
       " 'aaarrgh',\n",
       " 'aaarrghhh',\n",
       " 'aaarrghhhhh',\n",
       " 'aaarrhhh',\n",
       " 'aaarrr',\n",
       " 'aaarrrggg',\n",
       " 'aaarrrgggg',\n",
       " 'aaarrrgggghhh',\n",
       " 'aaarrrgggghhhhh',\n",
       " 'aaarrrgggghhhhhh',\n",
       " 'aaarrrgggh',\n",
       " 'aaarrrggghhh',\n",
       " 'aaarrrggghhhh',\n",
       " 'aaarrrggghhhhhh',\n",
       " 'aaarrrggghhhhhhhh',\n",
       " 'aaarrrggh',\n",
       " 'aaarrrgghh',\n",
       " 'aaarrrgghhh',\n",
       " 'aaarrrgghhhh',\n",
       " 'aaarrrgh',\n",
       " 'aaarrrrg',\n",
       " 'aaarrrrgggghhh',\n",
       " 'aaarrrrggghh',\n",
       " 'aaarrrrggghhh',\n",
       " 'aaarrrrgghhh',\n",
       " 'aaarrrrgghhhh',\n",
       " 'aaarrrrgh',\n",
       " 'aaarrrrrgh',\n",
       " 'aaarrrrrrgggghhhhh',\n",
       " 'aaarrrrrrrrr',\n",
       " 'aaarrrrrrrrrrggggghhh',\n",
       " 'aaas',\n",
       " 'aaasaaaaaargh',\n",
       " 'aaasaand',\n",
       " 'aaasages',\n",
       " 'aaashr',\n",
       " 'aaass',\n",
       " 'aaasssshhh',\n",
       " 'aaaugh',\n",
       " 'aaauuug',\n",
       " 'aaauuuggghhh',\n",
       " 'aaauuuummm',\n",
       " 'aaaw',\n",
       " 'aaawe',\n",
       " 'aaawesome',\n",
       " 'aaawfuuul',\n",
       " 'aaawh',\n",
       " 'aaaww',\n",
       " 'aaawwe',\n",
       " 'aaawwight',\n",
       " 'aaawwooo',\n",
       " 'aaawww',\n",
       " 'aaawwweeesssooommmeee',\n",
       " 'aaawwww',\n",
       " 'aaay',\n",
       " 'aaayyyeeeee',\n",
       " 'aab',\n",
       " 'aaba',\n",
       " 'aabangan',\n",
       " 'aabar',\n",
       " 'aabhar',\n",
       " 'aabinker',\n",
       " 'aabot',\n",
       " 'aabout',\n",
       " 'aabt',\n",
       " 'aac',\n",
       " 'aaccchhhooo',\n",
       " 'aacck',\n",
       " 'aacd',\n",
       " 'aachar',\n",
       " 'aachen',\n",
       " 'aachens',\n",
       " 'aack',\n",
       " 'aacount',\n",
       " 'aacr',\n",
       " 'aacs',\n",
       " 'aacura',\n",
       " 'aadaamm',\n",
       " 'aaden',\n",
       " 'aadha',\n",
       " 'aadillon',\n",
       " 'aadmi',\n",
       " 'aadvanspijk',\n",
       " 'aaeeeaaaa',\n",
       " 'aaeeeew',\n",
       " 'aaf',\n",
       " 'aafekm',\n",
       " 'aaffrriiccaa',\n",
       " 'aafk',\n",
       " 'aafterwards',\n",
       " 'aafz',\n",
       " 'aag',\n",
       " 'aagain',\n",
       " 'aagdhxhhshsshhh',\n",
       " 'aage',\n",
       " 'aagen',\n",
       " 'aagenealogy',\n",
       " 'aages',\n",
       " 'aaggeess',\n",
       " 'aaggghhh',\n",
       " 'aaggghhhh',\n",
       " 'aaggghhhhh',\n",
       " 'aaggh',\n",
       " 'aagghh',\n",
       " 'aagghhhh',\n",
       " 'aagghhhhh',\n",
       " 'aagh',\n",
       " 'aaghh',\n",
       " 'aagius',\n",
       " 'aagrh',\n",
       " 'aah',\n",
       " 'aaha',\n",
       " 'aahaa',\n",
       " 'aahaaaaaa',\n",
       " 'aahah',\n",
       " 'aahaha',\n",
       " 'aahahaa',\n",
       " 'aahahah',\n",
       " 'aahahaha',\n",
       " 'aahahahaa',\n",
       " 'aahahahah',\n",
       " 'aahahahaha',\n",
       " 'aahahahahaah',\n",
       " 'aahahahahahhahaha',\n",
       " 'aahahahha',\n",
       " 'aahahh',\n",
       " 'aahahha',\n",
       " 'aahgad',\n",
       " 'aahh',\n",
       " 'aahha',\n",
       " 'aahhaha',\n",
       " 'aahhg',\n",
       " 'aahhh',\n",
       " 'aahhha',\n",
       " 'aahhhggrrruuudhajaoqoufkslqlodi',\n",
       " 'aahhhh',\n",
       " 'aahhhhh',\n",
       " 'aahhhhhh',\n",
       " 'aahhhhhhh',\n",
       " 'aahhhhhhhh',\n",
       " 'aahhhhhhhhhhhhhhhhh',\n",
       " 'aahhhhhhhhhhhhhhhhhhhhh',\n",
       " 'aahhhhhhhhhhhhhhhhhhhhhh',\n",
       " 'aahhhhwhats',\n",
       " 'aahhhm',\n",
       " 'aahista',\n",
       " 'aahmhm',\n",
       " 'aahnoooo',\n",
       " 'aahren',\n",
       " 'aahs',\n",
       " 'aahw',\n",
       " 'aahww',\n",
       " 'aai',\n",
       " 'aaii',\n",
       " 'aaiight',\n",
       " 'aaiiiihhhhh',\n",
       " 'aain',\n",
       " 'aair',\n",
       " 'aaisp',\n",
       " 'aait',\n",
       " 'aaiwa',\n",
       " 'aaiyah',\n",
       " 'aaj',\n",
       " 'aaja',\n",
       " 'aajao',\n",
       " 'aaje',\n",
       " 'aajjj',\n",
       " 'aajkal',\n",
       " 'aak',\n",
       " 'aakar',\n",
       " 'aakash',\n",
       " 'aake',\n",
       " 'aakgsdfh',\n",
       " 'aal',\n",
       " 'aala',\n",
       " 'aalas',\n",
       " 'aalborg',\n",
       " 'aalech',\n",
       " 'aalinakirche',\n",
       " 'aalis',\n",
       " 'aaliyah',\n",
       " 'aaliyahlove',\n",
       " 'aaliyas',\n",
       " 'aalk',\n",
       " 'aall',\n",
       " 'aalliicciaa',\n",
       " 'aalll',\n",
       " 'aalochikanamayirunnu',\n",
       " 'aaloo',\n",
       " 'aalor',\n",
       " 'aalright',\n",
       " 'aalsmeer',\n",
       " 'aalways',\n",
       " 'aam',\n",
       " 'aama',\n",
       " 'aamar',\n",
       " 'aamara',\n",
       " 'aamaustin',\n",
       " 'aamaziiiiiiiiiing',\n",
       " 'aamazing',\n",
       " 'aamc',\n",
       " 'aami',\n",
       " 'aamin',\n",
       " 'aamir',\n",
       " 'aamirkhan',\n",
       " 'aamm',\n",
       " 'aammaazziinngg',\n",
       " 'aamna',\n",
       " 'aamras',\n",
       " 'aamzing',\n",
       " 'aan',\n",
       " 'aana',\n",
       " 'aand',\n",
       " 'aandd',\n",
       " 'aandhi',\n",
       " 'aandolan',\n",
       " 'aandy',\n",
       " 'aane',\n",
       " 'aanestad',\n",
       " 'aang',\n",
       " 'aangelez',\n",
       " 'aanica',\n",
       " 'aannd',\n",
       " 'aannndd',\n",
       " 'aannnddd',\n",
       " 'aannnna',\n",
       " 'aanswer',\n",
       " 'aanswwe',\n",
       " 'aant',\n",
       " 'aanu',\n",
       " 'aao',\n",
       " 'aaohh',\n",
       " 'aaoowwaa',\n",
       " 'aaoowwww',\n",
       " 'aap',\n",
       " 'aapchxi',\n",
       " 'aapep',\n",
       " 'aapka',\n",
       " 'aapke',\n",
       " 'aapko',\n",
       " 'aapl',\n",
       " 'aapne',\n",
       " 'aapni',\n",
       " 'aapreciate',\n",
       " 'aapse',\n",
       " 'aapt',\n",
       " 'aapupko',\n",
       " 'aapy',\n",
       " 'aar',\n",
       " 'aaraamse',\n",
       " 'aaral',\n",
       " 'aaram',\n",
       " 'aaran',\n",
       " 'aarbei',\n",
       " 'aardvark',\n",
       " 'aare',\n",
       " 'aarent',\n",
       " 'aarey',\n",
       " 'aarg',\n",
       " 'aargg',\n",
       " 'aarggg',\n",
       " 'aargggghhh',\n",
       " 'aarggghhh',\n",
       " 'aarggh',\n",
       " 'aargghh',\n",
       " 'aargghhh',\n",
       " 'aargh',\n",
       " 'aarghh',\n",
       " 'aarghhh',\n",
       " 'aarghhhh',\n",
       " 'aarh',\n",
       " 'aarhus',\n",
       " 'aaries',\n",
       " 'aariz',\n",
       " 'aarmy',\n",
       " 'aarnold',\n",
       " 'aaron',\n",
       " 'aaroncartercell',\n",
       " 'aaroncarterisadouche',\n",
       " 'aaroncarterisdouche',\n",
       " 'aaronisadouche',\n",
       " 'aaronn',\n",
       " 'aaronnnnn',\n",
       " 'aaronovitch',\n",
       " 'aarons',\n",
       " 'aarooonnnn',\n",
       " 'aarp',\n",
       " 'aarr',\n",
       " 'aarrears',\n",
       " 'aarrg',\n",
       " 'aarrggghh',\n",
       " 'aarrggghhh',\n",
       " 'aarrggh',\n",
       " 'aarrgghh',\n",
       " 'aarrgghhh',\n",
       " 'aarrgh',\n",
       " 'aarrghghh',\n",
       " 'aarrghh',\n",
       " 'aarrghhh',\n",
       " 'aarrhhhhh',\n",
       " 'aarrighh',\n",
       " 'aarron',\n",
       " 'aarrr',\n",
       " 'aarrrg',\n",
       " 'aarrrgggghhhhh',\n",
       " 'aarrrggghh',\n",
       " 'aarrrggghhh',\n",
       " 'aarrrggghhhh',\n",
       " 'aarrrgghh',\n",
       " 'aarrrgghhh',\n",
       " 'aarrrgghhhh',\n",
       " 'aarrrgh',\n",
       " 'aarrrr',\n",
       " 'aarrrrggghhhhh',\n",
       " 'aarrrrr',\n",
       " 'aarrrrrrghhhhhhhhhhh',\n",
       " 'aarrrrrrrrr',\n",
       " 'aarshdeep',\n",
       " 'aartee',\n",
       " 'aarti',\n",
       " 'aarton',\n",
       " 'aaru',\n",
       " 'aas',\n",
       " 'aasahan',\n",
       " 'aasar',\n",
       " 'aase',\n",
       " 'aash',\n",
       " 'aasha',\n",
       " 'aashabay',\n",
       " 'aashrit',\n",
       " 'aasl',\n",
       " 'aasman',\n",
       " 'aasshhh',\n",
       " 'aasu',\n",
       " 'aat',\n",
       " 'aata',\n",
       " 'aatbigg',\n",
       " 'aate',\n",
       " 'aatg',\n",
       " 'aati',\n",
       " 'aatm',\n",
       " 'aats',\n",
       " 'aatw',\n",
       " 'aau',\n",
       " 'aaugh',\n",
       " 'aauk',\n",
       " 'aaunty',\n",
       " 'aaustralia',\n",
       " 'aauugghh',\n",
       " 'aauummmm',\n",
       " 'aauuuguuuust',\n",
       " 'aauuummm',\n",
       " 'aauw',\n",
       " 'aav',\n",
       " 'aave',\n",
       " 'aaw',\n",
       " 'aawaaz',\n",
       " 'aawaj',\n",
       " 'aawake',\n",
       " 'aaway',\n",
       " 'aaweeesommeeeee',\n",
       " 'aawers',\n",
       " 'aawh',\n",
       " 'aawhhh',\n",
       " 'aawn',\n",
       " 'aaww',\n",
       " 'aawwee',\n",
       " 'aawweessoomeee',\n",
       " 'aawwesomee',\n",
       " 'aawwh',\n",
       " 'aawww',\n",
       " 'aawwww',\n",
       " 'aawwwww',\n",
       " 'aawwwwww',\n",
       " 'aaxh',\n",
       " 'aay',\n",
       " 'aaya',\n",
       " 'aaye',\n",
       " 'aayega',\n",
       " 'aayegi',\n",
       " 'aayi',\n",
       " 'aayirunnathre',\n",
       " 'aayittu',\n",
       " 'aayla',\n",
       " 'aayos',\n",
       " 'aayudham',\n",
       " 'aayup',\n",
       " 'aayy',\n",
       " 'aayyee',\n",
       " 'aayyy',\n",
       " 'ab',\n",
       " 'aba',\n",
       " 'abaaa',\n",
       " 'ababa',\n",
       " 'ababes',\n",
       " 'ababy',\n",
       " 'abac',\n",
       " 'abacaxi',\n",
       " 'aback',\n",
       " 'abacus',\n",
       " 'abad',\n",
       " 'abadi',\n",
       " 'abadoned',\n",
       " 'abagail',\n",
       " 'abah',\n",
       " 'abahahha',\n",
       " 'abahd',\n",
       " 'abaigail',\n",
       " 'abailability',\n",
       " 'abajito',\n",
       " 'abajo',\n",
       " 'abakhan',\n",
       " 'abal',\n",
       " 'abalone',\n",
       " 'abamectin',\n",
       " 'aban',\n",
       " 'abandan',\n",
       " 'abanded',\n",
       " 'abandon',\n",
       " 'abandonada',\n",
       " 'abandonado',\n",
       " 'abandonator',\n",
       " 'abandond',\n",
       " 'abandonded',\n",
       " 'abandone',\n",
       " 'abandoned',\n",
       " 'abandonei',\n",
       " 'abandoners',\n",
       " 'abandonin',\n",
       " 'abandoning',\n",
       " 'abandonment',\n",
       " 'abandonned',\n",
       " 'abandons',\n",
       " 'abang',\n",
       " 'abangan',\n",
       " 'abangmu',\n",
       " 'abangs',\n",
       " 'abans',\n",
       " 'abarth',\n",
       " 'abassador',\n",
       " 'abasto',\n",
       " 'abat',\n",
       " 'abate',\n",
       " 'abated',\n",
       " 'abatement',\n",
       " 'abating',\n",
       " 'abattender',\n",
       " 'abaut',\n",
       " 'abay',\n",
       " 'abaya',\n",
       " 'abb',\n",
       " 'abba',\n",
       " 'abbal',\n",
       " 'abbas',\n",
       " 'abbbbeeeeeeee',\n",
       " 'abbbeeeee',\n",
       " 'abbc',\n",
       " 'abbe',\n",
       " 'abbeeeeeeey',\n",
       " 'abbelia',\n",
       " 'abberly',\n",
       " 'abbes',\n",
       " 'abbey',\n",
       " 'abbeys',\n",
       " 'abbeywilliams',\n",
       " 'abbeyyy',\n",
       " 'abbeyyyy',\n",
       " 'abbi',\n",
       " 'abbia',\n",
       " 'abbie',\n",
       " 'abbieandbeth',\n",
       " 'abbieee',\n",
       " 'abbies',\n",
       " 'abbigale',\n",
       " 'abbii',\n",
       " 'abbiie',\n",
       " 'abbiieee',\n",
       " 'abbiieeee',\n",
       " 'abbis',\n",
       " 'abbo',\n",
       " 'abbot',\n",
       " 'abbott',\n",
       " 'abbottabad',\n",
       " 'abbottsfield',\n",
       " 'abbout',\n",
       " 'abbq',\n",
       " 'abbraccio',\n",
       " 'abbreviate',\n",
       " 'abbreviated',\n",
       " 'abbreviation',\n",
       " 'abbreviations',\n",
       " 'abbriviation',\n",
       " 'abbrv',\n",
       " 'abbs',\n",
       " 'abbster',\n",
       " 'abbu',\n",
       " 'abby',\n",
       " 'abbye',\n",
       " 'abbys',\n",
       " 'abbyspants',\n",
       " 'abbz',\n",
       " 'abc',\n",
       " 'abcc',\n",
       " 'abcd',\n",
       " 'abcdani',\n",
       " 'abcdca',\n",
       " 'abcdef',\n",
       " 'abcdefghij',\n",
       " 'abcdefghijklmnopqrstuvwxy',\n",
       " 'abcdefghijklmnopqrstuvwxyz',\n",
       " 'abcdghi',\n",
       " 'abce',\n",
       " 'abcess',\n",
       " 'abcessed',\n",
       " 'abcfamily',\n",
       " 'abck',\n",
       " 'abckatesnow',\n",
       " 'abcmarc',\n",
       " 'abcnews',\n",
       " 'abconcerts',\n",
       " 'abcs',\n",
       " 'abcv',\n",
       " 'abcwhitehousetakeover',\n",
       " 'abd',\n",
       " 'abdali',\n",
       " 'abdc',\n",
       " 'abdelhalim',\n",
       " 'abdelkader',\n",
       " 'abdi',\n",
       " 'abdicating',\n",
       " 'abdiel',\n",
       " 'abdn',\n",
       " 'abdntweetup',\n",
       " ...]"
      ]
     },
     "execution_count": 80,
     "metadata": {},
     "output_type": "execute_result"
    }
   ],
   "source": [
    "vectorizer.get_feature_names()\n",
    "\n",
    "## There are some really stupid words that are extracted as features"
   ]
  },
  {
   "cell_type": "code",
   "execution_count": 82,
   "metadata": {},
   "outputs": [],
   "source": [
    "neg_doc = vectorizer.transform(df[df['label']==0]['text'])\n",
    "pos_doc = vectorizer.transform(df[df['label']==4]['text'])"
   ]
  },
  {
   "cell_type": "code",
   "execution_count": 83,
   "metadata": {},
   "outputs": [
    {
     "data": {
      "text/plain": [
       "(797858, 266797)"
      ]
     },
     "execution_count": 83,
     "metadata": {},
     "output_type": "execute_result"
    }
   ],
   "source": [
    "pos_doc.shape"
   ]
  },
  {
   "cell_type": "code",
   "execution_count": 87,
   "metadata": {},
   "outputs": [],
   "source": [
    "neg_tf = np.sum(neg_doc, axis =0)\n",
    "pos_tf = np.sum(pos_doc, axis =0)"
   ]
  },
  {
   "cell_type": "code",
   "execution_count": 88,
   "metadata": {},
   "outputs": [
    {
     "data": {
      "text/plain": [
       "(1, 266797)"
      ]
     },
     "execution_count": 88,
     "metadata": {},
     "output_type": "execute_result"
    }
   ],
   "source": [
    "pos_tf.shape"
   ]
  },
  {
   "cell_type": "code",
   "execution_count": 89,
   "metadata": {},
   "outputs": [],
   "source": [
    "# this is to remove the extra dimension\n",
    "neg =np.squeeze(np.asarray(neg_tf))\n",
    "pos = np.squeeze(np.asarray(pos_tf))"
   ]
  },
  {
   "cell_type": "code",
   "execution_count": 90,
   "metadata": {},
   "outputs": [
    {
     "data": {
      "text/html": [
       "<div>\n",
       "<style scoped>\n",
       "    .dataframe tbody tr th:only-of-type {\n",
       "        vertical-align: middle;\n",
       "    }\n",
       "\n",
       "    .dataframe tbody tr th {\n",
       "        vertical-align: top;\n",
       "    }\n",
       "\n",
       "    .dataframe thead th {\n",
       "        text-align: right;\n",
       "    }\n",
       "</style>\n",
       "<table border=\"1\" class=\"dataframe\">\n",
       "  <thead>\n",
       "    <tr style=\"text-align: right;\">\n",
       "      <th></th>\n",
       "      <th>Negative</th>\n",
       "      <th>Positive</th>\n",
       "      <th>total</th>\n",
       "    </tr>\n",
       "  </thead>\n",
       "  <tbody>\n",
       "    <tr>\n",
       "      <th>aa</th>\n",
       "      <td>160</td>\n",
       "      <td>93</td>\n",
       "      <td>253</td>\n",
       "    </tr>\n",
       "    <tr>\n",
       "      <th>aaa</th>\n",
       "      <td>93</td>\n",
       "      <td>54</td>\n",
       "      <td>147</td>\n",
       "    </tr>\n",
       "    <tr>\n",
       "      <th>aaaa</th>\n",
       "      <td>45</td>\n",
       "      <td>29</td>\n",
       "      <td>74</td>\n",
       "    </tr>\n",
       "    <tr>\n",
       "      <th>aaaaa</th>\n",
       "      <td>26</td>\n",
       "      <td>12</td>\n",
       "      <td>38</td>\n",
       "    </tr>\n",
       "    <tr>\n",
       "      <th>aaaaaa</th>\n",
       "      <td>16</td>\n",
       "      <td>12</td>\n",
       "      <td>28</td>\n",
       "    </tr>\n",
       "  </tbody>\n",
       "</table>\n",
       "</div>"
      ],
      "text/plain": [
       "        Negative  Positive  total\n",
       "aa           160        93    253\n",
       "aaa           93        54    147\n",
       "aaaa          45        29     74\n",
       "aaaaa         26        12     38\n",
       "aaaaaa        16        12     28"
      ]
     },
     "execution_count": 90,
     "metadata": {},
     "output_type": "execute_result"
    }
   ],
   "source": [
    "term_freq = pd.DataFrame([neg,pos], columns = vectorizer.get_feature_names()).transpose()\n",
    "\n",
    "## Now we have 2 columns negative positive.\n",
    "## the term frequency for each of the word in both positive and negetive reviews\n",
    "term_freq.columns =['Negative', 'Positive']\n",
    "term_freq['total'] = term_freq['Negative']+ term_freq['Positive']\n",
    "term_freq.head()"
   ]
  },
  {
   "cell_type": "code",
   "execution_count": 91,
   "metadata": {},
   "outputs": [
    {
     "data": {
      "text/html": [
       "<div>\n",
       "<style scoped>\n",
       "    .dataframe tbody tr th:only-of-type {\n",
       "        vertical-align: middle;\n",
       "    }\n",
       "\n",
       "    .dataframe tbody tr th {\n",
       "        vertical-align: top;\n",
       "    }\n",
       "\n",
       "    .dataframe thead th {\n",
       "        text-align: right;\n",
       "    }\n",
       "</style>\n",
       "<table border=\"1\" class=\"dataframe\">\n",
       "  <thead>\n",
       "    <tr style=\"text-align: right;\">\n",
       "      <th></th>\n",
       "      <th>Negative</th>\n",
       "      <th>Positive</th>\n",
       "      <th>total</th>\n",
       "    </tr>\n",
       "  </thead>\n",
       "  <tbody>\n",
       "    <tr>\n",
       "      <th>to</th>\n",
       "      <td>344213</td>\n",
       "      <td>272482</td>\n",
       "      <td>616695</td>\n",
       "    </tr>\n",
       "    <tr>\n",
       "      <th>the</th>\n",
       "      <td>258026</td>\n",
       "      <td>266159</td>\n",
       "      <td>524185</td>\n",
       "    </tr>\n",
       "    <tr>\n",
       "      <th>is</th>\n",
       "      <td>202770</td>\n",
       "      <td>180263</td>\n",
       "      <td>383033</td>\n",
       "    </tr>\n",
       "    <tr>\n",
       "      <th>you</th>\n",
       "      <td>129248</td>\n",
       "      <td>232588</td>\n",
       "      <td>361836</td>\n",
       "    </tr>\n",
       "    <tr>\n",
       "      <th>not</th>\n",
       "      <td>242072</td>\n",
       "      <td>105225</td>\n",
       "      <td>347297</td>\n",
       "    </tr>\n",
       "    <tr>\n",
       "      <th>my</th>\n",
       "      <td>190776</td>\n",
       "      <td>125956</td>\n",
       "      <td>316732</td>\n",
       "    </tr>\n",
       "    <tr>\n",
       "      <th>it</th>\n",
       "      <td>157520</td>\n",
       "      <td>147891</td>\n",
       "      <td>305411</td>\n",
       "    </tr>\n",
       "    <tr>\n",
       "      <th>and</th>\n",
       "      <td>153959</td>\n",
       "      <td>149647</td>\n",
       "      <td>303606</td>\n",
       "    </tr>\n",
       "    <tr>\n",
       "      <th>in</th>\n",
       "      <td>115542</td>\n",
       "      <td>101163</td>\n",
       "      <td>216705</td>\n",
       "    </tr>\n",
       "    <tr>\n",
       "      <th>for</th>\n",
       "      <td>99004</td>\n",
       "      <td>117369</td>\n",
       "      <td>216373</td>\n",
       "    </tr>\n",
       "    <tr>\n",
       "      <th>of</th>\n",
       "      <td>92929</td>\n",
       "      <td>91255</td>\n",
       "      <td>184184</td>\n",
       "    </tr>\n",
       "    <tr>\n",
       "      <th>have</th>\n",
       "      <td>102900</td>\n",
       "      <td>76774</td>\n",
       "      <td>179674</td>\n",
       "    </tr>\n",
       "    <tr>\n",
       "      <th>that</th>\n",
       "      <td>87033</td>\n",
       "      <td>88258</td>\n",
       "      <td>175291</td>\n",
       "    </tr>\n",
       "    <tr>\n",
       "      <th>am</th>\n",
       "      <td>97280</td>\n",
       "      <td>72963</td>\n",
       "      <td>170243</td>\n",
       "    </tr>\n",
       "    <tr>\n",
       "      <th>on</th>\n",
       "      <td>84196</td>\n",
       "      <td>84201</td>\n",
       "      <td>168397</td>\n",
       "    </tr>\n",
       "    <tr>\n",
       "      <th>me</th>\n",
       "      <td>92090</td>\n",
       "      <td>72073</td>\n",
       "      <td>164163</td>\n",
       "    </tr>\n",
       "    <tr>\n",
       "      <th>so</th>\n",
       "      <td>88553</td>\n",
       "      <td>65638</td>\n",
       "      <td>154191</td>\n",
       "    </tr>\n",
       "    <tr>\n",
       "      <th>do</th>\n",
       "      <td>80938</td>\n",
       "      <td>54033</td>\n",
       "      <td>134971</td>\n",
       "    </tr>\n",
       "    <tr>\n",
       "      <th>but</th>\n",
       "      <td>84896</td>\n",
       "      <td>48598</td>\n",
       "      <td>133494</td>\n",
       "    </tr>\n",
       "    <tr>\n",
       "      <th>just</th>\n",
       "      <td>64004</td>\n",
       "      <td>62945</td>\n",
       "      <td>126949</td>\n",
       "    </tr>\n",
       "  </tbody>\n",
       "</table>\n",
       "</div>"
      ],
      "text/plain": [
       "      Negative  Positive   total\n",
       "to      344213    272482  616695\n",
       "the     258026    266159  524185\n",
       "is      202770    180263  383033\n",
       "you     129248    232588  361836\n",
       "not     242072    105225  347297\n",
       "my      190776    125956  316732\n",
       "it      157520    147891  305411\n",
       "and     153959    149647  303606\n",
       "in      115542    101163  216705\n",
       "for      99004    117369  216373\n",
       "of       92929     91255  184184\n",
       "have    102900     76774  179674\n",
       "that     87033     88258  175291\n",
       "am       97280     72963  170243\n",
       "on       84196     84201  168397\n",
       "me       92090     72073  164163\n",
       "so       88553     65638  154191\n",
       "do       80938     54033  134971\n",
       "but      84896     48598  133494\n",
       "just     64004     62945  126949"
      ]
     },
     "execution_count": 91,
     "metadata": {},
     "output_type": "execute_result"
    }
   ],
   "source": [
    "term_freq.sort_values(by = 'total', ascending = False).head(20)"
   ]
  },
  {
   "cell_type": "code",
   "execution_count": 92,
   "metadata": {},
   "outputs": [
    {
     "data": {
      "text/html": [
       "<div>\n",
       "<style scoped>\n",
       "    .dataframe tbody tr th:only-of-type {\n",
       "        vertical-align: middle;\n",
       "    }\n",
       "\n",
       "    .dataframe tbody tr th {\n",
       "        vertical-align: top;\n",
       "    }\n",
       "\n",
       "    .dataframe thead th {\n",
       "        text-align: right;\n",
       "    }\n",
       "</style>\n",
       "<table border=\"1\" class=\"dataframe\">\n",
       "  <thead>\n",
       "    <tr style=\"text-align: right;\">\n",
       "      <th></th>\n",
       "      <th>Negative</th>\n",
       "      <th>Positive</th>\n",
       "      <th>total</th>\n",
       "    </tr>\n",
       "  </thead>\n",
       "  <tbody>\n",
       "    <tr>\n",
       "      <th>innabit</th>\n",
       "      <td>1</td>\n",
       "      <td>0</td>\n",
       "      <td>1</td>\n",
       "    </tr>\n",
       "    <tr>\n",
       "      <th>innaface</th>\n",
       "      <td>1</td>\n",
       "      <td>0</td>\n",
       "      <td>1</td>\n",
       "    </tr>\n",
       "    <tr>\n",
       "      <th>innagual</th>\n",
       "      <td>0</td>\n",
       "      <td>1</td>\n",
       "      <td>1</td>\n",
       "    </tr>\n",
       "    <tr>\n",
       "      <th>innaloo</th>\n",
       "      <td>0</td>\n",
       "      <td>1</td>\n",
       "      <td>1</td>\n",
       "    </tr>\n",
       "    <tr>\n",
       "      <th>zzzzzzzzzzzzzzzzzzzzzzzzzzzzzzzzzzzzzzzzzzzzzzzzzzzzzzzzz</th>\n",
       "      <td>1</td>\n",
       "      <td>0</td>\n",
       "      <td>1</td>\n",
       "    </tr>\n",
       "  </tbody>\n",
       "</table>\n",
       "</div>"
      ],
      "text/plain": [
       "                                                    Negative  Positive  total\n",
       "innabit                                                    1         0      1\n",
       "innaface                                                   1         0      1\n",
       "innagual                                                   0         1      1\n",
       "innaloo                                                    0         1      1\n",
       "zzzzzzzzzzzzzzzzzzzzzzzzzzzzzzzzzzzzzzzzzzzzzzz...         1         0      1"
      ]
     },
     "execution_count": 92,
     "metadata": {},
     "output_type": "execute_result"
    }
   ],
   "source": [
    "term_freq.sort_values(by = 'total', ascending = False).tail(5)"
   ]
  },
  {
   "cell_type": "code",
   "execution_count": 93,
   "metadata": {},
   "outputs": [],
   "source": [
    "## There are some really junk words in the corpus and countVectorizer is taking them as features. NOT GOOD"
   ]
  },
  {
   "cell_type": "code",
   "execution_count": 94,
   "metadata": {},
   "outputs": [],
   "source": [
    "term_freq.to_csv('term_freq.csv', encoding = 'utf-8')"
   ]
  },
  {
   "cell_type": "code",
   "execution_count": 95,
   "metadata": {},
   "outputs": [
    {
     "data": {
      "text/html": [
       "<div>\n",
       "<style scoped>\n",
       "    .dataframe tbody tr th:only-of-type {\n",
       "        vertical-align: middle;\n",
       "    }\n",
       "\n",
       "    .dataframe tbody tr th {\n",
       "        vertical-align: top;\n",
       "    }\n",
       "\n",
       "    .dataframe thead th {\n",
       "        text-align: right;\n",
       "    }\n",
       "</style>\n",
       "<table border=\"1\" class=\"dataframe\">\n",
       "  <thead>\n",
       "    <tr style=\"text-align: right;\">\n",
       "      <th></th>\n",
       "      <th>Negative</th>\n",
       "      <th>Positive</th>\n",
       "      <th>total</th>\n",
       "    </tr>\n",
       "    <tr>\n",
       "      <th>Unnamed: 0</th>\n",
       "      <th></th>\n",
       "      <th></th>\n",
       "      <th></th>\n",
       "    </tr>\n",
       "  </thead>\n",
       "  <tbody>\n",
       "    <tr>\n",
       "      <th>aa</th>\n",
       "      <td>160</td>\n",
       "      <td>93</td>\n",
       "      <td>253</td>\n",
       "    </tr>\n",
       "    <tr>\n",
       "      <th>aaa</th>\n",
       "      <td>93</td>\n",
       "      <td>54</td>\n",
       "      <td>147</td>\n",
       "    </tr>\n",
       "    <tr>\n",
       "      <th>aaaa</th>\n",
       "      <td>45</td>\n",
       "      <td>29</td>\n",
       "      <td>74</td>\n",
       "    </tr>\n",
       "    <tr>\n",
       "      <th>aaaaa</th>\n",
       "      <td>26</td>\n",
       "      <td>12</td>\n",
       "      <td>38</td>\n",
       "    </tr>\n",
       "    <tr>\n",
       "      <th>aaaaaa</th>\n",
       "      <td>16</td>\n",
       "      <td>12</td>\n",
       "      <td>28</td>\n",
       "    </tr>\n",
       "  </tbody>\n",
       "</table>\n",
       "</div>"
      ],
      "text/plain": [
       "            Negative  Positive  total\n",
       "Unnamed: 0                           \n",
       "aa               160        93    253\n",
       "aaa               93        54    147\n",
       "aaaa              45        29     74\n",
       "aaaaa             26        12     38\n",
       "aaaaaa            16        12     28"
      ]
     },
     "execution_count": 95,
     "metadata": {},
     "output_type": "execute_result"
    }
   ],
   "source": [
    "## Start from here \n",
    "\n",
    "term_freq = None\n",
    "term_freq = pd.read_csv('term_freq.csv')\n",
    "term_freq.set_index('Unnamed: 0',inplace = True)\n",
    "term_freq.head()"
   ]
  },
  {
   "cell_type": "code",
   "execution_count": 96,
   "metadata": {},
   "outputs": [
    {
     "data": {
      "image/png": "[encoded data removed]",
      "text/plain": [
       "<Figure size 720x432 with 1 Axes>"
      ]
     },
     "metadata": {
      "needs_background": "light"
     },
     "output_type": "display_data"
    }
   ],
   "source": [
    "words_count = 300\n",
    "\n",
    "words = np.arange(words_count)\n",
    "plt.figure(figsize = (10,6))\n",
    "plt.bar(x=words,height =term_freq.sort_values(by = 'total',ascending = False)['total'][:words_count])\n",
    "\n",
    "plt.title('Word Frequency')\n",
    "plt.show()"
   ]
  },
  {
   "cell_type": "code",
   "execution_count": 97,
   "metadata": {},
   "outputs": [],
   "source": [
    "import warnings\n",
    "warnings.filterwarnings(\"ignore\")"
   ]
  },
  {
   "cell_type": "code",
   "execution_count": 98,
   "metadata": {},
   "outputs": [
    {
     "data": {
      "text/plain": [
       "CountVectorizer(analyzer='word', binary=False, decode_error='strict',\n",
       "        dtype=<class 'numpy.int64'>, encoding='utf-8', input='content',\n",
       "        lowercase=True, max_df=1.0, max_features=5000, min_df=1,\n",
       "        ngram_range=(1, 1), preprocessor=None,\n",
       "        stop_words={'but', 'com', 'ourselves', 'over', 'your', 'our', \"don't\", 'that', 'the', 'up', 'doing', 'you', 'so', 'they', 'am', 'we', \"you'll\", \"didn't\", 'or', \"i'd\", 'i', 'few', 'nor', 'be', \"we'll\", \"when's\", 'also', 'has', 'some', 'from', \"weren't\", 'after', 'was', 'itself', 'since', 'this', 'wou...', \"she'll\", 'there', 'here', \"you're\", \"they've\", 'have', 'what', 'about', 'before', 'as', \"she'd\"},\n",
       "        strip_accents=None, token_pattern='(?u)\\\\b\\\\w\\\\w+\\\\b',\n",
       "        tokenizer=None, vocabulary=None)"
      ]
     },
     "execution_count": 98,
     "metadata": {},
     "output_type": "execute_result"
    }
   ],
   "source": [
    "from sklearn.feature_extraction.text import CountVectorizer\n",
    "\n",
    "## Here I am extracting the most important 5000 features\n",
    "vectorizer = CountVectorizer(stop_words = STOPWORDS,max_features = 5000)\n",
    "vectorizer.fit(df['text'])\n"
   ]
  },
  {
   "cell_type": "code",
   "execution_count": 100,
   "metadata": {},
   "outputs": [],
   "source": [
    "neg_doc = vectorizer.transform(df[df['label']==0]['text'])\n",
    "pos_doc = vectorizer.transform(df[df['label']==4]['text'])\n",
    "neg_tf = np.sum(neg_doc, axis =0)\n",
    "pos_tf = np.sum(pos_doc, axis =0)\n",
    "# this is to remove the extra dimension\n",
    "neg =np.squeeze(np.asarray(neg_tf))\n",
    "pos = np.squeeze(np.asarray(pos_tf))\n",
    "\n",
    "## Data frame for Term Frequency\n",
    "term_freq = pd.DataFrame([neg,pos], columns = vectorizer.get_feature_names()).transpose()\n",
    "\n",
    "## Now we have 2 columns negative positive.\n",
    "## the term frequency for each of the word in both positive and negetive comments\n",
    "term_freq.columns =['Negative', 'Positive']\n",
    "## Add the columns total \n",
    "term_freq['total'] = term_freq['Negative']+ term_freq['Positive']\n"
   ]
  },
  {
   "cell_type": "code",
   "execution_count": 101,
   "metadata": {},
   "outputs": [],
   "source": [
    "## THis is still lot of bad words in the learned features. So we will correct them using some other ways"
   ]
  },
  {
   "cell_type": "code",
   "execution_count": 102,
   "metadata": {},
   "outputs": [
    {
     "data": {
      "text/plain": [
       "5000"
      ]
     },
     "execution_count": 102,
     "metadata": {},
     "output_type": "execute_result"
    }
   ],
   "source": [
    "len(vectorizer.get_feature_names())"
   ]
  },
  {
   "cell_type": "code",
   "execution_count": 103,
   "metadata": {},
   "outputs": [
    {
     "data": {
      "text/html": [
       "<div>\n",
       "<style scoped>\n",
       "    .dataframe tbody tr th:only-of-type {\n",
       "        vertical-align: middle;\n",
       "    }\n",
       "\n",
       "    .dataframe tbody tr th {\n",
       "        vertical-align: top;\n",
       "    }\n",
       "\n",
       "    .dataframe thead th {\n",
       "        text-align: right;\n",
       "    }\n",
       "</style>\n",
       "<table border=\"1\" class=\"dataframe\">\n",
       "  <thead>\n",
       "    <tr style=\"text-align: right;\">\n",
       "      <th></th>\n",
       "      <th>Negative</th>\n",
       "      <th>Positive</th>\n",
       "      <th>total</th>\n",
       "    </tr>\n",
       "  </thead>\n",
       "  <tbody>\n",
       "    <tr>\n",
       "      <th>good</th>\n",
       "      <td>29209</td>\n",
       "      <td>62118</td>\n",
       "      <td>91327</td>\n",
       "    </tr>\n",
       "    <tr>\n",
       "      <th>will</th>\n",
       "      <td>50934</td>\n",
       "      <td>57635</td>\n",
       "      <td>108569</td>\n",
       "    </tr>\n",
       "    <tr>\n",
       "      <th>day</th>\n",
       "      <td>41276</td>\n",
       "      <td>47964</td>\n",
       "      <td>89240</td>\n",
       "    </tr>\n",
       "    <tr>\n",
       "      <th>love</th>\n",
       "      <td>16990</td>\n",
       "      <td>47697</td>\n",
       "      <td>64687</td>\n",
       "    </tr>\n",
       "    <tr>\n",
       "      <th>going</th>\n",
       "      <td>49492</td>\n",
       "      <td>43947</td>\n",
       "      <td>93439</td>\n",
       "    </tr>\n",
       "    <tr>\n",
       "      <th>now</th>\n",
       "      <td>52619</td>\n",
       "      <td>41379</td>\n",
       "      <td>93998</td>\n",
       "    </tr>\n",
       "    <tr>\n",
       "      <th>lol</th>\n",
       "      <td>23123</td>\n",
       "      <td>36119</td>\n",
       "      <td>59242</td>\n",
       "    </tr>\n",
       "    <tr>\n",
       "      <th>thanks</th>\n",
       "      <td>5768</td>\n",
       "      <td>34376</td>\n",
       "      <td>40144</td>\n",
       "    </tr>\n",
       "    <tr>\n",
       "      <th>got</th>\n",
       "      <td>38713</td>\n",
       "      <td>32027</td>\n",
       "      <td>70740</td>\n",
       "    </tr>\n",
       "    <tr>\n",
       "      <th>time</th>\n",
       "      <td>27526</td>\n",
       "      <td>30432</td>\n",
       "      <td>57958</td>\n",
       "    </tr>\n",
       "  </tbody>\n",
       "</table>\n",
       "</div>"
      ],
      "text/plain": [
       "        Negative  Positive   total\n",
       "good       29209     62118   91327\n",
       "will       50934     57635  108569\n",
       "day        41276     47964   89240\n",
       "love       16990     47697   64687\n",
       "going      49492     43947   93439\n",
       "now        52619     41379   93998\n",
       "lol        23123     36119   59242\n",
       "thanks      5768     34376   40144\n",
       "got        38713     32027   70740\n",
       "time       27526     30432   57958"
      ]
     },
     "execution_count": 103,
     "metadata": {},
     "output_type": "execute_result"
    }
   ],
   "source": [
    "term_freq.sort_values(by = 'Positive',ascending = False).head(10)"
   ]
  },
  {
   "cell_type": "code",
   "execution_count": 104,
   "metadata": {},
   "outputs": [
    {
     "data": {
      "text/html": [
       "<div>\n",
       "<style scoped>\n",
       "    .dataframe tbody tr th:only-of-type {\n",
       "        vertical-align: middle;\n",
       "    }\n",
       "\n",
       "    .dataframe tbody tr th {\n",
       "        vertical-align: top;\n",
       "    }\n",
       "\n",
       "    .dataframe thead th {\n",
       "        text-align: right;\n",
       "    }\n",
       "</style>\n",
       "<table border=\"1\" class=\"dataframe\">\n",
       "  <thead>\n",
       "    <tr style=\"text-align: right;\">\n",
       "      <th></th>\n",
       "      <th>Negative</th>\n",
       "      <th>Positive</th>\n",
       "      <th>total</th>\n",
       "    </tr>\n",
       "  </thead>\n",
       "  <tbody>\n",
       "    <tr>\n",
       "      <th>now</th>\n",
       "      <td>52619</td>\n",
       "      <td>41379</td>\n",
       "      <td>93998</td>\n",
       "    </tr>\n",
       "    <tr>\n",
       "      <th>will</th>\n",
       "      <td>50934</td>\n",
       "      <td>57635</td>\n",
       "      <td>108569</td>\n",
       "    </tr>\n",
       "    <tr>\n",
       "      <th>going</th>\n",
       "      <td>49492</td>\n",
       "      <td>43947</td>\n",
       "      <td>93439</td>\n",
       "    </tr>\n",
       "    <tr>\n",
       "      <th>go</th>\n",
       "      <td>45635</td>\n",
       "      <td>28378</td>\n",
       "      <td>74013</td>\n",
       "    </tr>\n",
       "    <tr>\n",
       "      <th>work</th>\n",
       "      <td>45420</td>\n",
       "      <td>19529</td>\n",
       "      <td>64949</td>\n",
       "    </tr>\n",
       "    <tr>\n",
       "      <th>want</th>\n",
       "      <td>41756</td>\n",
       "      <td>17123</td>\n",
       "      <td>58879</td>\n",
       "    </tr>\n",
       "    <tr>\n",
       "      <th>day</th>\n",
       "      <td>41276</td>\n",
       "      <td>47964</td>\n",
       "      <td>89240</td>\n",
       "    </tr>\n",
       "    <tr>\n",
       "      <th>got</th>\n",
       "      <td>38713</td>\n",
       "      <td>32027</td>\n",
       "      <td>70740</td>\n",
       "    </tr>\n",
       "    <tr>\n",
       "      <th>today</th>\n",
       "      <td>38118</td>\n",
       "      <td>30101</td>\n",
       "      <td>68219</td>\n",
       "    </tr>\n",
       "    <tr>\n",
       "      <th>back</th>\n",
       "      <td>33090</td>\n",
       "      <td>23869</td>\n",
       "      <td>56959</td>\n",
       "    </tr>\n",
       "  </tbody>\n",
       "</table>\n",
       "</div>"
      ],
      "text/plain": [
       "       Negative  Positive   total\n",
       "now       52619     41379   93998\n",
       "will      50934     57635  108569\n",
       "going     49492     43947   93439\n",
       "go        45635     28378   74013\n",
       "work      45420     19529   64949\n",
       "want      41756     17123   58879\n",
       "day       41276     47964   89240\n",
       "got       38713     32027   70740\n",
       "today     38118     30101   68219\n",
       "back      33090     23869   56959"
      ]
     },
     "execution_count": 104,
     "metadata": {},
     "output_type": "execute_result"
    }
   ],
   "source": [
    "term_freq.sort_values(by = 'Negative',ascending = False).head(10)"
   ]
  },
  {
   "cell_type": "code",
   "execution_count": 105,
   "metadata": {},
   "outputs": [
    {
     "data": {
      "image/png": "[encoded data removed]",
      "text/plain": [
       "<Figure size 720x432 with 1 Axes>"
      ]
     },
     "metadata": {
      "needs_background": "light"
     },
     "output_type": "display_data"
    }
   ],
   "source": [
    "##Top 50 Negative words\n",
    "\n",
    "words_count = 50\n",
    "\n",
    "words = np.arange(words_count)\n",
    "plt.figure(figsize = (10,6))\n",
    "plt.bar(x=words,height =term_freq.sort_values(by = 'Negative',ascending = False)['Negative'][:words_count])\n",
    "plt.xticks(ticks = words, labels = term_freq.sort_values(by = 'Negative',ascending = False)['Negative']\n",
    "           [:words_count].index,rotation = 'vertical')\n",
    "plt.title('Top Negative Word')\n",
    "plt.show()"
   ]
  },
  {
   "cell_type": "code",
   "execution_count": 106,
   "metadata": {},
   "outputs": [
    {
     "data": {
      "image/png": "[encoded data removed]",
      "text/plain": [
       "<Figure size 720x432 with 1 Axes>"
      ]
     },
     "metadata": {
      "needs_background": "light"
     },
     "output_type": "display_data"
    }
   ],
   "source": [
    "##Top 50 Positive words\n",
    "\n",
    "words_count = 50\n",
    "\n",
    "words = np.arange(words_count)\n",
    "plt.figure(figsize = (10,6))\n",
    "plt.bar(x=words,height =term_freq.sort_values(by = 'Positive',ascending = False)['Positive'][:words_count])\n",
    "plt.xticks(ticks = words, labels = term_freq.sort_values(by = 'Positive',ascending = False)['Positive']\n",
    "           [:words_count].index,rotation = 'vertical')\n",
    "plt.title('Top Positive Word')\n",
    "plt.show()"
   ]
  },
  {
   "cell_type": "code",
   "execution_count": 107,
   "metadata": {},
   "outputs": [],
   "source": [
    "## Some of the words are good features\n",
    "\n",
    "## However some of the words are used in both positive and negative comments (like will,day)"
   ]
  },
  {
   "cell_type": "code",
   "execution_count": 108,
   "metadata": {},
   "outputs": [],
   "source": [
    "##Lets look at positive to negetive ratio of the words\n",
    "\n",
    "term_freq['pos/neg ratio'] = term_freq['Positive']/term_freq['Negative']"
   ]
  },
  {
   "cell_type": "code",
   "execution_count": 112,
   "metadata": {},
   "outputs": [
    {
     "data": {
      "text/html": [
       "<div>\n",
       "<style scoped>\n",
       "    .dataframe tbody tr th:only-of-type {\n",
       "        vertical-align: middle;\n",
       "    }\n",
       "\n",
       "    .dataframe tbody tr th {\n",
       "        vertical-align: top;\n",
       "    }\n",
       "\n",
       "    .dataframe thead th {\n",
       "        text-align: right;\n",
       "    }\n",
       "</style>\n",
       "<table border=\"1\" class=\"dataframe\">\n",
       "  <thead>\n",
       "    <tr style=\"text-align: right;\">\n",
       "      <th></th>\n",
       "      <th>Negative</th>\n",
       "      <th>Positive</th>\n",
       "      <th>total</th>\n",
       "      <th>pos/neg ratio</th>\n",
       "    </tr>\n",
       "  </thead>\n",
       "  <tbody>\n",
       "    <tr>\n",
       "      <th>aaron</th>\n",
       "      <td>179</td>\n",
       "      <td>169</td>\n",
       "      <td>348</td>\n",
       "      <td>0.944134</td>\n",
       "    </tr>\n",
       "    <tr>\n",
       "      <th>absolute</th>\n",
       "      <td>145</td>\n",
       "      <td>137</td>\n",
       "      <td>282</td>\n",
       "      <td>0.944828</td>\n",
       "    </tr>\n",
       "    <tr>\n",
       "      <th>according</th>\n",
       "      <td>264</td>\n",
       "      <td>244</td>\n",
       "      <td>508</td>\n",
       "      <td>0.924242</td>\n",
       "    </tr>\n",
       "    <tr>\n",
       "      <th>account</th>\n",
       "      <td>1494</td>\n",
       "      <td>1371</td>\n",
       "      <td>2865</td>\n",
       "      <td>0.917671</td>\n",
       "    </tr>\n",
       "    <tr>\n",
       "      <th>africa</th>\n",
       "      <td>185</td>\n",
       "      <td>174</td>\n",
       "      <td>359</td>\n",
       "      <td>0.940541</td>\n",
       "    </tr>\n",
       "    <tr>\n",
       "      <th>age</th>\n",
       "      <td>541</td>\n",
       "      <td>591</td>\n",
       "      <td>1132</td>\n",
       "      <td>1.092421</td>\n",
       "    </tr>\n",
       "    <tr>\n",
       "      <th>ahh</th>\n",
       "      <td>1634</td>\n",
       "      <td>1581</td>\n",
       "      <td>3215</td>\n",
       "      <td>0.967564</td>\n",
       "    </tr>\n",
       "    <tr>\n",
       "      <th>ahhh</th>\n",
       "      <td>1354</td>\n",
       "      <td>1254</td>\n",
       "      <td>2608</td>\n",
       "      <td>0.926145</td>\n",
       "    </tr>\n",
       "    <tr>\n",
       "      <th>ako</th>\n",
       "      <td>176</td>\n",
       "      <td>167</td>\n",
       "      <td>343</td>\n",
       "      <td>0.948864</td>\n",
       "    </tr>\n",
       "    <tr>\n",
       "      <th>alot</th>\n",
       "      <td>979</td>\n",
       "      <td>948</td>\n",
       "      <td>1927</td>\n",
       "      <td>0.968335</td>\n",
       "    </tr>\n",
       "    <tr>\n",
       "      <th>ang</th>\n",
       "      <td>266</td>\n",
       "      <td>268</td>\n",
       "      <td>534</td>\n",
       "      <td>1.007519</td>\n",
       "    </tr>\n",
       "    <tr>\n",
       "      <th>annual</th>\n",
       "      <td>103</td>\n",
       "      <td>104</td>\n",
       "      <td>207</td>\n",
       "      <td>1.009709</td>\n",
       "    </tr>\n",
       "    <tr>\n",
       "      <th>answered</th>\n",
       "      <td>181</td>\n",
       "      <td>169</td>\n",
       "      <td>350</td>\n",
       "      <td>0.933702</td>\n",
       "    </tr>\n",
       "    <tr>\n",
       "      <th>answers</th>\n",
       "      <td>191</td>\n",
       "      <td>182</td>\n",
       "      <td>373</td>\n",
       "      <td>0.952880</td>\n",
       "    </tr>\n",
       "    <tr>\n",
       "      <th>application</th>\n",
       "      <td>219</td>\n",
       "      <td>215</td>\n",
       "      <td>434</td>\n",
       "      <td>0.981735</td>\n",
       "    </tr>\n",
       "  </tbody>\n",
       "</table>\n",
       "</div>"
      ],
      "text/plain": [
       "             Negative  Positive  total  pos/neg ratio\n",
       "aaron             179       169    348       0.944134\n",
       "absolute          145       137    282       0.944828\n",
       "according         264       244    508       0.924242\n",
       "account          1494      1371   2865       0.917671\n",
       "africa            185       174    359       0.940541\n",
       "age               541       591   1132       1.092421\n",
       "ahh              1634      1581   3215       0.967564\n",
       "ahhh             1354      1254   2608       0.926145\n",
       "ako               176       167    343       0.948864\n",
       "alot              979       948   1927       0.968335\n",
       "ang               266       268    534       1.007519\n",
       "annual            103       104    207       1.009709\n",
       "answered          181       169    350       0.933702\n",
       "answers           191       182    373       0.952880\n",
       "application       219       215    434       0.981735"
      ]
     },
     "execution_count": 112,
     "metadata": {},
     "output_type": "execute_result"
    }
   ],
   "source": [
    "term_freq[(term_freq['pos/neg ratio'] > .9) &  (term_freq['pos/neg ratio'] < 1.1)].head(15)"
   ]
  },
  {
   "cell_type": "code",
   "execution_count": 202,
   "metadata": {},
   "outputs": [],
   "source": [
    "## Awesome we are able to filter out some words which doesn't make much contribution to labelling a comment\n",
    "\n",
    "##We will use it later"
   ]
  },
  {
   "cell_type": "code",
   "execution_count": 113,
   "metadata": {},
   "outputs": [
    {
     "data": {
      "text/html": [
       "<div>\n",
       "<style scoped>\n",
       "    .dataframe tbody tr th:only-of-type {\n",
       "        vertical-align: middle;\n",
       "    }\n",
       "\n",
       "    .dataframe tbody tr th {\n",
       "        vertical-align: top;\n",
       "    }\n",
       "\n",
       "    .dataframe thead th {\n",
       "        text-align: right;\n",
       "    }\n",
       "</style>\n",
       "<table border=\"1\" class=\"dataframe\">\n",
       "  <thead>\n",
       "    <tr style=\"text-align: right;\">\n",
       "      <th></th>\n",
       "      <th>Negative</th>\n",
       "      <th>Positive</th>\n",
       "      <th>total</th>\n",
       "      <th>pos/neg ratio</th>\n",
       "    </tr>\n",
       "  </thead>\n",
       "  <tbody>\n",
       "    <tr>\n",
       "      <th>aa</th>\n",
       "      <td>160</td>\n",
       "      <td>93</td>\n",
       "      <td>253</td>\n",
       "      <td>0.581250</td>\n",
       "    </tr>\n",
       "    <tr>\n",
       "      <th>abandoned</th>\n",
       "      <td>159</td>\n",
       "      <td>41</td>\n",
       "      <td>200</td>\n",
       "      <td>0.257862</td>\n",
       "    </tr>\n",
       "    <tr>\n",
       "      <th>able</th>\n",
       "      <td>3886</td>\n",
       "      <td>1581</td>\n",
       "      <td>5467</td>\n",
       "      <td>0.406845</td>\n",
       "    </tr>\n",
       "    <tr>\n",
       "      <th>absolutely</th>\n",
       "      <td>875</td>\n",
       "      <td>1415</td>\n",
       "      <td>2290</td>\n",
       "      <td>1.617143</td>\n",
       "    </tr>\n",
       "    <tr>\n",
       "      <th>ac</th>\n",
       "      <td>535</td>\n",
       "      <td>185</td>\n",
       "      <td>720</td>\n",
       "      <td>0.345794</td>\n",
       "    </tr>\n",
       "    <tr>\n",
       "      <th>accent</th>\n",
       "      <td>108</td>\n",
       "      <td>235</td>\n",
       "      <td>343</td>\n",
       "      <td>2.175926</td>\n",
       "    </tr>\n",
       "    <tr>\n",
       "      <th>access</th>\n",
       "      <td>678</td>\n",
       "      <td>240</td>\n",
       "      <td>918</td>\n",
       "      <td>0.353982</td>\n",
       "    </tr>\n",
       "    <tr>\n",
       "      <th>accident</th>\n",
       "      <td>750</td>\n",
       "      <td>133</td>\n",
       "      <td>883</td>\n",
       "      <td>0.177333</td>\n",
       "    </tr>\n",
       "    <tr>\n",
       "      <th>accidentally</th>\n",
       "      <td>378</td>\n",
       "      <td>94</td>\n",
       "      <td>472</td>\n",
       "      <td>0.248677</td>\n",
       "    </tr>\n",
       "    <tr>\n",
       "      <th>accomplished</th>\n",
       "      <td>89</td>\n",
       "      <td>232</td>\n",
       "      <td>321</td>\n",
       "      <td>2.606742</td>\n",
       "    </tr>\n",
       "    <tr>\n",
       "      <th>ache</th>\n",
       "      <td>1280</td>\n",
       "      <td>101</td>\n",
       "      <td>1381</td>\n",
       "      <td>0.078906</td>\n",
       "    </tr>\n",
       "    <tr>\n",
       "      <th>aches</th>\n",
       "      <td>322</td>\n",
       "      <td>36</td>\n",
       "      <td>358</td>\n",
       "      <td>0.111801</td>\n",
       "    </tr>\n",
       "    <tr>\n",
       "      <th>aching</th>\n",
       "      <td>320</td>\n",
       "      <td>67</td>\n",
       "      <td>387</td>\n",
       "      <td>0.209375</td>\n",
       "    </tr>\n",
       "    <tr>\n",
       "      <th>ack</th>\n",
       "      <td>193</td>\n",
       "      <td>40</td>\n",
       "      <td>233</td>\n",
       "      <td>0.207254</td>\n",
       "    </tr>\n",
       "    <tr>\n",
       "      <th>acoustic</th>\n",
       "      <td>88</td>\n",
       "      <td>202</td>\n",
       "      <td>290</td>\n",
       "      <td>2.295455</td>\n",
       "    </tr>\n",
       "    <tr>\n",
       "      <th>acting</th>\n",
       "      <td>551</td>\n",
       "      <td>287</td>\n",
       "      <td>838</td>\n",
       "      <td>0.520871</td>\n",
       "    </tr>\n",
       "    <tr>\n",
       "      <th>action</th>\n",
       "      <td>299</td>\n",
       "      <td>468</td>\n",
       "      <td>767</td>\n",
       "      <td>1.565217</td>\n",
       "    </tr>\n",
       "    <tr>\n",
       "      <th>actor</th>\n",
       "      <td>93</td>\n",
       "      <td>197</td>\n",
       "      <td>290</td>\n",
       "      <td>2.118280</td>\n",
       "    </tr>\n",
       "    <tr>\n",
       "      <th>actress</th>\n",
       "      <td>68</td>\n",
       "      <td>154</td>\n",
       "      <td>222</td>\n",
       "      <td>2.264706</td>\n",
       "    </tr>\n",
       "    <tr>\n",
       "      <th>ad</th>\n",
       "      <td>306</td>\n",
       "      <td>499</td>\n",
       "      <td>805</td>\n",
       "      <td>1.630719</td>\n",
       "    </tr>\n",
       "    <tr>\n",
       "      <th>add</th>\n",
       "      <td>1015</td>\n",
       "      <td>3575</td>\n",
       "      <td>4590</td>\n",
       "      <td>3.522167</td>\n",
       "    </tr>\n",
       "    <tr>\n",
       "      <th>added</th>\n",
       "      <td>293</td>\n",
       "      <td>926</td>\n",
       "      <td>1219</td>\n",
       "      <td>3.160410</td>\n",
       "    </tr>\n",
       "    <tr>\n",
       "      <th>addict</th>\n",
       "      <td>83</td>\n",
       "      <td>134</td>\n",
       "      <td>217</td>\n",
       "      <td>1.614458</td>\n",
       "    </tr>\n",
       "    <tr>\n",
       "      <th>addicted</th>\n",
       "      <td>350</td>\n",
       "      <td>659</td>\n",
       "      <td>1009</td>\n",
       "      <td>1.882857</td>\n",
       "    </tr>\n",
       "    <tr>\n",
       "      <th>addicting</th>\n",
       "      <td>57</td>\n",
       "      <td>165</td>\n",
       "      <td>222</td>\n",
       "      <td>2.894737</td>\n",
       "    </tr>\n",
       "  </tbody>\n",
       "</table>\n",
       "</div>"
      ],
      "text/plain": [
       "              Negative  Positive  total  pos/neg ratio\n",
       "aa                 160        93    253       0.581250\n",
       "abandoned          159        41    200       0.257862\n",
       "able              3886      1581   5467       0.406845\n",
       "absolutely         875      1415   2290       1.617143\n",
       "ac                 535       185    720       0.345794\n",
       "accent             108       235    343       2.175926\n",
       "access             678       240    918       0.353982\n",
       "accident           750       133    883       0.177333\n",
       "accidentally       378        94    472       0.248677\n",
       "accomplished        89       232    321       2.606742\n",
       "ache              1280       101   1381       0.078906\n",
       "aches              322        36    358       0.111801\n",
       "aching             320        67    387       0.209375\n",
       "ack                193        40    233       0.207254\n",
       "acoustic            88       202    290       2.295455\n",
       "acting             551       287    838       0.520871\n",
       "action             299       468    767       1.565217\n",
       "actor               93       197    290       2.118280\n",
       "actress             68       154    222       2.264706\n",
       "ad                 306       499    805       1.630719\n",
       "add               1015      3575   4590       3.522167\n",
       "added              293       926   1219       3.160410\n",
       "addict              83       134    217       1.614458\n",
       "addicted           350       659   1009       1.882857\n",
       "addicting           57       165    222       2.894737"
      ]
     },
     "execution_count": 113,
     "metadata": {},
     "output_type": "execute_result"
    }
   ],
   "source": [
    "term_freq[(term_freq['pos/neg ratio'] < .6) |  (term_freq['pos/neg ratio'] > 1.5)].head(25)"
   ]
  },
  {
   "cell_type": "code",
   "execution_count": 114,
   "metadata": {},
   "outputs": [],
   "source": [
    "## Now we get some really interesting words that can be helpful\n",
    "\n",
    "## We really have to do something about this 'aa', 'aah' words....This is just going to ruin my model"
   ]
  },
  {
   "cell_type": "code",
   "execution_count": 115,
   "metadata": {},
   "outputs": [
    {
     "data": {
      "text/plain": [
       "Text(0.5, 1.0, 'Frequency Distribution')"
      ]
     },
     "execution_count": 115,
     "metadata": {},
     "output_type": "execute_result"
    },
    {
     "data": {
      "image/png": "[encoded data removed]",
      "text/plain": [
       "<Figure size 432x288 with 1 Axes>"
      ]
     },
     "metadata": {
      "needs_background": "light"
     },
     "output_type": "display_data"
    }
   ],
   "source": [
    "## scatterplot of positive and negative\n",
    "\n",
    "sns.scatterplot(x = term_freq['Negative'] , y = term_freq['Positive'])\n",
    "plt.title('Frequency Distribution')"
   ]
  },
  {
   "cell_type": "code",
   "execution_count": 117,
   "metadata": {},
   "outputs": [],
   "source": [
    "## Positive Frequency percentage\n",
    "\n",
    "positive_sum = term_freq['Positive'].sum()\n",
    "\n",
    "term_freq['Positive Freq Pct'] = term_freq['Positive']*1.0/positive_sum\n",
    "\n",
    "negative_sum = term_freq['Negative'].sum()\n",
    "\n",
    "term_freq['Negative Freq Pct'] = term_freq['Negative']*1.0/negative_sum"
   ]
  },
  {
   "cell_type": "code",
   "execution_count": 118,
   "metadata": {},
   "outputs": [
    {
     "data": {
      "text/html": [
       "<div>\n",
       "<style scoped>\n",
       "    .dataframe tbody tr th:only-of-type {\n",
       "        vertical-align: middle;\n",
       "    }\n",
       "\n",
       "    .dataframe tbody tr th {\n",
       "        vertical-align: top;\n",
       "    }\n",
       "\n",
       "    .dataframe thead th {\n",
       "        text-align: right;\n",
       "    }\n",
       "</style>\n",
       "<table border=\"1\" class=\"dataframe\">\n",
       "  <thead>\n",
       "    <tr style=\"text-align: right;\">\n",
       "      <th></th>\n",
       "      <th>Negative</th>\n",
       "      <th>Positive</th>\n",
       "      <th>total</th>\n",
       "      <th>pos/neg ratio</th>\n",
       "      <th>Positive Freq Pct</th>\n",
       "      <th>Negative Freq Pct</th>\n",
       "    </tr>\n",
       "  </thead>\n",
       "  <tbody>\n",
       "    <tr>\n",
       "      <th>good</th>\n",
       "      <td>29209</td>\n",
       "      <td>62118</td>\n",
       "      <td>91327</td>\n",
       "      <td>2.126673</td>\n",
       "      <td>0.014013</td>\n",
       "      <td>0.006214</td>\n",
       "    </tr>\n",
       "    <tr>\n",
       "      <th>will</th>\n",
       "      <td>50934</td>\n",
       "      <td>57635</td>\n",
       "      <td>108569</td>\n",
       "      <td>1.131562</td>\n",
       "      <td>0.013001</td>\n",
       "      <td>0.010837</td>\n",
       "    </tr>\n",
       "    <tr>\n",
       "      <th>day</th>\n",
       "      <td>41276</td>\n",
       "      <td>47964</td>\n",
       "      <td>89240</td>\n",
       "      <td>1.162031</td>\n",
       "      <td>0.010820</td>\n",
       "      <td>0.008782</td>\n",
       "    </tr>\n",
       "    <tr>\n",
       "      <th>love</th>\n",
       "      <td>16990</td>\n",
       "      <td>47697</td>\n",
       "      <td>64687</td>\n",
       "      <td>2.807357</td>\n",
       "      <td>0.010760</td>\n",
       "      <td>0.003615</td>\n",
       "    </tr>\n",
       "    <tr>\n",
       "      <th>going</th>\n",
       "      <td>49492</td>\n",
       "      <td>43947</td>\n",
       "      <td>93439</td>\n",
       "      <td>0.887962</td>\n",
       "      <td>0.009914</td>\n",
       "      <td>0.010530</td>\n",
       "    </tr>\n",
       "    <tr>\n",
       "      <th>now</th>\n",
       "      <td>52619</td>\n",
       "      <td>41379</td>\n",
       "      <td>93998</td>\n",
       "      <td>0.786389</td>\n",
       "      <td>0.009334</td>\n",
       "      <td>0.011195</td>\n",
       "    </tr>\n",
       "    <tr>\n",
       "      <th>lol</th>\n",
       "      <td>23123</td>\n",
       "      <td>36119</td>\n",
       "      <td>59242</td>\n",
       "      <td>1.562038</td>\n",
       "      <td>0.008148</td>\n",
       "      <td>0.004920</td>\n",
       "    </tr>\n",
       "    <tr>\n",
       "      <th>thanks</th>\n",
       "      <td>5768</td>\n",
       "      <td>34376</td>\n",
       "      <td>40144</td>\n",
       "      <td>5.959778</td>\n",
       "      <td>0.007755</td>\n",
       "      <td>0.001227</td>\n",
       "    </tr>\n",
       "    <tr>\n",
       "      <th>got</th>\n",
       "      <td>38713</td>\n",
       "      <td>32027</td>\n",
       "      <td>70740</td>\n",
       "      <td>0.827293</td>\n",
       "      <td>0.007225</td>\n",
       "      <td>0.008236</td>\n",
       "    </tr>\n",
       "    <tr>\n",
       "      <th>time</th>\n",
       "      <td>27526</td>\n",
       "      <td>30432</td>\n",
       "      <td>57958</td>\n",
       "      <td>1.105573</td>\n",
       "      <td>0.006865</td>\n",
       "      <td>0.005856</td>\n",
       "    </tr>\n",
       "  </tbody>\n",
       "</table>\n",
       "</div>"
      ],
      "text/plain": [
       "        Negative  Positive   total  pos/neg ratio  Positive Freq Pct  \\\n",
       "good       29209     62118   91327       2.126673           0.014013   \n",
       "will       50934     57635  108569       1.131562           0.013001   \n",
       "day        41276     47964   89240       1.162031           0.010820   \n",
       "love       16990     47697   64687       2.807357           0.010760   \n",
       "going      49492     43947   93439       0.887962           0.009914   \n",
       "now        52619     41379   93998       0.786389           0.009334   \n",
       "lol        23123     36119   59242       1.562038           0.008148   \n",
       "thanks      5768     34376   40144       5.959778           0.007755   \n",
       "got        38713     32027   70740       0.827293           0.007225   \n",
       "time       27526     30432   57958       1.105573           0.006865   \n",
       "\n",
       "        Negative Freq Pct  \n",
       "good             0.006214  \n",
       "will             0.010837  \n",
       "day              0.008782  \n",
       "love             0.003615  \n",
       "going            0.010530  \n",
       "now              0.011195  \n",
       "lol              0.004920  \n",
       "thanks           0.001227  \n",
       "got              0.008236  \n",
       "time             0.005856  "
      ]
     },
     "execution_count": 118,
     "metadata": {},
     "output_type": "execute_result"
    }
   ],
   "source": [
    "term_freq.sort_values(by = 'Positive Freq Pct', ascending = False).head(10)"
   ]
  },
  {
   "cell_type": "code",
   "execution_count": 119,
   "metadata": {},
   "outputs": [],
   "source": [
    "## Good love thanks great is part of the top positive percentage"
   ]
  },
  {
   "cell_type": "code",
   "execution_count": 120,
   "metadata": {},
   "outputs": [
    {
     "data": {
      "text/plain": [
       "32691"
      ]
     },
     "execution_count": 120,
     "metadata": {},
     "output_type": "execute_result"
    }
   ],
   "source": [
    "import gc\n",
    "gc.collect()"
   ]
  },
  {
   "cell_type": "markdown",
   "metadata": {},
   "source": [
    "# START from here"
   ]
  },
  {
   "cell_type": "code",
   "execution_count": 28,
   "metadata": {},
   "outputs": [],
   "source": [
    "import pandas as pd\n",
    "import numpy as np\n",
    "import matplotlib.pyplot as plt\n",
    "import seaborn as sns\n",
    "\n",
    "%matplotlib inline"
   ]
  },
  {
   "cell_type": "code",
   "execution_count": 29,
   "metadata": {},
   "outputs": [
    {
     "data": {
      "text/html": [
       "<div>\n",
       "<style scoped>\n",
       "    .dataframe tbody tr th:only-of-type {\n",
       "        vertical-align: middle;\n",
       "    }\n",
       "\n",
       "    .dataframe tbody tr th {\n",
       "        vertical-align: top;\n",
       "    }\n",
       "\n",
       "    .dataframe thead th {\n",
       "        text-align: right;\n",
       "    }\n",
       "</style>\n",
       "<table border=\"1\" class=\"dataframe\">\n",
       "  <thead>\n",
       "    <tr style=\"text-align: right;\">\n",
       "      <th></th>\n",
       "      <th>text</th>\n",
       "      <th>label</th>\n",
       "    </tr>\n",
       "  </thead>\n",
       "  <tbody>\n",
       "    <tr>\n",
       "      <th>0</th>\n",
       "      <td>awww that is bummer you shoulda got david carr...</td>\n",
       "      <td>0</td>\n",
       "    </tr>\n",
       "    <tr>\n",
       "      <th>1</th>\n",
       "      <td>is upset that he can not update his facebook b...</td>\n",
       "      <td>0</td>\n",
       "    </tr>\n",
       "    <tr>\n",
       "      <th>2</th>\n",
       "      <td>dived many times for the ball managed to save ...</td>\n",
       "      <td>0</td>\n",
       "    </tr>\n",
       "    <tr>\n",
       "      <th>3</th>\n",
       "      <td>my whole body feels itchy and like its on fire</td>\n",
       "      <td>0</td>\n",
       "    </tr>\n",
       "    <tr>\n",
       "      <th>4</th>\n",
       "      <td>no it is not behaving at all mad why am here b...</td>\n",
       "      <td>0</td>\n",
       "    </tr>\n",
       "  </tbody>\n",
       "</table>\n",
       "</div>"
      ],
      "text/plain": [
       "                                                text  label\n",
       "0  awww that is bummer you shoulda got david carr...      0\n",
       "1  is upset that he can not update his facebook b...      0\n",
       "2  dived many times for the ball managed to save ...      0\n",
       "3     my whole body feels itchy and like its on fire      0\n",
       "4  no it is not behaving at all mad why am here b...      0"
      ]
     },
     "execution_count": 29,
     "metadata": {},
     "output_type": "execute_result"
    }
   ],
   "source": [
    "##load clean tweets\n",
    "\n",
    "##\n",
    "df =pd.read_csv('clean_tweets_upd.csv')\n",
    "df.head()"
   ]
  },
  {
   "cell_type": "code",
   "execution_count": 30,
   "metadata": {},
   "outputs": [],
   "source": [
    "## Update the labels for Positive tweets to 1. In the datset it is 4 for positive and 0 for negative\n",
    "df['label'] = df['label'].apply(lambda x : 0 if x==0 else 1)"
   ]
  },
  {
   "cell_type": "code",
   "execution_count": 31,
   "metadata": {},
   "outputs": [],
   "source": [
    "    ##remove repeated characters like wow wowwwwwww, wowwwww\n",
    "    ##try this -----------------\n",
    "    ###   s = re.sub(r'(.)\\1+', r'\\1\\1', s) add this at a later point "
   ]
  },
  {
   "cell_type": "code",
   "execution_count": 32,
   "metadata": {},
   "outputs": [],
   "source": [
    "from sklearn.model_selection import train_test_split\n",
    "\n",
    "X = df['text']\n",
    "y = df['label']\n",
    "\n",
    "X_train,X_valid, y_train,y_valid = train_test_split(X,y,test_size= 0.01, shuffle = True, random_state = 1)"
   ]
  },
  {
   "cell_type": "code",
   "execution_count": 33,
   "metadata": {},
   "outputs": [
    {
     "name": "stdout",
     "output_type": "stream",
     "text": [
      "No of positive training example    :  789869\n",
      "No of negative training example    :  790229\n",
      "No of positive validation example  :  7989\n",
      "No of negative validation example  :  7972\n"
     ]
    }
   ],
   "source": [
    "print('No of positive training example    : ', (y_train==1).sum())\n",
    "print('No of negative training example    : ', (y_train==0).sum())\n",
    "print('No of positive validation example  : ', (y_valid==1).sum())\n",
    "print('No of negative validation example  : ', (y_valid==0).sum())"
   ]
  },
  {
   "cell_type": "code",
   "execution_count": 7,
   "metadata": {},
   "outputs": [],
   "source": [
    "## There are more number of negative examples here. So if a classifier predict negative label for all the tweets \n",
    "### This is called Zero Rule (ZeroR)\n",
    "\n",
    "## The best train accuracy would be 50.01 on training set and 50.05 on validation set\n",
    "\n",
    "##However the no of postive and negative is almost same. So I am not balancing the dataset"
   ]
  },
  {
   "cell_type": "code",
   "execution_count": 8,
   "metadata": {},
   "outputs": [],
   "source": [
    "##Another baseline is TextBlob Sentiment Classifier\n"
   ]
  },
  {
   "cell_type": "code",
   "execution_count": 9,
   "metadata": {},
   "outputs": [],
   "source": [
    "from textblob import TextBlob\n",
    "from sklearn.metrics import classification_report, confusion_matrix\n",
    "from sklearn.metrics import accuracy_score\n",
    "\n"
   ]
  },
  {
   "cell_type": "code",
   "execution_count": 10,
   "metadata": {},
   "outputs": [],
   "source": [
    "result = [TextBlob(i).sentiment.polarity for i in X_valid]"
   ]
  },
  {
   "cell_type": "code",
   "execution_count": 11,
   "metadata": {},
   "outputs": [],
   "source": [
    "pred = [0 if p <0 else 1 for p in result]\n",
    "\n",
    "confusion = confusion_matrix(y_valid,pred,labels = [1,0])"
   ]
  },
  {
   "cell_type": "code",
   "execution_count": 12,
   "metadata": {},
   "outputs": [
    {
     "name": "stdout",
     "output_type": "stream",
     "text": [
      "               Pred positive  Pred negative\n",
      "True positive           7175            814\n",
      "True negative           5454           2518\n"
     ]
    }
   ],
   "source": [
    "confusion = pd.DataFrame(confusion, index=['True positive', 'True negative'],\n",
    "                         columns=['Pred positive','Pred negative'])\n",
    "print(confusion)"
   ]
  },
  {
   "cell_type": "code",
   "execution_count": 13,
   "metadata": {},
   "outputs": [
    {
     "name": "stdout",
     "output_type": "stream",
     "text": [
      "              precision    recall  f1-score   support\n",
      "\n",
      "           0       0.76      0.32      0.45      7972\n",
      "           1       0.57      0.90      0.70      7989\n",
      "\n",
      "   micro avg       0.61      0.61      0.61     15961\n",
      "   macro avg       0.66      0.61      0.57     15961\n",
      "weighted avg       0.66      0.61      0.57     15961\n",
      "\n"
     ]
    }
   ],
   "source": [
    "print(classification_report(y_valid,pred))"
   ]
  },
  {
   "cell_type": "code",
   "execution_count": 14,
   "metadata": {},
   "outputs": [
    {
     "name": "stdout",
     "output_type": "stream",
     "text": [
      "Accuracy Score : 0.6072927761418457\n"
     ]
    }
   ],
   "source": [
    "print(\"Accuracy Score :\" , accuracy_score(y_valid, pred))"
   ]
  },
  {
   "cell_type": "markdown",
   "metadata": {},
   "source": [
    "##### Feature Extraction"
   ]
  },
  {
   "cell_type": "code",
   "execution_count": 15,
   "metadata": {},
   "outputs": [],
   "source": [
    "##Feature Extraction using Bag of Words Approach"
   ]
  },
  {
   "cell_type": "markdown",
   "metadata": {},
   "source": [
    "##Bag of words just find if the word is there in that document or not. The words that it checks for are the words that are \n",
    "##part of the dictionary.\n",
    "\n",
    "Dictionary size cant be of unlimited size. We need to restricit to some reasonable size to make it wrk for \n",
    "Bag of Words. "
   ]
  },
  {
   "cell_type": "code",
   "execution_count": 16,
   "metadata": {},
   "outputs": [],
   "source": [
    "##Lets try out the simplest classification algorithm to check the optimal dictionary size "
   ]
  },
  {
   "cell_type": "code",
   "execution_count": 34,
   "metadata": {},
   "outputs": [],
   "source": [
    "from sklearn.feature_extraction.text import CountVectorizer\n",
    "from sklearn.linear_model import LogisticRegression\n",
    "from sklearn.pipeline import Pipeline\n",
    "from time import time\n",
    "from tqdm import tqdm_notebook"
   ]
  },
  {
   "cell_type": "code",
   "execution_count": 35,
   "metadata": {},
   "outputs": [],
   "source": [
    "import warnings\n",
    "warnings.filterwarnings(\"ignore\")"
   ]
  },
  {
   "cell_type": "code",
   "execution_count": 36,
   "metadata": {},
   "outputs": [],
   "source": [
    "def check_classifier_accuracy(pipeline, X_train,y_train,X_valid, y_valid):\n",
    "    if len(X_valid[y_valid==0]) > len(X_valid[y_valid==1]):\n",
    "        default_accuracy = float(len(X_valid[y_valid==0]))/len(X_valid)\n",
    "    else:\n",
    "        default_accuracy = float(len(X_valid[y_valid==1]))/len(X_valid)\n",
    "    start_time = time()\n",
    "    ##print('a')\n",
    "    sentiment = pipeline.fit(X_train,y_train)\n",
    "    ##print('b')\n",
    "    end_time = time() \n",
    "    predict = sentiment.predict(X_valid)\n",
    "\n",
    "    \n",
    "    classifier_accuracy = accuracy_score(y_valid, predict)\n",
    "    \n",
    "    if default_accuracy > classifier_accuracy:\n",
    "        print('Classifier Accuracy is worse than Default Accuracy by', abs(classifier_accuracy - default_accuracy)*100,'%')\n",
    "    elif default_accuracy == classifier_accuracy:\n",
    "        print('Classifier Accuracy and Default Accuracy is same')\n",
    "    else:\n",
    "        print('Classifier Accuracy is better than Default Accuracy by', (classifier_accuracy - default_accuracy)*100,'%')\n",
    "    print('Training time ',(end_time - start_time) )\n",
    "    \n",
    "    return classifier_accuracy,(end_time - start_time)\n",
    "\n",
    "\n",
    "\n",
    "def check_feature_accuracy(X_train,y_train,X_valid, y_valid,vectorizer,no_of_features,classifier,\n",
    "                           stop_words = None, n_gram = (1,1)):\n",
    "    comparison = []\n",
    "    for n in tqdm_notebook(no_of_features,total = len(no_of_features)):\n",
    "        vectorizer.set_params(stop_words= stop_words, max_features = n,ngram_range = n_gram)\n",
    "        \n",
    "        build_pipeline = Pipeline([('vectorizer', vectorizer),\n",
    "                                   ('classifier',classifier)])\n",
    "        \n",
    "        print('\\n')\n",
    "        print('Validation Result for',n,'features')\n",
    "        \n",
    "        feature_accuracy, time_taken = check_classifier_accuracy(build_pipeline, X_train,y_train,X_valid, y_valid)\n",
    "        comparison.append((n,feature_accuracy, time_taken))\n",
    "    return comparison"
   ]
  },
  {
   "cell_type": "code",
   "execution_count": 37,
   "metadata": {},
   "outputs": [
    {
     "name": "stdout",
     "output_type": "stream",
     "text": [
      "20\n"
     ]
    }
   ],
   "source": [
    "no_of_features = np.arange(5000,100001, 5000)\n",
    "print(len(no_of_features))"
   ]
  },
  {
   "cell_type": "code",
   "execution_count": 24,
   "metadata": {},
   "outputs": [
    {
     "data": {
      "application/vnd.jupyter.widget-view+json": {
       "model_id": "05558b6bccba4720b20b412ce39518ca",
       "version_major": 2,
       "version_minor": 0
      },
      "text/plain": [
       "HBox(children=(IntProgress(value=0, max=20), HTML(value='')))"
      ]
     },
     "metadata": {},
     "output_type": "display_data"
    },
    {
     "name": "stdout",
     "output_type": "stream",
     "text": [
      "\n",
      "\n",
      "Validation Result for 5000 features\n",
      "Classifier Accuracy is better than Default Accuracy by 28.444333061838233 %\n",
      "Training time  91.3567430973053\n",
      "\n",
      "\n",
      "Validation Result for 10000 features\n",
      "Classifier Accuracy is better than Default Accuracy by 28.94555478980014 %\n",
      "Training time  101.01932406425476\n",
      "\n",
      "\n",
      "Validation Result for 15000 features\n",
      "Classifier Accuracy is better than Default Accuracy by 29.13977820938538 %\n",
      "Training time  116.49037075042725\n",
      "\n",
      "\n",
      "Validation Result for 20000 features\n",
      "Classifier Accuracy is better than Default Accuracy by 29.352797443769198 %\n",
      "Training time  137.88916397094727\n",
      "\n",
      "\n",
      "Validation Result for 25000 features\n",
      "Classifier Accuracy is better than Default Accuracy by 29.42171543136395 %\n",
      "Training time  163.4816768169403\n",
      "\n",
      "\n",
      "Validation Result for 30000 features\n",
      "Classifier Accuracy is better than Default Accuracy by 29.496898690558236 %\n",
      "Training time  132.83764958381653\n",
      "\n",
      "\n",
      "Validation Result for 35000 features\n",
      "Classifier Accuracy is better than Default Accuracy by 29.46557233256062 %\n",
      "Training time  165.88474655151367\n",
      "\n",
      "\n",
      "Validation Result for 40000 features\n",
      "Classifier Accuracy is better than Default Accuracy by 29.55328613495396 %\n",
      "Training time  168.74399137496948\n",
      "\n",
      "\n",
      "Validation Result for 45000 features\n",
      "Classifier Accuracy is better than Default Accuracy by 29.59714303615062 %\n",
      "Training time  185.57164025306702\n",
      "\n",
      "\n",
      "Validation Result for 50000 features\n",
      "Classifier Accuracy is better than Default Accuracy by 29.60967357934967 %\n",
      "Training time  185.6946530342102\n",
      "\n",
      "\n",
      "Validation Result for 55000 features\n",
      "Classifier Accuracy is better than Default Accuracy by 29.628469394148237 %\n",
      "Training time  190.3949592113495\n",
      "\n",
      "\n",
      "Validation Result for 60000 features\n",
      "Classifier Accuracy is better than Default Accuracy by 29.60967357934967 %\n",
      "Training time  172.94480276107788\n",
      "\n",
      "\n",
      "Validation Result for 65000 features\n",
      "Classifier Accuracy is better than Default Accuracy by 29.578347221352054 %\n",
      "Training time  167.4147276878357\n",
      "\n",
      "\n",
      "Validation Result for 70000 features\n",
      "Classifier Accuracy is better than Default Accuracy by 29.59714303615062 %\n",
      "Training time  213.17104935646057\n",
      "\n",
      "\n",
      "Validation Result for 75000 features\n",
      "Classifier Accuracy is better than Default Accuracy by 29.59714303615062 %\n",
      "Training time  152.94894170761108\n",
      "\n",
      "\n",
      "Validation Result for 80000 features\n",
      "Classifier Accuracy is better than Default Accuracy by 29.6159388509492 %\n",
      "Training time  181.88256335258484\n",
      "\n",
      "\n",
      "Validation Result for 85000 features\n",
      "Classifier Accuracy is better than Default Accuracy by 29.6159388509492 %\n",
      "Training time  178.2992775440216\n",
      "\n",
      "\n",
      "Validation Result for 90000 features\n",
      "Classifier Accuracy is better than Default Accuracy by 29.59714303615062 %\n",
      "Training time  179.56698417663574\n",
      "\n",
      "\n",
      "Validation Result for 95000 features\n",
      "Classifier Accuracy is better than Default Accuracy by 29.572081949752526 %\n",
      "Training time  161.20699858665466\n",
      "\n",
      "\n",
      "Validation Result for 100000 features\n",
      "Classifier Accuracy is better than Default Accuracy by 29.60967357934967 %\n",
      "Training time  172.2315375804901\n"
     ]
    }
   ],
   "source": [
    "cvec = CountVectorizer()\n",
    "lr = LogisticRegression()\n",
    "no_of_features = np.arange(5000,100001, 5000)\n",
    "\n",
    "outcome = check_feature_accuracy(X_train,y_train,X_valid, y_valid,vectorizer= cvec,no_of_features=no_of_features,\n",
    "                                 classifier=lr,stop_words = None,n_gram = (1,1))\n",
    "    "
   ]
  },
  {
   "cell_type": "markdown",
   "metadata": {},
   "source": [
    "From the above we see the 50K or 55K Features would be a ideal approach for this problem"
   ]
  },
  {
   "cell_type": "code",
   "execution_count": 14,
   "metadata": {},
   "outputs": [
    {
     "data": {
      "text/html": [
       "<div>\n",
       "<style scoped>\n",
       "    .dataframe tbody tr th:only-of-type {\n",
       "        vertical-align: middle;\n",
       "    }\n",
       "\n",
       "    .dataframe tbody tr th {\n",
       "        vertical-align: top;\n",
       "    }\n",
       "\n",
       "    .dataframe thead th {\n",
       "        text-align: right;\n",
       "    }\n",
       "</style>\n",
       "<table border=\"1\" class=\"dataframe\">\n",
       "  <thead>\n",
       "    <tr style=\"text-align: right;\">\n",
       "      <th></th>\n",
       "      <th>Negative</th>\n",
       "      <th>Positive</th>\n",
       "      <th>total</th>\n",
       "    </tr>\n",
       "    <tr>\n",
       "      <th>0</th>\n",
       "      <th></th>\n",
       "      <th></th>\n",
       "      <th></th>\n",
       "    </tr>\n",
       "  </thead>\n",
       "  <tbody>\n",
       "    <tr>\n",
       "      <th>to</th>\n",
       "      <td>344213</td>\n",
       "      <td>272482</td>\n",
       "      <td>616695</td>\n",
       "    </tr>\n",
       "    <tr>\n",
       "      <th>the</th>\n",
       "      <td>258026</td>\n",
       "      <td>266159</td>\n",
       "      <td>524185</td>\n",
       "    </tr>\n",
       "    <tr>\n",
       "      <th>is</th>\n",
       "      <td>202770</td>\n",
       "      <td>180263</td>\n",
       "      <td>383033</td>\n",
       "    </tr>\n",
       "    <tr>\n",
       "      <th>you</th>\n",
       "      <td>129248</td>\n",
       "      <td>232588</td>\n",
       "      <td>361836</td>\n",
       "    </tr>\n",
       "    <tr>\n",
       "      <th>not</th>\n",
       "      <td>242072</td>\n",
       "      <td>105225</td>\n",
       "      <td>347297</td>\n",
       "    </tr>\n",
       "    <tr>\n",
       "      <th>my</th>\n",
       "      <td>190776</td>\n",
       "      <td>125956</td>\n",
       "      <td>316732</td>\n",
       "    </tr>\n",
       "    <tr>\n",
       "      <th>it</th>\n",
       "      <td>157520</td>\n",
       "      <td>147891</td>\n",
       "      <td>305411</td>\n",
       "    </tr>\n",
       "    <tr>\n",
       "      <th>and</th>\n",
       "      <td>153959</td>\n",
       "      <td>149647</td>\n",
       "      <td>303606</td>\n",
       "    </tr>\n",
       "    <tr>\n",
       "      <th>in</th>\n",
       "      <td>115542</td>\n",
       "      <td>101163</td>\n",
       "      <td>216705</td>\n",
       "    </tr>\n",
       "    <tr>\n",
       "      <th>for</th>\n",
       "      <td>99004</td>\n",
       "      <td>117369</td>\n",
       "      <td>216373</td>\n",
       "    </tr>\n",
       "  </tbody>\n",
       "</table>\n",
       "</div>"
      ],
      "text/plain": [
       "     Negative  Positive   total\n",
       "0                              \n",
       "to     344213    272482  616695\n",
       "the    258026    266159  524185\n",
       "is     202770    180263  383033\n",
       "you    129248    232588  361836\n",
       "not    242072    105225  347297\n",
       "my     190776    125956  316732\n",
       "it     157520    147891  305411\n",
       "and    153959    149647  303606\n",
       "in     115542    101163  216705\n",
       "for     99004    117369  216373"
      ]
     },
     "execution_count": 14,
     "metadata": {},
     "output_type": "execute_result"
    }
   ],
   "source": [
    "term_freq = pd.read_csv('term_freq.csv')\n",
    "term_freq.set_index('0',inplace = True)\n",
    "term_freq.sort_values(by = 'total',ascending = False).head(10)"
   ]
  },
  {
   "cell_type": "code",
   "execution_count": 38,
   "metadata": {},
   "outputs": [],
   "source": [
    "from sklearn.feature_extraction import text\n",
    "\n",
    "english_stop_words = text.ENGLISH_STOP_WORDS"
   ]
  },
  {
   "cell_type": "code",
   "execution_count": 39,
   "metadata": {},
   "outputs": [],
   "source": [
    "custom_stop_words = list(term_freq.sort_values(by = 'total',ascending = False).head(10).index)"
   ]
  },
  {
   "cell_type": "code",
   "execution_count": 17,
   "metadata": {},
   "outputs": [],
   "source": [
    "#custom_stop_words.append('abcd')\n",
    "#custom_stop_words.append('efgh')"
   ]
  },
  {
   "cell_type": "code",
   "execution_count": 40,
   "metadata": {},
   "outputs": [
    {
     "name": "stdout",
     "output_type": "stream",
     "text": [
      "All the custome stop words are in the english stop words\n"
     ]
    }
   ],
   "source": [
    "all_found = True\n",
    "not_found = []\n",
    "for word in custom_stop_words:\n",
    "    if word not in english_stop_words:\n",
    "        all_found = False\n",
    "        not_found.append(word)\n",
    "        \n",
    "if all_found == True:\n",
    "    print('All the custome stop words are in the english stop words')\n",
    "else:\n",
    "    print('the below words are not included in the english stop wrds')\n",
    "    print(not_found)\n",
    "\n",
    "    "
   ]
  },
  {
   "cell_type": "code",
   "execution_count": 41,
   "metadata": {},
   "outputs": [],
   "source": [
    "stopwords_list = [None, custom_stop_words, english_stop_words]"
   ]
  },
  {
   "cell_type": "code",
   "execution_count": 19,
   "metadata": {},
   "outputs": [],
   "source": [
    "##Reusing check_classifier accuracy here\n",
    "\n",
    "#def check_feature_accuracy_based_on_stopword(X_train,y_train,X_valid, y_valid,vectorizer,no_of_features,classifier,\n",
    "#                           stop_words_list = None, n_gram = (1,1)):\n",
    "    #comparison = []\n",
    "    #features =['NONE Stopword', 'Custom Stopwords', 'English Stopwords']\n",
    "    #for i,stopword in tqdm_notebook(enumerate(stopwords_list),total = len(stopwords_list)):\n",
    "        #vectorizer.set_params(stop_words= stopword, max_features = no_of_features,ngram_range = n_gram)\n",
    "        \n",
    "        #build_pipeline = Pipeline([('vectorizer', vectorizer),\n",
    "        #                           ('classifier',classifier)])\n",
    "        \n",
    "        #print('\\n')\n",
    "        #print('Validation Result for',features[i])\n",
    "        \n",
    "       # feature_accuracy, time_taken = check_classifier_accuracy(build_pipeline, X_train,y_train,X_valid, y_valid)\n",
    "     #   comparison.append((feature_accuracy, time_taken))\n",
    "  #  return comparison"
   ]
  },
  {
   "cell_type": "code",
   "execution_count": 20,
   "metadata": {},
   "outputs": [
    {
     "data": {
      "application/vnd.jupyter.widget-view+json": {
       "model_id": "672f951c24f34216a6151fbc891fbc3d",
       "version_major": 2,
       "version_minor": 0
      },
      "text/plain": [
       "HBox(children=(IntProgress(value=0, max=10), HTML(value='')))"
      ]
     },
     "metadata": {},
     "output_type": "display_data"
    },
    {
     "name": "stdout",
     "output_type": "stream",
     "text": [
      "\n",
      "\n",
      "Validation Result for 10000 features\n",
      "Classifier Accuracy is better than Default Accuracy by 28.94555478980014 %\n",
      "Training time  258.40406703948975\n",
      "\n",
      "\n",
      "Validation Result for 20000 features\n",
      "Classifier Accuracy is better than Default Accuracy by 29.352797443769198 %\n",
      "Training time  369.1434314250946\n",
      "\n",
      "\n",
      "Validation Result for 30000 features\n",
      "Classifier Accuracy is better than Default Accuracy by 29.496898690558236 %\n",
      "Training time  387.8158586025238\n",
      "\n",
      "\n",
      "Validation Result for 40000 features\n",
      "Classifier Accuracy is better than Default Accuracy by 29.55328613495396 %\n",
      "Training time  486.2933831214905\n",
      "\n",
      "\n",
      "Validation Result for 50000 features\n",
      "Classifier Accuracy is better than Default Accuracy by 29.60967357934967 %\n",
      "Training time  517.5896270275116\n",
      "\n",
      "\n",
      "Validation Result for 60000 features\n",
      "Classifier Accuracy is better than Default Accuracy by 29.60967357934967 %\n",
      "Training time  474.7379548549652\n",
      "\n",
      "\n",
      "Validation Result for 70000 features\n",
      "Classifier Accuracy is better than Default Accuracy by 29.59714303615062 %\n",
      "Training time  570.7615087032318\n",
      "\n",
      "\n",
      "Validation Result for 80000 features\n",
      "Classifier Accuracy is better than Default Accuracy by 29.6159388509492 %\n",
      "Training time  527.9552190303802\n",
      "\n",
      "\n",
      "Validation Result for 90000 features\n",
      "Classifier Accuracy is better than Default Accuracy by 29.59714303615062 %\n",
      "Training time  519.8566603660583\n",
      "\n",
      "\n",
      "Validation Result for 100000 features\n",
      "Classifier Accuracy is better than Default Accuracy by 29.60967357934967 %\n",
      "Training time  486.3368082046509\n",
      "\n"
     ]
    }
   ],
   "source": [
    "cvec = CountVectorizer()\n",
    "lr = LogisticRegression()\n",
    "no_of_features = np.arange(10000,100001, 10000)\n",
    "\n",
    "#stopwords_list = [None, custom_stop_words, english_stop_words]\n",
    "\n",
    "### WITHOUT STOPWORDS\n",
    "\n",
    "result_without_stopword = check_feature_accuracy(X_train,y_train,X_valid, y_valid,vectorizer= cvec,no_of_features=no_of_features,\n",
    "                                 classifier=lr,stop_words = None,n_gram = (1,1))\n"
   ]
  },
  {
   "cell_type": "code",
   "execution_count": 23,
   "metadata": {},
   "outputs": [
    {
     "data": {
      "image/png": "[encoded data removed]",
      "text/plain": [
       "<Figure size 432x288 with 1 Axes>"
      ]
     },
     "metadata": {
      "needs_background": "light"
     },
     "output_type": "display_data"
    }
   ],
   "source": [
    "features_plot_without_stopword = pd.DataFrame(result_without_stopword,columns=['features','valid_accuracy','train_time'])\n",
    "plt.plot(features_plot_without_stopword['features'],features_plot_without_stopword['valid_accuracy'],\n",
    "        label = 'Without Stopwords')\n",
    "plt.grid()\n",
    "plt.show()"
   ]
  },
  {
   "cell_type": "code",
   "execution_count": 24,
   "metadata": {},
   "outputs": [],
   "source": [
    "features_plot_without_stopword.to_csv('features_plot_without_stopword.csv')"
   ]
  },
  {
   "cell_type": "code",
   "execution_count": null,
   "metadata": {},
   "outputs": [],
   "source": [
    "result_with_english_stopword = check_feature_accuracy(X_train,y_train,X_valid, y_valid,vectorizer= cvec,no_of_features=no_of_features,\n",
    "                                 classifier=lr,stop_words = english_stop_words,n_gram = (1,1))"
   ]
  },
  {
   "cell_type": "code",
   "execution_count": null,
   "metadata": {},
   "outputs": [],
   "source": [
    "result_with_custom_stopword = check_feature_accuracy(X_train,y_train,X_valid, y_valid,vectorizer= cvec,no_of_features=no_of_features,\n",
    "                                 classifier=lr,stop_words = custom_stop_words,n_gram = (1,1))"
   ]
  },
  {
   "cell_type": "code",
   "execution_count": null,
   "metadata": {},
   "outputs": [],
   "source": [
    "## Result with Bigram with Stopwords\n",
    "\n",
    "result_with_english_stopword_bigram = check_feature_accuracy(X_train,y_train,X_valid, y_valid,vectorizer= cvec,no_of_features=no_of_features,\n",
    "                                 classifier=lr,stop_words = english_stop_words,n_gram = (1,2))"
   ]
  },
  {
   "cell_type": "code",
   "execution_count": null,
   "metadata": {},
   "outputs": [],
   "source": [
    "## Result with Bigram with Stopwords\n",
    "\n",
    "result_with_english_stopword_trigram = check_feature_accuracy(X_train,y_train,X_valid, y_valid,vectorizer= cvec,no_of_features=no_of_features,\n",
    "                                 classifier=lr,stop_words = english_stop_words,n_gram = (1,3))"
   ]
  },
  {
   "cell_type": "code",
   "execution_count": null,
   "metadata": {},
   "outputs": [],
   "source": [
    "## Result with Bigram without Stopwords\n",
    "\n",
    "result_without_stopword_bigram = check_feature_accuracy(X_train,y_train,X_valid, y_valid,vectorizer= cvec,no_of_features=no_of_features,\n",
    "                                 classifier=lr,stop_words = None,n_gram = (1,2))"
   ]
  },
  {
   "cell_type": "code",
   "execution_count": null,
   "metadata": {},
   "outputs": [],
   "source": [
    "## Result with Trigram without Stopwords\n",
    "\n",
    "result_without_stopword_bigram = check_feature_accuracy(X_train,y_train,X_valid, y_valid,vectorizer= cvec,no_of_features=no_of_features,\n",
    "                                 classifier=lr,stop_words = None,n_gram = (1,3))"
   ]
  },
  {
   "cell_type": "code",
   "execution_count": 25,
   "metadata": {},
   "outputs": [
    {
     "name": "stdout",
     "output_type": "stream",
     "text": [
      "0.7763298038969989\n"
     ]
    }
   ],
   "source": [
    "## Classifier with best parameter found\n",
    "\n",
    "cvec = CountVectorizer()\n",
    "lr = LogisticRegression()\n",
    "\n",
    "cvec.set_params(stop_words= english_stop_words, max_features = 80000,ngram_range = (1,3))\n",
    "        \n",
    "pipeline = Pipeline([('vectorizer', cvec),\n",
    "                     ('classifier',lr)])\n",
    "\n",
    "sentiment = pipeline.fit(X_train,y_train)\n",
    " \n",
    "predict = sentiment.predict(X_valid)\n",
    "\n",
    "print(accuracy_score(y_valid, predict))"
   ]
  },
  {
   "cell_type": "code",
   "execution_count": 26,
   "metadata": {},
   "outputs": [
    {
     "name": "stdout",
     "output_type": "stream",
     "text": [
      "               Pred positive  Pred negative\n",
      "True positive           6451           1538\n",
      "True negative           2032           5940\n"
     ]
    }
   ],
   "source": [
    "confusion = confusion_matrix(y_valid,predict,labels = [1,0])\n",
    "confusion = pd.DataFrame(confusion, index=['True positive', 'True negative'],\n",
    "                         columns=['Pred positive','Pred negative'])\n",
    "print(confusion)"
   ]
  },
  {
   "cell_type": "markdown",
   "metadata": {},
   "source": [
    "##### TFIDF another way of representing text data in numerical form"
   ]
  },
  {
   "cell_type": "markdown",
   "metadata": {},
   "source": [
    "doc1: ##NLP is awesome\n",
    "\n",
    "doc2 :##NLP is just too good\n",
    "    \n",
    "TF(is| doc1) = 1/3\n",
    "\n",
    "TF(is| doc2) = 1/5"
   ]
  },
  {
   "cell_type": "markdown",
   "metadata": {},
   "source": [
    "IDF = Inverse document frequency \n",
    "\n",
    "IDF = log(total of no of document /total no of  document where term t is present)\n",
    "\n",
    "IDF(is) = log(2/2) = 0"
   ]
  },
  {
   "cell_type": "markdown",
   "metadata": {},
   "source": [
    "TFIDF = TF* IDF"
   ]
  },
  {
   "cell_type": "code",
   "execution_count": 44,
   "metadata": {},
   "outputs": [],
   "source": [
    "##Using tfidf \n",
    "\n",
    "from sklearn.feature_extraction.text import TfidfVectorizer\n",
    "\n",
    "tvec = CountVectorizer()\n",
    "lr = LogisticRegression()\n",
    "no_of_features = np.arange(10000,100001, 10000)\n",
    "\n"
   ]
  },
  {
   "cell_type": "code",
   "execution_count": null,
   "metadata": {},
   "outputs": [],
   "source": [
    "##tfidf with english stopword and unigram\n",
    "result_tfidf_unigram = check_feature_accuracy(X_train,y_train,X_valid, y_valid,vectorizer= tvec,no_of_features=no_of_features,\n",
    "                                 classifier=lr,stop_words = english_stop_words,n_gram = (1,1))"
   ]
  },
  {
   "cell_type": "code",
   "execution_count": null,
   "metadata": {},
   "outputs": [],
   "source": [
    "##tfidf with english stopword and bigram\n",
    "result_tfidf_bigram = check_feature_accuracy(X_train,y_train,X_valid, y_valid,vectorizer= tvec,no_of_features=no_of_features,\n",
    "                                 classifier=lr,stop_words = english_stop_words,n_gram = (1,2))"
   ]
  },
  {
   "cell_type": "code",
   "execution_count": 45,
   "metadata": {},
   "outputs": [
    {
     "data": {
      "application/vnd.jupyter.widget-view+json": {
       "model_id": "abdd15801376450f856a4359f008ba98",
       "version_major": 2,
       "version_minor": 0
      },
      "text/plain": [
       "HBox(children=(IntProgress(value=0, max=10), HTML(value='')))"
      ]
     },
     "metadata": {},
     "output_type": "display_data"
    },
    {
     "name": "stdout",
     "output_type": "stream",
     "text": [
      "\n",
      "\n",
      "Validation Result for 10000 features\n",
      "Classifier Accuracy is better than Default Accuracy by 26.677526470772516 %\n",
      "Training time  386.5464026927948\n",
      "\n",
      "\n",
      "Validation Result for 20000 features\n",
      "Classifier Accuracy is better than Default Accuracy by 26.896810976755848 %\n",
      "Training time  406.39031958580017\n",
      "\n",
      "\n",
      "Validation Result for 30000 features\n",
      "Classifier Accuracy is better than Default Accuracy by 27.379236889919177 %\n",
      "Training time  408.9915997982025\n",
      "\n",
      "\n",
      "Validation Result for 40000 features\n",
      "Classifier Accuracy is better than Default Accuracy by 27.441889605914415 %\n",
      "Training time  479.146253824234\n",
      "\n",
      "\n",
      "Validation Result for 50000 features\n",
      "Classifier Accuracy is better than Default Accuracy by 27.498277050310136 %\n",
      "Training time  207.4072163105011\n",
      "\n",
      "\n",
      "Validation Result for 60000 features\n",
      "Classifier Accuracy is better than Default Accuracy by 27.560929766305374 %\n",
      "Training time  198.0772521495819\n",
      "\n",
      "\n",
      "Validation Result for 70000 features\n",
      "Classifier Accuracy is better than Default Accuracy by 27.65490884029823 %\n",
      "Training time  245.65232634544373\n",
      "\n",
      "\n",
      "Validation Result for 80000 features\n",
      "Classifier Accuracy is better than Default Accuracy by 27.579725581103943 %\n",
      "Training time  222.24004530906677\n",
      "\n",
      "\n",
      "Validation Result for 90000 features\n",
      "Classifier Accuracy is better than Default Accuracy by 27.642378297099178 %\n",
      "Training time  236.47013521194458\n",
      "\n",
      "\n",
      "Validation Result for 100000 features\n",
      "Classifier Accuracy is better than Default Accuracy by 27.573460309504416 %\n",
      "Training time  221.56861686706543\n",
      "\n"
     ]
    }
   ],
   "source": [
    "##tfidf with english stopword and trigram\n",
    "result_tfidf_trigram = check_feature_accuracy(X_train,y_train,X_valid, y_valid,vectorizer= tvec,no_of_features=no_of_features,\n",
    "                                 classifier=lr,stop_words = english_stop_words,n_gram = (1,3))"
   ]
  },
  {
   "cell_type": "code",
   "execution_count": 46,
   "metadata": {},
   "outputs": [
    {
     "data": {
      "application/vnd.jupyter.widget-view+json": {
       "model_id": "9012ebe1ea6144b6b1300b9eba8a17e8",
       "version_major": 2,
       "version_minor": 0
      },
      "text/plain": [
       "HBox(children=(IntProgress(value=0, max=6), HTML(value='')))"
      ]
     },
     "metadata": {},
     "output_type": "display_data"
    },
    {
     "name": "stdout",
     "output_type": "stream",
     "text": [
      "\n",
      "\n",
      "Validation Result for 50000 features\n",
      "Classifier Accuracy is better than Default Accuracy by 31.21358310882777 %\n",
      "Training time  372.5449311733246\n",
      "\n",
      "\n",
      "Validation Result for 60000 features\n",
      "Classifier Accuracy is better than Default Accuracy by 31.326357997619205 %\n",
      "Training time  482.3391683101654\n",
      "\n",
      "\n",
      "Validation Result for 70000 features\n",
      "Classifier Accuracy is better than Default Accuracy by 31.508050874005388 %\n",
      "Training time  469.8709354400635\n",
      "\n",
      "\n",
      "Validation Result for 80000 features\n",
      "Classifier Accuracy is better than Default Accuracy by 31.395275985213967 %\n",
      "Training time  488.0585479736328\n",
      "\n",
      "\n",
      "Validation Result for 90000 features\n",
      "Classifier Accuracy is better than Default Accuracy by 31.326357997619205 %\n",
      "Training time  557.9905953407288\n",
      "\n",
      "\n",
      "Validation Result for 100000 features\n",
      "Classifier Accuracy is better than Default Accuracy by 31.38901071361444 %\n",
      "Training time  664.1480021476746\n",
      "\n"
     ]
    }
   ],
   "source": [
    "##tfidf without stopword and trigram\n",
    "\n",
    "no_of_features = np.arange(50000,100001, 10000)\n",
    "result_tfidf_trigram_without_stopwords = check_feature_accuracy(X_train,y_train,X_valid, y_valid,\n",
    "                                                                vectorizer= tvec,no_of_features=no_of_features,\n",
    "                                                                classifier=lr,stop_words = None,n_gram = (1,3))"
   ]
  },
  {
   "cell_type": "code",
   "execution_count": 49,
   "metadata": {},
   "outputs": [
    {
     "data": {
      "image/png": "[encoded data removed]",
      "text/plain": [
       "<Figure size 432x288 with 1 Axes>"
      ]
     },
     "metadata": {
      "needs_background": "light"
     },
     "output_type": "display_data"
    }
   ],
   "source": [
    "features_plot_with_tfidf_trigram_without_stopwords = pd.DataFrame(result_tfidf_trigram_without_stopwords,columns=['features','valid_accuracy','train_time'])\n",
    "plt.plot(features_plot_with_tfidf_trigram_without_stopwords['features'],\n",
    "         features_plot_with_tfidf_trigram_without_stopwords['valid_accuracy'],\n",
    "         label = 'Without Stopwords')\n",
    "plt.grid()\n",
    "plt.show()"
   ]
  },
  {
   "cell_type": "markdown",
   "metadata": {},
   "source": [
    "70000 features without stopwords removal and tfidf is the best accuracy for logistic regression"
   ]
  },
  {
   "cell_type": "markdown",
   "metadata": {},
   "source": [
    "### Comparison of various Classification Algorithm"
   ]
  },
  {
   "cell_type": "code",
   "execution_count": 51,
   "metadata": {},
   "outputs": [],
   "source": [
    "from sklearn.linear_model import LogisticRegression\n",
    "from sklearn.linear_model import RidgeClassifier\n",
    "from sklearn.linear_model import PassiveAggressiveClassifier\n",
    "from sklearn.svm import LinearSVC\n",
    "from sklearn.ensemble import AdaBoostClassifier, GradientBoostingClassifier\n",
    "#from lightgbm import LGBMClassifier\n",
    "#from xgboost import XGBClassifier\n",
    "#from catboost import Pool, CatBoostClassifier\n",
    "from sklearn.neighbors import NearestCentroid\n",
    "from sklearn.feature_selection import SelectFromModel\n",
    "from sklearn.naive_bayes import MultinomialNB, BernoulliNB\n"
   ]
  },
  {
   "cell_type": "code",
   "execution_count": null,
   "metadata": {},
   "outputs": [],
   "source": [
    "name = [\"Logistic Regression\",\n",
    "       ]"
   ]
  },
  {
   "cell_type": "code",
   "execution_count": null,
   "metadata": {},
   "outputs": [],
   "source": []
  }
 ],
 "metadata": {
  "kernelspec": {
   "display_name": "Python 3",
   "language": "python",
   "name": "python3"
  },
  "language_info": {
   "codemirror_mode": {
    "name": "ipython",
    "version": 3
   },
   "file_extension": ".py",
   "mimetype": "text/x-python",
   "name": "python",
   "nbconvert_exporter": "python",
   "pygments_lexer": "ipython3",
   "version": "3.6.8"
  }
 },
 "nbformat": 4,
 "nbformat_minor": 2
}
